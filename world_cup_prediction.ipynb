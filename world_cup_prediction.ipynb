{
 "cells": [
  {
   "cell_type": "markdown",
   "id": "e6e156c2",
   "metadata": {},
   "source": [
    "# World Cup Prediction Model\n",
    "### By: David Hoffman and Kyle Kolodziej"
   ]
  },
  {
   "cell_type": "markdown",
   "id": "048a9104",
   "metadata": {},
   "source": [
    "## Problem Definition"
   ]
  },
  {
   "cell_type": "markdown",
   "id": "cb5cadce",
   "metadata": {},
   "source": [
    "For this project we would like to take the most recent world cup data (including each team that is playing in the tournament and the different statistical evaluations for these teams) and use this data to predict a winner for the world cup.  The user will be able to change the teams and different statistical ratings for each team and the model will take this new data to predict a winenr.  "
   ]
  },
  {
   "cell_type": "markdown",
   "id": "28773945",
   "metadata": {},
   "source": [
    "## Data Gathering"
   ]
  },
  {
   "cell_type": "code",
   "execution_count": 1,
   "id": "b7402c01",
   "metadata": {},
   "outputs": [],
   "source": [
    "import pandas as pd\n",
    "import re\n",
    "import requests\n",
    "from bs4 import BeautifulSoup\n",
    "\n",
    "# Code on how to get data extracted from all the teams for all years on both pages of FIFA's International rankings\n",
    "data = pd.DataFrame(columns=['Year', 'Team', 'att', 'mid', 'def', 'ovr'])\n",
    "version = 0\n",
    "for fifa in range(5, 24):\n",
    "    toFind = True\n",
    "#     print(\"On fifa \", fifa)\n",
    "    while toFind:\n",
    "        version += 1\n",
    "        for page in range(2):\n",
    "            # https://www.fifaindex.com/teams/fifa22_527/?page=1&type=1\n",
    "            webAddress = \"\"\n",
    "            toCheck = \"\" # check matching version in responses title\n",
    "            if fifa < 10:\n",
    "                toCheck = '0' + str(fifa)\n",
    "                webAddress = 'https://www.fifaindex.com/teams/fifa0' + str(fifa) + '_' + str(version) + '/?page=' + str(page+1)+'&type=1'\n",
    "            elif fifa < 23:\n",
    "                toCheck = str(fifa)\n",
    "                webAddress = 'https://www.fifaindex.com/teams/fifa' + str(fifa) + '_' + str(version) + '/?page=' + str(page+1)+'&type=1'\n",
    "            else:\n",
    "                # Get current stats\n",
    "                toCheck = str(fifa - 1)\n",
    "                webAddress = 'https://www.fifaindex.com/teams/?page=' + str(page+1) + '&type=1'\n",
    "            r = requests.get(webAddress)\n",
    "\n",
    "            if r.status_code != 200:\n",
    "                #print(\"Error getting web address\")\n",
    "                version += 1\n",
    "                break\n",
    "                \n",
    "            soup = BeautifulSoup(r.content, 'html.parser')\n",
    "            \n",
    "            if toCheck not in str(soup.title):\n",
    "#                 print(\"not in title!\")\n",
    "#                 print(\"Title: \" + str(soup.title))\n",
    "#                 print(\"Fifa: \" + toCheck + \"\\n\")\n",
    "                break\n",
    "            else:\n",
    "                toFind = False\n",
    "            s = soup.find('table', class_='table table-striped table-teams')\n",
    "            content = s.find_all('td')\n",
    "            \n",
    "            year = 1999 + fifa # Need to update\n",
    "            team, attRate, midRate, defRate, ovrRate  = '', None, None, None, None\n",
    "            #textLines = []\n",
    "            i = 0\n",
    "            for line in content:\n",
    "                \n",
    "                if line.text != '' and line.text != 'International' and line.text != '\\n\\n' and line.text != \"Men's National\":\n",
    "                    # textLines was keeping track of all lines parsed, useful for seeing which index corresponds with an attribute\n",
    "                    # textLines.append(line)\n",
    "                    #print(\"Line: \\n\" + str(line) + \"\\n\")\n",
    "                    \n",
    "                    \n",
    "                    # Assign value to respective variable\n",
    "                    if i == 0:\n",
    "                        team = line.text\n",
    "                    elif i == 1:\n",
    "                        attRate = line.text\n",
    "                    elif i == 2:\n",
    "                        midRate = line.text\n",
    "                    elif i == 3:\n",
    "                        defRate = line.text\n",
    "                    elif i == 4:\n",
    "                        ovrRate = line.text\n",
    "                        df2 = pd.DataFrame({'Year': [year],\n",
    "                                'Team': [team],\n",
    "                                'att': [attRate],\n",
    "                                'mid': [midRate],\n",
    "                                'def': [defRate],\n",
    "                                'ovr': [ovrRate]})\n",
    "                        data = data.append(df2, ignore_index = True)\n",
    "\n",
    "                    # Update i\n",
    "                    # If i is at 5, reset to 0 as at the start of a new team in the content\n",
    "                    i += 1\n",
    "                    if i == 5:\n",
    "                        i = 0"
   ]
  },
  {
   "cell_type": "code",
   "execution_count": 2,
   "id": "ba7e89b5",
   "metadata": {},
   "outputs": [
    {
     "data": {
      "text/html": [
       "<div>\n",
       "<style scoped>\n",
       "    .dataframe tbody tr th:only-of-type {\n",
       "        vertical-align: middle;\n",
       "    }\n",
       "\n",
       "    .dataframe tbody tr th {\n",
       "        vertical-align: top;\n",
       "    }\n",
       "\n",
       "    .dataframe thead th {\n",
       "        text-align: right;\n",
       "    }\n",
       "</style>\n",
       "<table border=\"1\" class=\"dataframe\">\n",
       "  <thead>\n",
       "    <tr style=\"text-align: right;\">\n",
       "      <th></th>\n",
       "      <th>Year</th>\n",
       "      <th>Team</th>\n",
       "      <th>att</th>\n",
       "      <th>mid</th>\n",
       "      <th>def</th>\n",
       "      <th>ovr</th>\n",
       "    </tr>\n",
       "  </thead>\n",
       "  <tbody>\n",
       "    <tr>\n",
       "      <th>0</th>\n",
       "      <td>2004</td>\n",
       "      <td>France</td>\n",
       "      <td>94</td>\n",
       "      <td>89</td>\n",
       "      <td>84</td>\n",
       "      <td>88</td>\n",
       "    </tr>\n",
       "  </tbody>\n",
       "</table>\n",
       "</div>"
      ],
      "text/plain": [
       "   Year    Team att mid def ovr\n",
       "0  2004  France  94  89  84  88"
      ]
     },
     "execution_count": 2,
     "metadata": {},
     "output_type": "execute_result"
    }
   ],
   "source": [
    "data.head(1)"
   ]
  },
  {
   "cell_type": "markdown",
   "id": "9cbc4ec9",
   "metadata": {},
   "source": [
    "Nice got all the of the stats on each team from 2004"
   ]
  },
  {
   "cell_type": "markdown",
   "id": "bb296029",
   "metadata": {},
   "source": [
    "Fifa is missing some of the world cup teams so will need to impute them based off of world cup rankings\n",
    "* impute rankings from https://www.fifa.com/fifa-world-ranking"
   ]
  },
  {
   "cell_type": "code",
   "execution_count": 3,
   "id": "432a4ae0",
   "metadata": {},
   "outputs": [],
   "source": [
    "def parseFifaRankData(points, page_source, year):\n",
    "    # Function to parse a page on a Fifa Ranking page\n",
    "    # Inserts the Team Name along with their Points and Overall Rank for the respective year into the data frame points\n",
    "    # Points and Overall Rank will be normalized\n",
    "    \n",
    "    soup = BeautifulSoup(page_source, 'lxml')\n",
    "    s = soup.find_all('tr', class_='fc-ranking-item-full_rankingTableFullRow__1nbp7')\n",
    "    pointArr = []\n",
    "    rankArr = []\n",
    "    nameArr = []\n",
    "    yearArr = []\n",
    "    for line in s:\n",
    "        # Each line contains the container for a team\n",
    "        teamName = line.find('span', class_='d-none d-lg-block').text\n",
    "        nameArr.append(teamName)\n",
    "        teamPoints = line.find('div', class_=\"d-flex ff-mr-16\").text\n",
    "        pointArr.append(float(teamPoints))\n",
    "        teamRank = line.find('h6', class_=\"ff-m-0\").text\n",
    "        rankArr.append(float(teamRank))\n",
    "        yearArr.append(year)\n",
    "\n",
    "    # Normalize points and rank then add to the data frame\n",
    "    pointNorm = np.linalg.norm(pointArr)\n",
    "    normPointArr = pointArr/pointNorm\n",
    "    \n",
    "    rankNorm = np.linalg.norm(rankArr)\n",
    "    normRankArr = rankArr/rankNorm\n",
    "    \n",
    "    df2 = pd.DataFrame({'Year': yearArr,\n",
    "                    'Team': nameArr,\n",
    "                    'Points': normPointArr,\n",
    "                    'Rank': normRankArr})\n",
    "    points = points.append(df2, ignore_index = True)\n",
    "    return points\n",
    "        "
   ]
  },
  {
   "cell_type": "code",
   "execution_count": 4,
   "id": "b22e0351",
   "metadata": {},
   "outputs": [
    {
     "ename": "ModuleNotFoundError",
     "evalue": "No module named 'selenium'",
     "output_type": "error",
     "traceback": [
      "\u001b[1;31m---------------------------------------------------------------------------\u001b[0m",
      "\u001b[1;31mModuleNotFoundError\u001b[0m                       Traceback (most recent call last)",
      "\u001b[1;32m<ipython-input-4-9a1cb754adc9>\u001b[0m in \u001b[0;36m<module>\u001b[1;34m\u001b[0m\n\u001b[0;32m      2\u001b[0m \u001b[1;32mimport\u001b[0m \u001b[0mtime\u001b[0m\u001b[1;33m\u001b[0m\u001b[1;33m\u001b[0m\u001b[0m\n\u001b[0;32m      3\u001b[0m \u001b[1;32mfrom\u001b[0m \u001b[0mbs4\u001b[0m \u001b[1;32mimport\u001b[0m \u001b[0mBeautifulSoup\u001b[0m\u001b[1;33m\u001b[0m\u001b[1;33m\u001b[0m\u001b[0m\n\u001b[1;32m----> 4\u001b[1;33m \u001b[1;32mfrom\u001b[0m \u001b[0mselenium\u001b[0m \u001b[1;32mimport\u001b[0m \u001b[0mwebdriver\u001b[0m\u001b[1;33m\u001b[0m\u001b[1;33m\u001b[0m\u001b[0m\n\u001b[0m\u001b[0;32m      5\u001b[0m \u001b[1;32mimport\u001b[0m \u001b[0mnumpy\u001b[0m \u001b[1;32mas\u001b[0m \u001b[0mnp\u001b[0m\u001b[1;33m\u001b[0m\u001b[1;33m\u001b[0m\u001b[0m\n\u001b[0;32m      6\u001b[0m \u001b[1;33m\u001b[0m\u001b[0m\n",
      "\u001b[1;31mModuleNotFoundError\u001b[0m: No module named 'selenium'"
     ]
    }
   ],
   "source": [
    "# Need to use the driver: https://stackoverflow.com/questions/52687372/beautifulsoup-not-returning-complete-html-of-the-page\n",
    "import time\n",
    "from bs4 import BeautifulSoup\n",
    "from selenium import webdriver\n",
    "import numpy as np\n",
    "\n",
    "points = pd.DataFrame(columns=['Year', 'Team', 'Points', 'Rank'])\n",
    "\n",
    "url = \"https://www.fifa.com/fifa-world-ranking/men?dateId=id13603\"\n",
    "driver = webdriver.Chrome(executable_path=r\"C:/Users/Kyle/Downloads/chromedriver_win32/chromedriver.exe\")\n",
    "driver.get(url)\n",
    "time.sleep(3) #if you want to wait 3 seconds for the page to load\n",
    "driver.find_element_by_xpath(\"//button[@id='onetrust-accept-btn-handler']\").click()\n",
    "\n",
    "\n",
    "for year in range(2004, 2023):\n",
    "    # Get data of top 100 teams from 2004 to 2022 in February\n",
    "    date = 'Feb ' + str(year)\n",
    "    xPath = \"//button[@class='ff-dropdown_dropupContentButton__3WmBL' and contains(.,'\" + date + \"')]\"\n",
    "    driver.find_element_by_xpath(\"//div[@class='ff-dropdown_dropup__3DoLH null ']\").click()\n",
    "    driver.find_element_by_xpath(xPath).click() # click to this year\n",
    "    time.sleep(1) # wait for the page to load for 1 sec\n",
    "    points = parseFifaRankData(points, driver.page_source, year)\n",
    "    \n",
    "    driver.find_element_by_xpath(\"//div[@aria-label='Go to Page 2']\").click() # page 2\n",
    "    time.sleep(1) # wait for the page to load for 1 sec\n",
    "    points = parseFifaRankData(points, driver.page_source, year)\n"
   ]
  },
  {
   "cell_type": "code",
   "execution_count": 5,
   "id": "46b3324c",
   "metadata": {},
   "outputs": [
    {
     "ename": "NameError",
     "evalue": "name 'points' is not defined",
     "output_type": "error",
     "traceback": [
      "\u001b[1;31m---------------------------------------------------------------------------\u001b[0m",
      "\u001b[1;31mNameError\u001b[0m                                 Traceback (most recent call last)",
      "\u001b[1;32m<ipython-input-5-565e3359e5d6>\u001b[0m in \u001b[0;36m<module>\u001b[1;34m\u001b[0m\n\u001b[1;32m----> 1\u001b[1;33m \u001b[0mpoints\u001b[0m\u001b[1;33m.\u001b[0m\u001b[0mhead\u001b[0m\u001b[1;33m(\u001b[0m\u001b[1;36m1\u001b[0m\u001b[1;33m)\u001b[0m\u001b[1;33m\u001b[0m\u001b[1;33m\u001b[0m\u001b[0m\n\u001b[0m",
      "\u001b[1;31mNameError\u001b[0m: name 'points' is not defined"
     ]
    }
   ],
   "source": [
    "points.head(1)"
   ]
  },
  {
   "cell_type": "code",
   "execution_count": 6,
   "id": "93250fb3",
   "metadata": {},
   "outputs": [
    {
     "ename": "NameError",
     "evalue": "name 'points' is not defined",
     "output_type": "error",
     "traceback": [
      "\u001b[1;31m---------------------------------------------------------------------------\u001b[0m",
      "\u001b[1;31mNameError\u001b[0m                                 Traceback (most recent call last)",
      "\u001b[1;32m<ipython-input-6-6a2ee6d0457a>\u001b[0m in \u001b[0;36m<module>\u001b[1;34m\u001b[0m\n\u001b[1;32m----> 1\u001b[1;33m \u001b[0mpoints\u001b[0m\u001b[1;33m.\u001b[0m\u001b[0mtail\u001b[0m\u001b[1;33m(\u001b[0m\u001b[1;36m1\u001b[0m\u001b[1;33m)\u001b[0m\u001b[1;33m\u001b[0m\u001b[1;33m\u001b[0m\u001b[0m\n\u001b[0m",
      "\u001b[1;31mNameError\u001b[0m: name 'points' is not defined"
     ]
    }
   ],
   "source": [
    "points.tail(1)"
   ]
  },
  {
   "cell_type": "markdown",
   "id": "7d9616d4",
   "metadata": {},
   "source": [
    "Nice got all the points and rank in there with the teams (with points and rank normalized by year)"
   ]
  },
  {
   "cell_type": "markdown",
   "id": "6c671b89",
   "metadata": {},
   "source": [
    "## Align the Team Name's Syntax Between Points and Data"
   ]
  },
  {
   "cell_type": "code",
   "execution_count": 7,
   "id": "c32afa71",
   "metadata": {},
   "outputs": [
    {
     "ename": "NameError",
     "evalue": "name 'points' is not defined",
     "output_type": "error",
     "traceback": [
      "\u001b[1;31m---------------------------------------------------------------------------\u001b[0m",
      "\u001b[1;31mNameError\u001b[0m                                 Traceback (most recent call last)",
      "\u001b[1;32m<ipython-input-7-32a81f96c5ec>\u001b[0m in \u001b[0;36m<module>\u001b[1;34m\u001b[0m\n\u001b[1;32m----> 1\u001b[1;33m \u001b[0mpointsTeams\u001b[0m \u001b[1;33m=\u001b[0m \u001b[0mpoints\u001b[0m\u001b[1;33m[\u001b[0m\u001b[1;34m\"Team\"\u001b[0m\u001b[1;33m]\u001b[0m\u001b[1;33m.\u001b[0m\u001b[0munique\u001b[0m\u001b[1;33m(\u001b[0m\u001b[1;33m)\u001b[0m\u001b[1;33m\u001b[0m\u001b[1;33m\u001b[0m\u001b[0m\n\u001b[0m\u001b[0;32m      2\u001b[0m \u001b[0mdataTeams\u001b[0m \u001b[1;33m=\u001b[0m \u001b[0mdata\u001b[0m\u001b[1;33m[\u001b[0m\u001b[1;34m\"Team\"\u001b[0m\u001b[1;33m]\u001b[0m\u001b[1;33m.\u001b[0m\u001b[0munique\u001b[0m\u001b[1;33m(\u001b[0m\u001b[1;33m)\u001b[0m\u001b[1;33m\u001b[0m\u001b[1;33m\u001b[0m\u001b[0m\n\u001b[0;32m      3\u001b[0m \u001b[0mpointsTeamsNotInData\u001b[0m \u001b[1;33m=\u001b[0m \u001b[0mnp\u001b[0m\u001b[1;33m.\u001b[0m\u001b[0msetdiff1d\u001b[0m\u001b[1;33m(\u001b[0m\u001b[0mpointsTeams\u001b[0m\u001b[1;33m,\u001b[0m \u001b[0mdataTeams\u001b[0m\u001b[1;33m)\u001b[0m\u001b[1;33m\u001b[0m\u001b[1;33m\u001b[0m\u001b[0m\n\u001b[0;32m      4\u001b[0m \u001b[0mdataTeamsNotInPoints\u001b[0m \u001b[1;33m=\u001b[0m \u001b[0mnp\u001b[0m\u001b[1;33m.\u001b[0m\u001b[0msetdiff1d\u001b[0m\u001b[1;33m(\u001b[0m\u001b[0mdataTeams\u001b[0m\u001b[1;33m,\u001b[0m \u001b[0mpointsTeams\u001b[0m\u001b[1;33m)\u001b[0m\u001b[1;33m\u001b[0m\u001b[1;33m\u001b[0m\u001b[0m\n",
      "\u001b[1;31mNameError\u001b[0m: name 'points' is not defined"
     ]
    }
   ],
   "source": [
    "pointsTeams = points[\"Team\"].unique()\n",
    "dataTeams = data[\"Team\"].unique()\n",
    "pointsTeamsNotInData = np.setdiff1d(pointsTeams, dataTeams)\n",
    "dataTeamsNotInPoints = np.setdiff1d(dataTeams, pointsTeams)"
   ]
  },
  {
   "cell_type": "code",
   "execution_count": 8,
   "id": "fd46b320",
   "metadata": {},
   "outputs": [
    {
     "ename": "NameError",
     "evalue": "name 'pointsTeamsNotInData' is not defined",
     "output_type": "error",
     "traceback": [
      "\u001b[1;31m---------------------------------------------------------------------------\u001b[0m",
      "\u001b[1;31mNameError\u001b[0m                                 Traceback (most recent call last)",
      "\u001b[1;32m<ipython-input-8-a8c1fd3f94d2>\u001b[0m in \u001b[0;36m<module>\u001b[1;34m\u001b[0m\n\u001b[1;32m----> 1\u001b[1;33m \u001b[0mpointsTeamsNotInData\u001b[0m\u001b[1;33m\u001b[0m\u001b[1;33m\u001b[0m\u001b[0m\n\u001b[0m",
      "\u001b[1;31mNameError\u001b[0m: name 'pointsTeamsNotInData' is not defined"
     ]
    }
   ],
   "source": [
    "pointsTeamsNotInData"
   ]
  },
  {
   "cell_type": "code",
   "execution_count": 9,
   "id": "43fea80f",
   "metadata": {},
   "outputs": [
    {
     "ename": "NameError",
     "evalue": "name 'dataTeamsNotInPoints' is not defined",
     "output_type": "error",
     "traceback": [
      "\u001b[1;31m---------------------------------------------------------------------------\u001b[0m",
      "\u001b[1;31mNameError\u001b[0m                                 Traceback (most recent call last)",
      "\u001b[1;32m<ipython-input-9-9e10b7182d16>\u001b[0m in \u001b[0;36m<module>\u001b[1;34m\u001b[0m\n\u001b[1;32m----> 1\u001b[1;33m \u001b[0mdataTeamsNotInPoints\u001b[0m\u001b[1;33m\u001b[0m\u001b[1;33m\u001b[0m\u001b[0m\n\u001b[0m",
      "\u001b[1;31mNameError\u001b[0m: name 'dataTeamsNotInPoints' is not defined"
     ]
    }
   ],
   "source": [
    "dataTeamsNotInPoints"
   ]
  },
  {
   "cell_type": "code",
   "execution_count": 10,
   "id": "582fca90",
   "metadata": {},
   "outputs": [
    {
     "ename": "NameError",
     "evalue": "name 'pointsTeams' is not defined",
     "output_type": "error",
     "traceback": [
      "\u001b[1;31m---------------------------------------------------------------------------\u001b[0m",
      "\u001b[1;31mNameError\u001b[0m                                 Traceback (most recent call last)",
      "\u001b[1;32m<ipython-input-10-d582136d464d>\u001b[0m in \u001b[0;36m<module>\u001b[1;34m\u001b[0m\n\u001b[1;32m----> 1\u001b[1;33m \u001b[0mpointsTeams\u001b[0m\u001b[1;33m.\u001b[0m\u001b[0msort\u001b[0m\u001b[1;33m(\u001b[0m\u001b[1;33m)\u001b[0m\u001b[1;33m\u001b[0m\u001b[1;33m\u001b[0m\u001b[0m\n\u001b[0m\u001b[0;32m      2\u001b[0m \u001b[0mpointsTeams\u001b[0m\u001b[1;33m\u001b[0m\u001b[1;33m\u001b[0m\u001b[0m\n",
      "\u001b[1;31mNameError\u001b[0m: name 'pointsTeams' is not defined"
     ]
    }
   ],
   "source": [
    "pointsTeams.sort()\n",
    "pointsTeams"
   ]
  },
  {
   "cell_type": "code",
   "execution_count": 11,
   "id": "86abae0b",
   "metadata": {},
   "outputs": [
    {
     "ename": "NameError",
     "evalue": "name 'dataTeams' is not defined",
     "output_type": "error",
     "traceback": [
      "\u001b[1;31m---------------------------------------------------------------------------\u001b[0m",
      "\u001b[1;31mNameError\u001b[0m                                 Traceback (most recent call last)",
      "\u001b[1;32m<ipython-input-11-6d93c16fc179>\u001b[0m in \u001b[0;36m<module>\u001b[1;34m\u001b[0m\n\u001b[1;32m----> 1\u001b[1;33m \u001b[0mdataTeams\u001b[0m\u001b[1;33m.\u001b[0m\u001b[0msort\u001b[0m\u001b[1;33m(\u001b[0m\u001b[1;33m)\u001b[0m\u001b[1;33m\u001b[0m\u001b[1;33m\u001b[0m\u001b[0m\n\u001b[0m\u001b[0;32m      2\u001b[0m \u001b[0mdataTeams\u001b[0m\u001b[1;33m\u001b[0m\u001b[1;33m\u001b[0m\u001b[0m\n",
      "\u001b[1;31mNameError\u001b[0m: name 'dataTeams' is not defined"
     ]
    }
   ],
   "source": [
    "dataTeams.sort()\n",
    "dataTeams"
   ]
  },
  {
   "cell_type": "markdown",
   "id": "c8c2b95f",
   "metadata": {},
   "source": [
    "Team names to change in data...\n",
    "* Austria (National team) --> Austria\n",
    "* Holland --> Netherlands\n",
    "* Rep. Of Korea --> Korea Republic\n",
    "* United States --> USA\n",
    "* Republic Of Ireland --> Republic of Ireland\n",
    "\n",
    "Team names to change in points...\n",
    "* Korea DPR --> Korea Republic"
   ]
  },
  {
   "cell_type": "code",
   "execution_count": 12,
   "id": "eeae3e4f",
   "metadata": {},
   "outputs": [
    {
     "ename": "NameError",
     "evalue": "name 'points' is not defined",
     "output_type": "error",
     "traceback": [
      "\u001b[1;31m---------------------------------------------------------------------------\u001b[0m",
      "\u001b[1;31mNameError\u001b[0m                                 Traceback (most recent call last)",
      "\u001b[1;32m<ipython-input-12-9348dfc9c796>\u001b[0m in \u001b[0;36m<module>\u001b[1;34m\u001b[0m\n\u001b[0;32m      4\u001b[0m \u001b[0mdata\u001b[0m\u001b[1;33m.\u001b[0m\u001b[0mloc\u001b[0m\u001b[1;33m[\u001b[0m\u001b[0mdata\u001b[0m\u001b[1;33m[\u001b[0m\u001b[1;34m\"Team\"\u001b[0m\u001b[1;33m]\u001b[0m \u001b[1;33m==\u001b[0m \u001b[1;34m\"United States\"\u001b[0m\u001b[1;33m,\u001b[0m \u001b[1;34m\"Team\"\u001b[0m\u001b[1;33m]\u001b[0m \u001b[1;33m=\u001b[0m \u001b[1;34m\"USA\"\u001b[0m\u001b[1;33m\u001b[0m\u001b[1;33m\u001b[0m\u001b[0m\n\u001b[0;32m      5\u001b[0m \u001b[0mdata\u001b[0m\u001b[1;33m.\u001b[0m\u001b[0mloc\u001b[0m\u001b[1;33m[\u001b[0m\u001b[0mdata\u001b[0m\u001b[1;33m[\u001b[0m\u001b[1;34m\"Team\"\u001b[0m\u001b[1;33m]\u001b[0m \u001b[1;33m==\u001b[0m \u001b[1;34m\"Republic Of Ireland\"\u001b[0m\u001b[1;33m,\u001b[0m \u001b[1;34m\"Team\"\u001b[0m\u001b[1;33m]\u001b[0m \u001b[1;33m=\u001b[0m \u001b[1;34m\"Republic of Ireland\"\u001b[0m\u001b[1;33m\u001b[0m\u001b[1;33m\u001b[0m\u001b[0m\n\u001b[1;32m----> 6\u001b[1;33m \u001b[0mpoints\u001b[0m\u001b[1;33m.\u001b[0m\u001b[0mloc\u001b[0m\u001b[1;33m[\u001b[0m\u001b[0mpoints\u001b[0m\u001b[1;33m[\u001b[0m\u001b[1;34m\"Team\"\u001b[0m\u001b[1;33m]\u001b[0m \u001b[1;33m==\u001b[0m \u001b[1;34m\"Korea DPR\"\u001b[0m\u001b[1;33m,\u001b[0m \u001b[1;34m\"Team\"\u001b[0m\u001b[1;33m]\u001b[0m \u001b[1;33m=\u001b[0m \u001b[1;34m\"Korea Republic\"\u001b[0m\u001b[1;33m\u001b[0m\u001b[1;33m\u001b[0m\u001b[0m\n\u001b[0m",
      "\u001b[1;31mNameError\u001b[0m: name 'points' is not defined"
     ]
    }
   ],
   "source": [
    "data.loc[data[\"Team\"] == \"Austria (National team)\", \"Team\"] = \"Austria\"\n",
    "data.loc[data[\"Team\"] == \"Holland\", \"Team\"] = \"Netherlands\"\n",
    "data.loc[data[\"Team\"] == \"Rep. Of Korea\", \"Team\"] = \"Korea Republic\"\n",
    "data.loc[data[\"Team\"] == \"United States\", \"Team\"] = \"USA\"\n",
    "data.loc[data[\"Team\"] == \"Republic Of Ireland\", \"Team\"] = \"Republic of Ireland\"\n",
    "points.loc[points[\"Team\"] == \"Korea DPR\", \"Team\"] = \"Korea Republic\""
   ]
  },
  {
   "cell_type": "markdown",
   "id": "a856ccca",
   "metadata": {},
   "source": [
    "## Impute Each Team's OVR"
   ]
  },
  {
   "cell_type": "markdown",
   "id": "2e7cbd59",
   "metadata": {},
   "source": [
    "* Merge the data frames points and data on Year and Team\n",
    "* Drop the NaN's\n",
    "* Drop the columns Team, att, mid, def\n",
    "* OHE the years\n",
    "\n",
    "Now would be able to train/test split for imputing...\n",
    "* y = ovr\n",
    "* x = everything else (year OHE, points, rank)\n"
   ]
  },
  {
   "cell_type": "code",
   "execution_count": 13,
   "id": "184eaea7",
   "metadata": {},
   "outputs": [
    {
     "ename": "NameError",
     "evalue": "name 'points' is not defined",
     "output_type": "error",
     "traceback": [
      "\u001b[1;31m---------------------------------------------------------------------------\u001b[0m",
      "\u001b[1;31mNameError\u001b[0m                                 Traceback (most recent call last)",
      "\u001b[1;32m<ipython-input-13-0ce15bdc869d>\u001b[0m in \u001b[0;36m<module>\u001b[1;34m\u001b[0m\n\u001b[1;32m----> 1\u001b[1;33m \u001b[0mdataToImpute\u001b[0m \u001b[1;33m=\u001b[0m \u001b[0mpd\u001b[0m\u001b[1;33m.\u001b[0m\u001b[0mmerge\u001b[0m\u001b[1;33m(\u001b[0m\u001b[0mpoints\u001b[0m\u001b[1;33m,\u001b[0m \u001b[0mdata\u001b[0m\u001b[1;33m,\u001b[0m \u001b[0mhow\u001b[0m\u001b[1;33m=\u001b[0m\u001b[1;34m'left'\u001b[0m\u001b[1;33m,\u001b[0m \u001b[0mon\u001b[0m\u001b[1;33m=\u001b[0m\u001b[1;33m[\u001b[0m\u001b[1;34m'Year'\u001b[0m\u001b[1;33m,\u001b[0m\u001b[1;34m'Team'\u001b[0m\u001b[1;33m]\u001b[0m\u001b[1;33m)\u001b[0m\u001b[1;33m\u001b[0m\u001b[1;33m\u001b[0m\u001b[0m\n\u001b[0m\u001b[0;32m      2\u001b[0m \u001b[0mdataToImpute\u001b[0m \u001b[1;33m=\u001b[0m \u001b[0mdataToImpute\u001b[0m\u001b[1;33m.\u001b[0m\u001b[0mdropna\u001b[0m\u001b[1;33m(\u001b[0m\u001b[1;33m)\u001b[0m\u001b[1;33m\u001b[0m\u001b[1;33m\u001b[0m\u001b[0m\n\u001b[0;32m      3\u001b[0m \u001b[0mdataToImpute\u001b[0m\u001b[1;33m.\u001b[0m\u001b[0mhead\u001b[0m\u001b[1;33m(\u001b[0m\u001b[1;36m5\u001b[0m\u001b[1;33m)\u001b[0m\u001b[1;33m\u001b[0m\u001b[1;33m\u001b[0m\u001b[0m\n",
      "\u001b[1;31mNameError\u001b[0m: name 'points' is not defined"
     ]
    }
   ],
   "source": [
    "dataToImpute = pd.merge(points, data, how='left', on=['Year','Team'])\n",
    "dataToImpute = dataToImpute.dropna()\n",
    "dataToImpute.head(5)"
   ]
  },
  {
   "cell_type": "code",
   "execution_count": 14,
   "id": "64c5d3ca",
   "metadata": {},
   "outputs": [
    {
     "ename": "NameError",
     "evalue": "name 'dataToImpute' is not defined",
     "output_type": "error",
     "traceback": [
      "\u001b[1;31m---------------------------------------------------------------------------\u001b[0m",
      "\u001b[1;31mNameError\u001b[0m                                 Traceback (most recent call last)",
      "\u001b[1;32m<ipython-input-14-b8f5690564ae>\u001b[0m in \u001b[0;36m<module>\u001b[1;34m\u001b[0m\n\u001b[0;32m      1\u001b[0m \u001b[1;31m# Drop the columns\u001b[0m\u001b[1;33m\u001b[0m\u001b[1;33m\u001b[0m\u001b[1;33m\u001b[0m\u001b[0m\n\u001b[1;32m----> 2\u001b[1;33m \u001b[0mdataToImpute\u001b[0m \u001b[1;33m=\u001b[0m \u001b[0mdataToImpute\u001b[0m\u001b[1;33m.\u001b[0m\u001b[0mdrop\u001b[0m\u001b[1;33m(\u001b[0m\u001b[0mcolumns\u001b[0m\u001b[1;33m=\u001b[0m\u001b[1;33m[\u001b[0m\u001b[1;34m'Team'\u001b[0m\u001b[1;33m,\u001b[0m \u001b[1;34m'att'\u001b[0m\u001b[1;33m,\u001b[0m \u001b[1;34m'mid'\u001b[0m\u001b[1;33m,\u001b[0m \u001b[1;34m'def'\u001b[0m\u001b[1;33m]\u001b[0m\u001b[1;33m)\u001b[0m\u001b[1;33m\u001b[0m\u001b[1;33m\u001b[0m\u001b[0m\n\u001b[0m\u001b[0;32m      3\u001b[0m \u001b[0mdataToImpute\u001b[0m\u001b[1;33m.\u001b[0m\u001b[0mhead\u001b[0m\u001b[1;33m(\u001b[0m\u001b[1;36m1\u001b[0m\u001b[1;33m)\u001b[0m\u001b[1;33m\u001b[0m\u001b[1;33m\u001b[0m\u001b[0m\n",
      "\u001b[1;31mNameError\u001b[0m: name 'dataToImpute' is not defined"
     ]
    }
   ],
   "source": [
    "# Drop the columns\n",
    "dataToImpute = dataToImpute.drop(columns=['Team', 'att', 'mid', 'def'])\n",
    "dataToImpute.head(1)"
   ]
  },
  {
   "cell_type": "code",
   "execution_count": 15,
   "id": "b42feae9",
   "metadata": {},
   "outputs": [
    {
     "ename": "NameError",
     "evalue": "name 'dataToImpute' is not defined",
     "output_type": "error",
     "traceback": [
      "\u001b[1;31m---------------------------------------------------------------------------\u001b[0m",
      "\u001b[1;31mNameError\u001b[0m                                 Traceback (most recent call last)",
      "\u001b[1;32m<ipython-input-15-6332653b1f61>\u001b[0m in \u001b[0;36m<module>\u001b[1;34m\u001b[0m\n\u001b[1;32m----> 1\u001b[1;33m \u001b[0mlen\u001b[0m\u001b[1;33m(\u001b[0m\u001b[0mdataToImpute\u001b[0m\u001b[1;33m)\u001b[0m\u001b[1;33m\u001b[0m\u001b[1;33m\u001b[0m\u001b[0m\n\u001b[0m",
      "\u001b[1;31mNameError\u001b[0m: name 'dataToImpute' is not defined"
     ]
    }
   ],
   "source": [
    "len(dataToImpute)"
   ]
  },
  {
   "cell_type": "code",
   "execution_count": 16,
   "id": "0c195f1d",
   "metadata": {},
   "outputs": [
    {
     "ename": "NameError",
     "evalue": "name 'dataToImpute' is not defined",
     "output_type": "error",
     "traceback": [
      "\u001b[1;31m---------------------------------------------------------------------------\u001b[0m",
      "\u001b[1;31mNameError\u001b[0m                                 Traceback (most recent call last)",
      "\u001b[1;32m<ipython-input-16-9cebeaaf7e1b>\u001b[0m in \u001b[0;36m<module>\u001b[1;34m\u001b[0m\n\u001b[1;32m----> 1\u001b[1;33m \u001b[0mohe_data\u001b[0m \u001b[1;33m=\u001b[0m \u001b[0mpd\u001b[0m\u001b[1;33m.\u001b[0m\u001b[0mget_dummies\u001b[0m\u001b[1;33m(\u001b[0m\u001b[0mdataToImpute\u001b[0m\u001b[1;33m,\u001b[0m \u001b[0mcolumns\u001b[0m \u001b[1;33m=\u001b[0m \u001b[1;33m[\u001b[0m\u001b[1;34m'Year'\u001b[0m\u001b[1;33m]\u001b[0m\u001b[1;33m)\u001b[0m\u001b[1;33m\u001b[0m\u001b[1;33m\u001b[0m\u001b[0m\n\u001b[0m\u001b[0;32m      2\u001b[0m \u001b[0mohe_data\u001b[0m\u001b[1;33m[\u001b[0m\u001b[1;34m\"Year\"\u001b[0m\u001b[1;33m]\u001b[0m \u001b[1;33m=\u001b[0m \u001b[0mdataToImpute\u001b[0m\u001b[1;33m[\u001b[0m\u001b[1;34m\"Year\"\u001b[0m\u001b[1;33m]\u001b[0m\u001b[1;33m\u001b[0m\u001b[1;33m\u001b[0m\u001b[0m\n\u001b[0;32m      3\u001b[0m \u001b[0mohe_data\u001b[0m\u001b[1;33m.\u001b[0m\u001b[0mhead\u001b[0m\u001b[1;33m(\u001b[0m\u001b[1;36m3\u001b[0m\u001b[1;33m)\u001b[0m\u001b[1;33m\u001b[0m\u001b[1;33m\u001b[0m\u001b[0m\n",
      "\u001b[1;31mNameError\u001b[0m: name 'dataToImpute' is not defined"
     ]
    }
   ],
   "source": [
    "ohe_data = pd.get_dummies(dataToImpute, columns = ['Year'])\n",
    "ohe_data[\"Year\"] = dataToImpute[\"Year\"]\n",
    "ohe_data.head(3)"
   ]
  },
  {
   "cell_type": "code",
   "execution_count": 17,
   "id": "d0c9dde2",
   "metadata": {},
   "outputs": [
    {
     "ename": "NameError",
     "evalue": "name 'ohe_data' is not defined",
     "output_type": "error",
     "traceback": [
      "\u001b[1;31m---------------------------------------------------------------------------\u001b[0m",
      "\u001b[1;31mNameError\u001b[0m                                 Traceback (most recent call last)",
      "\u001b[1;32m<ipython-input-17-33ab1b244405>\u001b[0m in \u001b[0;36m<module>\u001b[1;34m\u001b[0m\n\u001b[1;32m----> 1\u001b[1;33m \u001b[0mohe_data\u001b[0m\u001b[1;33m.\u001b[0m\u001b[0mtail\u001b[0m\u001b[1;33m(\u001b[0m\u001b[1;36m3\u001b[0m\u001b[1;33m)\u001b[0m\u001b[1;33m\u001b[0m\u001b[1;33m\u001b[0m\u001b[0m\n\u001b[0m",
      "\u001b[1;31mNameError\u001b[0m: name 'ohe_data' is not defined"
     ]
    }
   ],
   "source": [
    "ohe_data.tail(3)"
   ]
  },
  {
   "cell_type": "code",
   "execution_count": null,
   "id": "29a058fa",
   "metadata": {},
   "outputs": [],
   "source": []
  },
  {
   "cell_type": "markdown",
   "id": "801fb7f3",
   "metadata": {},
   "source": [
    "## Predict the Overall"
   ]
  },
  {
   "cell_type": "markdown",
   "id": "9ee96806",
   "metadata": {},
   "source": [
    "Start with a train test split, stratifying on the years"
   ]
  },
  {
   "cell_type": "code",
   "execution_count": 18,
   "id": "f453f944",
   "metadata": {},
   "outputs": [
    {
     "ename": "NameError",
     "evalue": "name 'ohe_data' is not defined",
     "output_type": "error",
     "traceback": [
      "\u001b[1;31m---------------------------------------------------------------------------\u001b[0m",
      "\u001b[1;31mNameError\u001b[0m                                 Traceback (most recent call last)",
      "\u001b[1;32m<ipython-input-18-41282528f0c9>\u001b[0m in \u001b[0;36m<module>\u001b[1;34m\u001b[0m\n\u001b[0;32m      1\u001b[0m \u001b[1;32mfrom\u001b[0m \u001b[0msklearn\u001b[0m\u001b[1;33m.\u001b[0m\u001b[0mmodel_selection\u001b[0m \u001b[1;32mimport\u001b[0m \u001b[0mtrain_test_split\u001b[0m\u001b[1;33m\u001b[0m\u001b[1;33m\u001b[0m\u001b[0m\n\u001b[1;32m----> 2\u001b[1;33m \u001b[0mX\u001b[0m \u001b[1;33m=\u001b[0m \u001b[0mohe_data\u001b[0m\u001b[1;33m.\u001b[0m\u001b[0mdrop\u001b[0m\u001b[1;33m(\u001b[0m\u001b[0mcolumns\u001b[0m\u001b[1;33m=\u001b[0m\u001b[1;33m[\u001b[0m\u001b[1;34m'ovr'\u001b[0m\u001b[1;33m,\u001b[0m \u001b[1;34m'Year'\u001b[0m\u001b[1;33m]\u001b[0m\u001b[1;33m)\u001b[0m\u001b[1;33m\u001b[0m\u001b[1;33m\u001b[0m\u001b[0m\n\u001b[0m\u001b[0;32m      3\u001b[0m \u001b[0my\u001b[0m \u001b[1;33m=\u001b[0m \u001b[0mohe_data\u001b[0m\u001b[1;33m[\u001b[0m\u001b[1;34m'ovr'\u001b[0m\u001b[1;33m]\u001b[0m\u001b[1;33m\u001b[0m\u001b[1;33m\u001b[0m\u001b[0m\n\u001b[0;32m      4\u001b[0m \u001b[0mX_train\u001b[0m\u001b[1;33m,\u001b[0m \u001b[0mX_test\u001b[0m\u001b[1;33m,\u001b[0m \u001b[0my_train\u001b[0m\u001b[1;33m,\u001b[0m \u001b[0my_test\u001b[0m \u001b[1;33m=\u001b[0m \u001b[0mtrain_test_split\u001b[0m\u001b[1;33m(\u001b[0m\u001b[0mX\u001b[0m\u001b[1;33m,\u001b[0m \u001b[0my\u001b[0m\u001b[1;33m,\u001b[0m \u001b[0mtest_size\u001b[0m\u001b[1;33m=\u001b[0m\u001b[1;36m0.2\u001b[0m\u001b[1;33m,\u001b[0m \u001b[0mstratify\u001b[0m\u001b[1;33m=\u001b[0m\u001b[0mohe_data\u001b[0m\u001b[1;33m.\u001b[0m\u001b[0mYear\u001b[0m\u001b[1;33m)\u001b[0m\u001b[1;33m\u001b[0m\u001b[1;33m\u001b[0m\u001b[0m\n",
      "\u001b[1;31mNameError\u001b[0m: name 'ohe_data' is not defined"
     ]
    }
   ],
   "source": [
    "from sklearn.model_selection import train_test_split\n",
    "X = ohe_data.drop(columns=['ovr', 'Year'])\n",
    "y = ohe_data['ovr']\n",
    "X_train, X_test, y_train, y_test = train_test_split(X, y, test_size=0.2, stratify=ohe_data.Year)"
   ]
  },
  {
   "cell_type": "code",
   "execution_count": null,
   "id": "22e9ac07",
   "metadata": {},
   "outputs": [],
   "source": [
    "from sklearn.linear_model import LinearRegression\n",
    "from sklearn.metrics import mean_squared_error\n",
    "lm = LinearRegression()\n",
    "lm.fit(X_train,y_train)\n",
    "lm_predictions = lm.predict(X_test)\n",
    "\n",
    "lin_mse = mean_squared_error(y_test, lm_predictions)\n",
    "lin_rmse = np.sqrt(lin_mse)\n",
    "lin_rmse"
   ]
  },
  {
   "cell_type": "markdown",
   "id": "2e4789a3",
   "metadata": {},
   "source": [
    "Not too bad, overall is off by a little over 3 on average with the linear regression model\n",
    "\n",
    "Let's do a regression tree next"
   ]
  },
  {
   "cell_type": "code",
   "execution_count": null,
   "id": "da355880",
   "metadata": {},
   "outputs": [],
   "source": [
    "from sklearn.tree import DecisionTreeRegressor\n",
    "\n",
    "tree_reg = DecisionTreeRegressor()\n",
    "tree_reg.fit(X_train, y_train)\n",
    "tree_predictions = tree_reg.predict(X_test)\n",
    "tree_mse = mean_squared_error(y_test, tree_predictions)\n",
    "tree_rmse = np.sqrt(tree_mse)\n",
    "tree_rmse"
   ]
  },
  {
   "cell_type": "markdown",
   "id": "07dba103",
   "metadata": {},
   "source": [
    "Decision tree regressor performs a little worse than the linear regression\n",
    "\n",
    "Now let's try a random forest regressor"
   ]
  },
  {
   "cell_type": "code",
   "execution_count": null,
   "id": "002b1d1f",
   "metadata": {},
   "outputs": [],
   "source": [
    "from sklearn.ensemble import RandomForestRegressor\n",
    "forest_reg = RandomForestRegressor()\n",
    "forest_reg.fit(X_train, y_train)\n",
    "forest_predictions = forest_reg.predict(X_test)\n",
    "forest_mse = mean_squared_error(y_test, forest_predictions)\n",
    "forest_rmse = np.sqrt(forest_mse)\n",
    "forest_rmse"
   ]
  },
  {
   "cell_type": "markdown",
   "id": "d476b4bf",
   "metadata": {},
   "source": [
    "Random forest regressor performs even better...nice!"
   ]
  },
  {
   "cell_type": "markdown",
   "id": "f159a243",
   "metadata": {},
   "source": [
    "## Using Random Forest Regressor Model to Predict the Overall's"
   ]
  },
  {
   "cell_type": "code",
   "execution_count": 19,
   "id": "f3d32151",
   "metadata": {},
   "outputs": [
    {
     "ename": "NameError",
     "evalue": "name 'points' is not defined",
     "output_type": "error",
     "traceback": [
      "\u001b[1;31m---------------------------------------------------------------------------\u001b[0m",
      "\u001b[1;31mNameError\u001b[0m                                 Traceback (most recent call last)",
      "\u001b[1;32m<ipython-input-19-1c92daa6b5b6>\u001b[0m in \u001b[0;36m<module>\u001b[1;34m\u001b[0m\n\u001b[1;32m----> 1\u001b[1;33m \u001b[0mpoints\u001b[0m\u001b[1;33m.\u001b[0m\u001b[0mhead\u001b[0m\u001b[1;33m(\u001b[0m\u001b[1;36m5\u001b[0m\u001b[1;33m)\u001b[0m\u001b[1;33m\u001b[0m\u001b[1;33m\u001b[0m\u001b[0m\n\u001b[0m",
      "\u001b[1;31mNameError\u001b[0m: name 'points' is not defined"
     ]
    }
   ],
   "source": [
    "points.head(5)"
   ]
  },
  {
   "cell_type": "code",
   "execution_count": 20,
   "id": "c3818baa",
   "metadata": {},
   "outputs": [
    {
     "ename": "NameError",
     "evalue": "name 'points' is not defined",
     "output_type": "error",
     "traceback": [
      "\u001b[1;31m---------------------------------------------------------------------------\u001b[0m",
      "\u001b[1;31mNameError\u001b[0m                                 Traceback (most recent call last)",
      "\u001b[1;32m<ipython-input-20-ff71169967c7>\u001b[0m in \u001b[0;36m<module>\u001b[1;34m\u001b[0m\n\u001b[1;32m----> 1\u001b[1;33m \u001b[0mimputedOveralls\u001b[0m \u001b[1;33m=\u001b[0m \u001b[0mpoints\u001b[0m\u001b[1;33m.\u001b[0m\u001b[0mcopy\u001b[0m\u001b[1;33m(\u001b[0m\u001b[1;33m)\u001b[0m\u001b[1;33m\u001b[0m\u001b[1;33m\u001b[0m\u001b[0m\n\u001b[0m\u001b[0;32m      2\u001b[0m \u001b[0mimputedOveralls\u001b[0m \u001b[1;33m=\u001b[0m \u001b[0mpd\u001b[0m\u001b[1;33m.\u001b[0m\u001b[0mget_dummies\u001b[0m\u001b[1;33m(\u001b[0m\u001b[0mimputedOveralls\u001b[0m\u001b[1;33m,\u001b[0m \u001b[0mcolumns\u001b[0m \u001b[1;33m=\u001b[0m \u001b[1;33m[\u001b[0m\u001b[1;34m'Year'\u001b[0m\u001b[1;33m]\u001b[0m\u001b[1;33m)\u001b[0m\u001b[1;33m\u001b[0m\u001b[1;33m\u001b[0m\u001b[0m\n\u001b[0;32m      3\u001b[0m \u001b[1;33m\u001b[0m\u001b[0m\n\u001b[0;32m      4\u001b[0m \u001b[0mxImpute\u001b[0m \u001b[1;33m=\u001b[0m \u001b[0mimputedOveralls\u001b[0m\u001b[1;33m.\u001b[0m\u001b[0mdrop\u001b[0m\u001b[1;33m(\u001b[0m\u001b[0mcolumns\u001b[0m\u001b[1;33m=\u001b[0m\u001b[1;33m[\u001b[0m\u001b[1;34m'Team'\u001b[0m\u001b[1;33m]\u001b[0m\u001b[1;33m)\u001b[0m\u001b[1;33m\u001b[0m\u001b[1;33m\u001b[0m\u001b[0m\n\u001b[0;32m      5\u001b[0m \u001b[1;33m\u001b[0m\u001b[0m\n",
      "\u001b[1;31mNameError\u001b[0m: name 'points' is not defined"
     ]
    }
   ],
   "source": [
    "imputedOveralls = points.copy()\n",
    "imputedOveralls = pd.get_dummies(imputedOveralls, columns = ['Year'])\n",
    "\n",
    "xImpute = imputedOveralls.drop(columns=['Team'])\n",
    "\n",
    "overall_predictions = forest_reg.predict(xImpute)\n",
    "overall_predictions = np.round(overall_predictions)\n",
    "overall_predictions"
   ]
  },
  {
   "cell_type": "code",
   "execution_count": 21,
   "id": "b76bacc5",
   "metadata": {},
   "outputs": [
    {
     "ename": "NameError",
     "evalue": "name 'overall_predictions' is not defined",
     "output_type": "error",
     "traceback": [
      "\u001b[1;31m---------------------------------------------------------------------------\u001b[0m",
      "\u001b[1;31mNameError\u001b[0m                                 Traceback (most recent call last)",
      "\u001b[1;32m<ipython-input-21-3785de5a15cd>\u001b[0m in \u001b[0;36m<module>\u001b[1;34m\u001b[0m\n\u001b[1;32m----> 1\u001b[1;33m \u001b[0mpoints\u001b[0m\u001b[1;33m[\u001b[0m\u001b[1;34m'ovr'\u001b[0m\u001b[1;33m]\u001b[0m \u001b[1;33m=\u001b[0m \u001b[0moverall_predictions\u001b[0m\u001b[1;33m.\u001b[0m\u001b[0mastype\u001b[0m\u001b[1;33m(\u001b[0m\u001b[0mint\u001b[0m\u001b[1;33m)\u001b[0m\u001b[1;33m\u001b[0m\u001b[1;33m\u001b[0m\u001b[0m\n\u001b[0m\u001b[0;32m      2\u001b[0m \u001b[0mpoints\u001b[0m\u001b[1;33m.\u001b[0m\u001b[0mhead\u001b[0m\u001b[1;33m(\u001b[0m\u001b[1;36m2\u001b[0m\u001b[1;33m)\u001b[0m\u001b[1;33m\u001b[0m\u001b[1;33m\u001b[0m\u001b[0m\n",
      "\u001b[1;31mNameError\u001b[0m: name 'overall_predictions' is not defined"
     ]
    }
   ],
   "source": [
    "points['ovr'] = overall_predictions.astype(int)\n",
    "points.head(2)"
   ]
  },
  {
   "cell_type": "markdown",
   "id": "0efe0520",
   "metadata": {},
   "source": [
    "## Using LM To Predict Points Overall"
   ]
  },
  {
   "cell_type": "code",
   "execution_count": 22,
   "id": "a153d4e0",
   "metadata": {},
   "outputs": [
    {
     "ename": "NameError",
     "evalue": "name 'points' is not defined",
     "output_type": "error",
     "traceback": [
      "\u001b[1;31m---------------------------------------------------------------------------\u001b[0m",
      "\u001b[1;31mNameError\u001b[0m                                 Traceback (most recent call last)",
      "\u001b[1;32m<ipython-input-22-5d9fcbf60aeb>\u001b[0m in \u001b[0;36m<module>\u001b[1;34m\u001b[0m\n\u001b[1;32m----> 1\u001b[1;33m \u001b[0mimputedOveralls\u001b[0m \u001b[1;33m=\u001b[0m \u001b[0mpoints\u001b[0m\u001b[1;33m.\u001b[0m\u001b[0mcopy\u001b[0m\u001b[1;33m(\u001b[0m\u001b[1;33m)\u001b[0m\u001b[1;33m\u001b[0m\u001b[1;33m\u001b[0m\u001b[0m\n\u001b[0m\u001b[0;32m      2\u001b[0m \u001b[0mimputedOveralls\u001b[0m \u001b[1;33m=\u001b[0m \u001b[0mpd\u001b[0m\u001b[1;33m.\u001b[0m\u001b[0mget_dummies\u001b[0m\u001b[1;33m(\u001b[0m\u001b[0mimputedOveralls\u001b[0m\u001b[1;33m,\u001b[0m \u001b[0mcolumns\u001b[0m \u001b[1;33m=\u001b[0m \u001b[1;33m[\u001b[0m\u001b[1;34m'Year'\u001b[0m\u001b[1;33m]\u001b[0m\u001b[1;33m)\u001b[0m\u001b[1;33m\u001b[0m\u001b[1;33m\u001b[0m\u001b[0m\n\u001b[0;32m      3\u001b[0m \u001b[1;33m\u001b[0m\u001b[0m\n\u001b[0;32m      4\u001b[0m \u001b[0mxImpute\u001b[0m \u001b[1;33m=\u001b[0m \u001b[0mimputedOveralls\u001b[0m\u001b[1;33m.\u001b[0m\u001b[0mdrop\u001b[0m\u001b[1;33m(\u001b[0m\u001b[0mcolumns\u001b[0m\u001b[1;33m=\u001b[0m\u001b[1;33m[\u001b[0m\u001b[1;34m'Team'\u001b[0m\u001b[1;33m]\u001b[0m\u001b[1;33m)\u001b[0m\u001b[1;33m\u001b[0m\u001b[1;33m\u001b[0m\u001b[0m\n\u001b[0;32m      5\u001b[0m \u001b[1;33m\u001b[0m\u001b[0m\n",
      "\u001b[1;31mNameError\u001b[0m: name 'points' is not defined"
     ]
    }
   ],
   "source": [
    "imputedOveralls = points.copy()\n",
    "imputedOveralls = pd.get_dummies(imputedOveralls, columns = ['Year'])\n",
    "\n",
    "xImpute = imputedOveralls.drop(columns=['Team'])\n",
    "\n",
    "overall_predictions = lm.predict(xImpute)\n",
    "overall_predictions = np.round(overall_predictions)\n",
    "overall_predictions"
   ]
  },
  {
   "cell_type": "code",
   "execution_count": 23,
   "id": "2679e5f7",
   "metadata": {},
   "outputs": [
    {
     "ename": "NameError",
     "evalue": "name 'overall_predictions' is not defined",
     "output_type": "error",
     "traceback": [
      "\u001b[1;31m---------------------------------------------------------------------------\u001b[0m",
      "\u001b[1;31mNameError\u001b[0m                                 Traceback (most recent call last)",
      "\u001b[1;32m<ipython-input-23-3785de5a15cd>\u001b[0m in \u001b[0;36m<module>\u001b[1;34m\u001b[0m\n\u001b[1;32m----> 1\u001b[1;33m \u001b[0mpoints\u001b[0m\u001b[1;33m[\u001b[0m\u001b[1;34m'ovr'\u001b[0m\u001b[1;33m]\u001b[0m \u001b[1;33m=\u001b[0m \u001b[0moverall_predictions\u001b[0m\u001b[1;33m.\u001b[0m\u001b[0mastype\u001b[0m\u001b[1;33m(\u001b[0m\u001b[0mint\u001b[0m\u001b[1;33m)\u001b[0m\u001b[1;33m\u001b[0m\u001b[1;33m\u001b[0m\u001b[0m\n\u001b[0m\u001b[0;32m      2\u001b[0m \u001b[0mpoints\u001b[0m\u001b[1;33m.\u001b[0m\u001b[0mhead\u001b[0m\u001b[1;33m(\u001b[0m\u001b[1;36m2\u001b[0m\u001b[1;33m)\u001b[0m\u001b[1;33m\u001b[0m\u001b[1;33m\u001b[0m\u001b[0m\n",
      "\u001b[1;31mNameError\u001b[0m: name 'overall_predictions' is not defined"
     ]
    }
   ],
   "source": [
    "points['ovr'] = overall_predictions.astype(int)\n",
    "points.head(2)"
   ]
  },
  {
   "cell_type": "markdown",
   "id": "29cf5fc3",
   "metadata": {},
   "source": [
    "## Get Previous International Soccer Game Data"
   ]
  },
  {
   "cell_type": "markdown",
   "id": "51b2868d",
   "metadata": {},
   "source": [
    "Get previous game data"
   ]
  },
  {
   "cell_type": "code",
   "execution_count": null,
   "id": "80b6e151",
   "metadata": {},
   "outputs": [],
   "source": [
    "game = pd.read_csv(\"results.csv\")\n",
    "game[\"Year\"] = game.date.str[:4].astype(str) # string splice first 4 letters of entire date column\n",
    "\n",
    "game.head(5)"
   ]
  },
  {
   "cell_type": "code",
   "execution_count": null,
   "id": "eec0c4f1",
   "metadata": {},
   "outputs": [],
   "source": [
    "game = game.drop(columns=['date', 'city', 'country', 'neutral'])\n",
    "game = game.where(game['Year'] >= '2004')\n",
    "game = game.dropna()\n",
    "game.head(5)"
   ]
  },
  {
   "cell_type": "code",
   "execution_count": null,
   "id": "1fb99183",
   "metadata": {},
   "outputs": [],
   "source": [
    "len(game)"
   ]
  },
  {
   "cell_type": "code",
   "execution_count": null,
   "id": "b7ed97c8",
   "metadata": {},
   "outputs": [],
   "source": [
    "game[\"tournament\"].value_counts()"
   ]
  },
  {
   "cell_type": "markdown",
   "id": "d3bf7b05",
   "metadata": {},
   "source": [
    "Friendlies take up almost a third of the data...going to try building models with and without friendlies included and see which one performs the best"
   ]
  },
  {
   "cell_type": "code",
   "execution_count": null,
   "id": "0fa6d206",
   "metadata": {},
   "outputs": [],
   "source": [
    "game.head(1)"
   ]
  },
  {
   "cell_type": "code",
   "execution_count": null,
   "id": "b86c231b",
   "metadata": {},
   "outputs": [],
   "source": [
    "game['score'] = game['home_score'] - game['away_score']\n",
    "game['outcome'] = None\n",
    "game.loc[game[\"score\"] == 0, \"outcome\"] = 0\n",
    "game.loc[game[\"score\"] > 0, \"outcome\"] = 1\n",
    "game.loc[game[\"score\"] < 0, \"outcome\"] = -1\n",
    "game.head(5)"
   ]
  },
  {
   "cell_type": "markdown",
   "id": "4c58134a",
   "metadata": {},
   "source": [
    "Predict if home team wins\n",
    "outcome:\n",
    "* 1 if home team wins\n",
    "* 0 if draw\n",
    "* -1 if away team wins\n",
    "\n",
    "\n"
   ]
  },
  {
   "cell_type": "markdown",
   "id": "ae304e23",
   "metadata": {},
   "source": [
    "## Match Syntax of the Teams in Game Data with the Points and Data Teams"
   ]
  },
  {
   "cell_type": "markdown",
   "id": "74334c88",
   "metadata": {},
   "source": [
    "follow process of above"
   ]
  },
  {
   "cell_type": "code",
   "execution_count": null,
   "id": "c0ce4e42",
   "metadata": {},
   "outputs": [],
   "source": [
    "home = game[\"home_team\"].unique()\n",
    "away = game[\"away_team\"].unique()\n",
    "allGameTeams = list(set(home).union(set(away)))\n",
    "allGameTeams.sort()\n",
    "allGameTeams"
   ]
  },
  {
   "cell_type": "markdown",
   "id": "d2aa46a5",
   "metadata": {},
   "source": [
    "look at teams in game that arent in data\n",
    "of these teams, look at what teams aren't in points too\n",
    "\n",
    "change up whatever possible to match them up\n",
    "look into scraping another page or two?"
   ]
  },
  {
   "cell_type": "code",
   "execution_count": null,
   "id": "00bee809",
   "metadata": {},
   "outputs": [],
   "source": [
    "pointsTeams = points[\"Team\"].unique()\n",
    "dataTeams = data[\"Team\"].unique()\n",
    "allGameTeamsNotInData = np.setdiff1d(allGameTeams, dataTeams)\n",
    "gameTeamsNotInDataAndNotInPoints = np.setdiff1d(allGameTeamsNotInData, pointsTeams)"
   ]
  },
  {
   "cell_type": "code",
   "execution_count": null,
   "id": "5ac71c8d",
   "metadata": {},
   "outputs": [],
   "source": [
    "len(allGameTeamsNotInData)"
   ]
  },
  {
   "cell_type": "markdown",
   "id": "37795713",
   "metadata": {},
   "source": []
  },
  {
   "cell_type": "code",
   "execution_count": null,
   "id": "4fde4bd2",
   "metadata": {},
   "outputs": [],
   "source": [
    "dataTeams.sort()\n",
    "dataTeams"
   ]
  },
  {
   "cell_type": "code",
   "execution_count": null,
   "id": "cf4c82ff",
   "metadata": {},
   "outputs": [],
   "source": [
    "allGameTeamsNotInData"
   ]
  },
  {
   "cell_type": "code",
   "execution_count": null,
   "id": "3c1cb859",
   "metadata": {},
   "outputs": [],
   "source": [
    "pointsTeams.sort()\n",
    "pointsTeams"
   ]
  },
  {
   "cell_type": "code",
   "execution_count": null,
   "id": "f6f6be37",
   "metadata": {},
   "outputs": [],
   "source": [
    "gameTeamsNotInDataAndNotInPoints"
   ]
  },
  {
   "cell_type": "markdown",
   "id": "54bf506b",
   "metadata": {},
   "source": [
    "Teams that need to be changed in game data\n",
    "* Ivory Coast --> Côte d'Ivoire\n",
    "* South Korea --> Korea Republic\n",
    "* United States --> USA\n",
    "\n",
    "Points Teams name changes\n",
    "* IR Iran --> Iran"
   ]
  },
  {
   "cell_type": "code",
   "execution_count": null,
   "id": "446aed13",
   "metadata": {},
   "outputs": [],
   "source": [
    "game.head(1)"
   ]
  },
  {
   "cell_type": "code",
   "execution_count": null,
   "id": "c61caf99",
   "metadata": {},
   "outputs": [],
   "source": [
    "game.loc[game[\"home_team\"] == \"Ivory Coast\", \"home_team\"] = \"Côte d'Ivoire\"\n",
    "game.loc[game[\"away_team\"] == \"Ivory Coast\", \"away_team\"] = \"Côte d'Ivoire\"\n",
    "game.loc[game[\"home_team\"] == \"South Korea\", \"home_team\"] = \"Korea Republic\"\n",
    "game.loc[game[\"away_team\"] == \"South Korea\", \"away_team\"] = \"Korea Republic\"\n",
    "game.loc[game[\"home_team\"] == \"United States\", \"home_team\"] = \"USA\"\n",
    "game.loc[game[\"away_team\"] == \"United States\", \"away_team\"] = \"USA\""
   ]
  },
  {
   "cell_type": "code",
   "execution_count": null,
   "id": "6c0635a7",
   "metadata": {},
   "outputs": [],
   "source": [
    "game.loc[game[\"home_team\"] == \"Ivory Coast\", \"home_team\"] = \"Côte d'Ivoire\"\n",
    "game.loc[game[\"away_team\"] == \"Ivory Coast\", \"away_team\"] = \"Côte d'Ivoire\"\n",
    "game.loc[game[\"home_team\"] == \"South Korea\", \"home_team\"] = \"Korea Republic\"\n",
    "game.loc[game[\"away_team\"] == \"South Korea\", \"away_team\"] = \"Korea Republic\"\n",
    "game.loc[game[\"home_team\"] == \"United States\", \"home_team\"] = \"USA\"\n",
    "game.loc[game[\"away_team\"] == \"United States\", \"away_team\"] = \"USA\"\n",
    "points.loc[points[\"Team\"] == \"IR Iran\", \"Team\"] = \"Iran\""
   ]
  },
  {
   "cell_type": "markdown",
   "id": "06cff52a",
   "metadata": {},
   "source": [
    "## Add in Home Team and Away Team Overall"
   ]
  },
  {
   "cell_type": "code",
   "execution_count": null,
   "id": "36f0e492",
   "metadata": {},
   "outputs": [],
   "source": [
    "game.head(1)"
   ]
  },
  {
   "cell_type": "markdown",
   "id": "41ec4403",
   "metadata": {},
   "source": [
    "loop through game\n",
    "for each team:\n",
    "    check to see if there is a match in data for the team\n",
    "    if not:\n",
    "        check to see if there is a match in points\n",
    "    if not in points and data:\n",
    "        remove the row from game"
   ]
  },
  {
   "cell_type": "code",
   "execution_count": null,
   "id": "23aa9383",
   "metadata": {},
   "outputs": [],
   "source": [
    "data.head(1)"
   ]
  },
  {
   "cell_type": "code",
   "execution_count": null,
   "id": "389c4465",
   "metadata": {},
   "outputs": [],
   "source": [
    "game = game.reset_index() # Need to reset after getting rid of games before 2004\n",
    "game['home_att'] = None\n",
    "game['home_mid'] = None\n",
    "game['home_def'] = None\n",
    "game['home_ovr'] = None\n",
    "game['away_att'] = None\n",
    "game['away_mid'] = None\n",
    "game['away_def'] = None\n",
    "game['away_ovr'] = None\n",
    "indexesToRemove = [] # keep track of rows that need to be removed\n",
    "for idx in range(len(game)):\n",
    "    year = int(game.at[idx, 'Year'])\n",
    "    homeTeam = game.at[idx, 'home_team']\n",
    "    awayTeam = game.at[idx, 'away_team']\n",
    "    dataHomeMatchIdx = np.where((data['Team'] == homeTeam) & (data['Year'] == year))\n",
    "    if len(dataHomeMatchIdx[0]) == 0:\n",
    "        # home team is not in data\n",
    "        # check if home team is in points\n",
    "        pointsHomeMatchIdx = np.where((points['Team'] == homeTeam) & (points['Year'] == year))\n",
    "        if len(pointsHomeMatchIdx[0]) != 0:\n",
    "            # home team is in points\n",
    "            # check if away team exists in data first\n",
    "            dataAwayMatchIdx = np.where((data['Team'] == awayTeam) & (data['Year'] == year))\n",
    "            if len(dataAwayMatchIdx[0]) == 0:\n",
    "                # home team in points\n",
    "                # away team is not in data\n",
    "                # check if away team in points\n",
    "                pointsAwayMatchIdx = np.where((points['Team'] == awayTeam) & (points['Year'] == year))\n",
    "                if len(pointsAwayMatchIdx[0]) == 0:\n",
    "                    # away team not in either so remove\n",
    "                    #print('remove 1')\n",
    "                    # REMOVE HERE\n",
    "                    game = game.drop(index=idx)\n",
    "                else:\n",
    "                    # away team is in points\n",
    "                    # home team in points\n",
    "                    attHome = points.at[pointsHomeMatchIdx[0][0], 'ovr']\n",
    "                    midHome = points.at[pointsHomeMatchIdx[0][0], 'ovr']\n",
    "                    defHome = points.at[pointsHomeMatchIdx[0][0], 'ovr']\n",
    "                    ovrHome = points.at[pointsHomeMatchIdx[0][0], 'ovr']\n",
    "\n",
    "                    attAway = points.at[pointsAwayMatchIdx[0][0], 'ovr']\n",
    "                    midAway = points.at[pointsAwayMatchIdx[0][0], 'ovr']\n",
    "                    defAway = points.at[pointsAwayMatchIdx[0][0], 'ovr']\n",
    "                    ovrAway = points.at[pointsAwayMatchIdx[0][0], 'ovr']\n",
    "                    \n",
    "                    # UPDATE DATA FRAME\n",
    "                    game.at[idx, 'home_att'] = attHome\n",
    "                    game.at[idx, 'home_mid'] = midHome\n",
    "                    game.at[idx, 'home_def'] = defHome\n",
    "                    game.at[idx, 'home_ovr'] = ovrHome\n",
    "                    game.at[idx, 'away_att'] = attAway\n",
    "                    game.at[idx, 'away_mid'] = midAway\n",
    "                    game.at[idx, 'away_def'] = defAway\n",
    "                    game.at[idx, 'away_ovr'] = ovrAway\n",
    "            else:\n",
    "                # away team is in data\n",
    "                # home team is in points\n",
    "                \n",
    "                attHome = points.at[pointsHomeMatchIdx[0][0], 'ovr']\n",
    "                midHome = points.at[pointsHomeMatchIdx[0][0], 'ovr']\n",
    "                defHome = points.at[pointsHomeMatchIdx[0][0], 'ovr']\n",
    "                ovrHome = points.at[pointsHomeMatchIdx[0][0], 'ovr']\n",
    "\n",
    "                attAway = data.at[dataAwayMatchIdx[0][0], 'att']\n",
    "                midAway = data.at[dataAwayMatchIdx[0][0], 'mid']\n",
    "                defAway = data.at[dataAwayMatchIdx[0][0], 'def']\n",
    "                ovrAway = data.at[dataAwayMatchIdx[0][0], 'ovr']\n",
    "\n",
    "                # update the columns in the data frame\n",
    "                game.at[idx, 'home_att'] = attHome\n",
    "                game.at[idx, 'home_mid'] = midHome\n",
    "                game.at[idx, 'home_def'] = defHome\n",
    "                game.at[idx, 'home_ovr'] = ovrHome\n",
    "                game.at[idx, 'away_att'] = attAway\n",
    "                game.at[idx, 'away_mid'] = midAway\n",
    "                game.at[idx, 'away_def'] = defAway\n",
    "                game.at[idx, 'away_ovr'] = ovrAway\n",
    "        else:\n",
    "            # no home team match\n",
    "            #print('remove 2')\n",
    "            #print(homeTeam + \", \" + awayTeam)\n",
    "            game = game.drop(index=idx)\n",
    "         \n",
    "    else:\n",
    "        # home team is in data\n",
    "        # now see if away team is in there too\n",
    "        dataAwayMatchIdx = np.where((data['Team'] == awayTeam) & (data['Year'] == year))\n",
    "        if len(dataAwayMatchIdx[0]) == 0:\n",
    "            # away team not in data\n",
    "            # check if away team is in points\n",
    "            pointsAwayMatchIdx = np.where((points['Team'] == awayTeam) & (points['Year'] == year))\n",
    "            if len(pointsAwayMatchIdx[0]) == 0:\n",
    "                # away team not in either so remove\n",
    "                #print('remove 3')\n",
    "                game = game.drop(index=idx)\n",
    "            else:\n",
    "                # home team in data\n",
    "                # away team in points\n",
    "                attHome = data.at[dataHomeMatchIdx[0][0], 'att']\n",
    "                midHome = data.at[dataHomeMatchIdx[0][0], 'mid']\n",
    "                defHome = data.at[dataHomeMatchIdx[0][0], 'def']\n",
    "                ovrHome = data.at[dataHomeMatchIdx[0][0], 'ovr']\n",
    "            \n",
    "                attAway = points.at[pointsAwayMatchIdx[0][0], 'ovr']\n",
    "                midAway = points.at[pointsAwayMatchIdx[0][0], 'ovr']\n",
    "                defAway = points.at[pointsAwayMatchIdx[0][0], 'ovr']\n",
    "                ovrAway = points.at[pointsAwayMatchIdx[0][0], 'ovr']\n",
    "                \n",
    "                # Update data frame\n",
    "                game.at[idx, 'home_att'] = attHome\n",
    "                game.at[idx, 'home_mid'] = midHome\n",
    "                game.at[idx, 'home_def'] = defHome\n",
    "                game.at[idx, 'home_ovr'] = ovrHome\n",
    "                game.at[idx, 'away_att'] = attAway\n",
    "                game.at[idx, 'away_mid'] = midAway\n",
    "                game.at[idx, 'away_def'] = defAway\n",
    "                game.at[idx, 'away_ovr'] = ovrAway\n",
    "                \n",
    "                \n",
    "            \n",
    "        else:\n",
    "            # both home and away in data\n",
    "            attHome = data.at[dataHomeMatchIdx[0][0], 'att']\n",
    "            midHome = data.at[dataHomeMatchIdx[0][0], 'mid']\n",
    "            defHome = data.at[dataHomeMatchIdx[0][0], 'def']\n",
    "            ovrHome = data.at[dataHomeMatchIdx[0][0], 'ovr']\n",
    "            \n",
    "            attAway = data.at[dataAwayMatchIdx[0][0], 'att']\n",
    "            midAway = data.at[dataAwayMatchIdx[0][0], 'mid']\n",
    "            defAway = data.at[dataAwayMatchIdx[0][0], 'def']\n",
    "            ovrAway = data.at[dataAwayMatchIdx[0][0], 'ovr']\n",
    "            \n",
    "            # update the columns in the data frame\n",
    "            game.at[idx, 'home_att'] = attHome\n",
    "            game.at[idx, 'home_mid'] = midHome\n",
    "            game.at[idx, 'home_def'] = defHome\n",
    "            game.at[idx, 'home_ovr'] = ovrHome\n",
    "            game.at[idx, 'away_att'] = attAway\n",
    "            game.at[idx, 'away_mid'] = midAway\n",
    "            game.at[idx, 'away_def'] = defAway\n",
    "            game.at[idx, 'away_ovr'] = ovrAway\n",
    "    "
   ]
  },
  {
   "cell_type": "code",
   "execution_count": null,
   "id": "66db8386",
   "metadata": {},
   "outputs": [],
   "source": [
    "game.head(5)"
   ]
  },
  {
   "cell_type": "code",
   "execution_count": null,
   "id": "eee0d691",
   "metadata": {},
   "outputs": [],
   "source": [
    "game[\"home_att\"] = pd.to_numeric(game[\"home_att\"])\n",
    "game[\"home_mid\"] = pd.to_numeric(game[\"home_mid\"])\n",
    "game[\"home_def\"] = pd.to_numeric(game[\"home_def\"])\n",
    "game[\"home_ovr\"] = pd.to_numeric(game[\"home_ovr\"])\n",
    "game[\"away_att\"] = pd.to_numeric(game[\"away_att\"])\n",
    "game[\"away_mid\"] = pd.to_numeric(game[\"away_mid\"])\n",
    "game[\"away_def\"] = pd.to_numeric(game[\"away_def\"])\n",
    "game[\"away_ovr\"] = pd.to_numeric(game[\"away_ovr\"])"
   ]
  },
  {
   "cell_type": "code",
   "execution_count": null,
   "id": "2a3a82b7",
   "metadata": {},
   "outputs": [],
   "source": [
    "# Now let's combine the home and away attributes to be home - away\n",
    "game['att'] = game['home_att'] - game['away_att']\n",
    "game['mid'] = game['home_mid'] - game['away_mid']\n",
    "game['def'] = game['home_def'] - game['away_def']\n",
    "game['ovr'] = game['home_ovr'] - game['away_ovr']\n",
    "game.head(2)"
   ]
  },
  {
   "cell_type": "code",
   "execution_count": null,
   "id": "c41432c1",
   "metadata": {},
   "outputs": [],
   "source": [
    "game = game.drop(columns=['index','home_team','away_team','home_score'])"
   ]
  },
  {
   "cell_type": "code",
   "execution_count": null,
   "id": "3cbecf8a",
   "metadata": {},
   "outputs": [],
   "source": [
    "gameDrop = game.copy()\n",
    "gameDrop = gameDrop.drop(columns=['index','home_team','away_team','home_score', 'away_score','score','home_att',\n",
    "                                 'home_mid','home_def','home_ovr','away_att','away_mid','away_def','away_ovr' ])\n",
    "gameDrop.head(2)"
   ]
  },
  {
   "cell_type": "markdown",
   "id": "9f2eb563",
   "metadata": {},
   "source": [
    "## Modeling with All Game Data (Includes Friendlies)"
   ]
  },
  {
   "cell_type": "code",
   "execution_count": null,
   "id": "031c000b",
   "metadata": {},
   "outputs": [],
   "source": [
    "gameWithFriendly = gameDrop.copy()\n",
    "gameWithFriendly = gameWithFriendly.drop(columns=['tournament'])\n",
    "gameWithFriendly.head(2)"
   ]
  },
  {
   "cell_type": "markdown",
   "id": "a4611303",
   "metadata": {},
   "source": [
    "## Train/Test Split"
   ]
  },
  {
   "cell_type": "code",
   "execution_count": null,
   "id": "6b1ef313",
   "metadata": {},
   "outputs": [],
   "source": [
    "from sklearn.model_selection import train_test_split\n",
    "X = gameWithFriendly.drop(columns=['outcome', 'Year'])\n",
    "y = gameWithFriendly['outcome']\n",
    "X_train, X_test, y_train, y_test = train_test_split(X, y, test_size=0.2, stratify=gameWithFriendly.Year)"
   ]
  },
  {
   "cell_type": "markdown",
   "id": "33ff7ded",
   "metadata": {},
   "source": [
    "## Linear Regression Model"
   ]
  },
  {
   "cell_type": "code",
   "execution_count": null,
   "id": "c21b30b5",
   "metadata": {},
   "outputs": [],
   "source": [
    "from sklearn.linear_model import LinearRegression\n",
    "from sklearn.metrics import mean_squared_error\n",
    "lm = LinearRegression()\n",
    "lm.fit(X_train,y_train)\n",
    "lm_predictions = lm.predict(X_test)\n",
    "lm_predictions[lm_predictions <= -.1] = -1\n",
    "lm_predictions[lm_predictions >= .1] = 1\n",
    "lm_predictions[(lm_predictions < .1) & (lm_predictions > -.1)] = 0\n",
    "lm_predictions"
   ]
  },
  {
   "cell_type": "code",
   "execution_count": null,
   "id": "dd333781",
   "metadata": {},
   "outputs": [],
   "source": [
    "from sklearn.metrics import accuracy_score\n",
    "accuracy_score(y_test, lm_predictions)"
   ]
  },
  {
   "cell_type": "markdown",
   "id": "563af238",
   "metadata": {},
   "source": [
    "## Decision Tree Regressor"
   ]
  },
  {
   "cell_type": "code",
   "execution_count": null,
   "id": "47c549a1",
   "metadata": {},
   "outputs": [],
   "source": [
    "from sklearn.tree import DecisionTreeRegressor\n",
    "\n",
    "tree_reg = DecisionTreeRegressor()\n",
    "tree_reg.fit(X_train, y_train)\n",
    "tree_predictions = tree_reg.predict(X_test)\n",
    "tree_predictions[tree_predictions <= -.1] = -1\n",
    "tree_predictions[tree_predictions >= .1] = 1\n",
    "tree_predictions[(tree_predictions < .1) & (tree_predictions > -.1)] = 0\n",
    "accuracy_score(y_test, tree_predictions)"
   ]
  },
  {
   "cell_type": "markdown",
   "id": "f9e4ab93",
   "metadata": {},
   "source": [
    "## Random Forest"
   ]
  },
  {
   "cell_type": "code",
   "execution_count": null,
   "id": "16be3c12",
   "metadata": {},
   "outputs": [],
   "source": [
    "from sklearn.ensemble import RandomForestRegressor\n",
    "forest_reg = RandomForestRegressor()\n",
    "forest_reg.fit(X_train, y_train)\n",
    "forest_predictions = forest_reg.predict(X_test)\n",
    "forest_predictions[forest_predictions <= -.1] = -1\n",
    "forest_predictions[forest_predictions >= .1] = 1\n",
    "forest_predictions[(forest_predictions < .1) & (forest_predictions > -.1)] = 0\n",
    "accuracy_score(y_test, forest_predictions)"
   ]
  },
  {
   "cell_type": "markdown",
   "id": "374bc4a9",
   "metadata": {},
   "source": [
    "## Modeling without Friendlies"
   ]
  },
  {
   "cell_type": "code",
   "execution_count": null,
   "id": "308a1b86",
   "metadata": {},
   "outputs": [],
   "source": [
    "# do work here"
   ]
  },
  {
   "cell_type": "markdown",
   "id": "dbc773fb",
   "metadata": {},
   "source": [
    "## Simulating the 2022 World Cup"
   ]
  },
  {
   "cell_type": "markdown",
   "id": "28112cec",
   "metadata": {},
   "source": [
    "doing this one with friendly model"
   ]
  },
  {
   "cell_type": "code",
   "execution_count": null,
   "id": "516b3e54",
   "metadata": {},
   "outputs": [],
   "source": [
    "groupA = ['Qatar', 'Ecuador', 'Netherlands', 'Senegal']\n",
    "groupB = ['England', 'Iran', 'USA', 'Wales'] # not sure w Wales\n",
    "groupC = ['Argentina', 'Poland', 'Mexico', 'Saudi Arabia']\n",
    "groupD = ['France', 'Denmark', 'Tunisia', 'Peru'] # Peru not sure\n",
    "groupE = ['Spain', 'Germany', 'Japan', 'Costa Rica'] # Costa rica not sure\n",
    "groupF = ['Belgium', 'Canada', 'Morocco', 'Croatia']\n",
    "groupG = ['Brazil', 'Serbia', 'Switzerland', 'Cameroon']\n",
    "groupH = ['Portugal', 'Ghana', 'Uruguay', 'Korea Republic']\n",
    "\n",
    "worldCupTeams = groupA + groupB + groupC + groupD + groupE + groupF + groupG + groupH\n",
    "\n",
    "# Left side\n",
    "# A1 v B2 : C2 v D2\n",
    "# E1 v F2 : G1 v H2\n",
    "\n",
    "# Right side\n",
    "# D1 v C2 : B1 v A2\n",
    "# F1 v E2 : G2 v H1\n",
    "\n",
    "worldCup = pd.DataFrame(columns = ['Team', 'Points', 'Group', 'att', 'mid', 'def', 'ovr'])\n",
    "idx = 0\n",
    "teamsNotFound = []\n",
    "for team in groupA:\n",
    "    worldCup.at[idx, 'Team'] = team\n",
    "    worldCup.at[idx, 'Points'] = 0\n",
    "    worldCup.at[idx, 'Group'] = 'A'\n",
    "    dataIdx = np.where((data['Team'] == team) & (data['Year'] == 2022))\n",
    "    if len(dataIdx[0]) == 0:\n",
    "        # team not in data, check points\n",
    "        pointsIdx = np.where((points['Team'] == team) & (points['Year'] == 2022))\n",
    "        if len(pointsIdx[0]) == 0:\n",
    "            teamsNotFound.append(team)\n",
    "            att = 80\n",
    "            mid = 80\n",
    "            defRate = 80\n",
    "            ovr = 80\n",
    "            worldCup.at[idx, 'att'] = att\n",
    "            worldCup.at[idx, 'mid'] = mid\n",
    "            worldCup.at[idx, 'def'] = defRate\n",
    "            worldCup.at[idx, 'ovr'] = ovr\n",
    "        else:\n",
    "            # found in points\n",
    "            att = points.at[pointsIdx[0][0], 'ovr']\n",
    "            mid = points.at[pointsIdx[0][0], 'ovr']\n",
    "            defRate = points.at[pointsIdx[0][0], 'ovr']\n",
    "            ovr = points.at[pointsIdx[0][0], 'ovr']\n",
    "            worldCup.at[idx, 'att'] = att\n",
    "            worldCup.at[idx, 'mid'] = mid\n",
    "            worldCup.at[idx, 'def'] = defRate\n",
    "            worldCup.at[idx, 'ovr'] = ovr\n",
    "    else:\n",
    "        # found in data\n",
    "        att = data.at[dataIdx[0][0], 'att']\n",
    "        mid = data.at[dataIdx[0][0], 'mid']\n",
    "        defRate = data.at[dataIdx[0][0], 'def']\n",
    "        ovr = data.at[dataIdx[0][0], 'ovr']\n",
    "        \n",
    "        worldCup.at[idx, 'att'] = att\n",
    "        worldCup.at[idx, 'mid'] = mid\n",
    "        worldCup.at[idx, 'def'] = defRate\n",
    "        worldCup.at[idx, 'ovr'] = ovr\n",
    "    idx += 1\n",
    "    \n",
    "for team in groupB:\n",
    "    worldCup.at[idx, 'Team'] = team\n",
    "    worldCup.at[idx, 'Points'] = 0\n",
    "    worldCup.at[idx, 'Group'] = 'B'\n",
    "    dataIdx = np.where((data['Team'] == team) & (data['Year'] == 2022))\n",
    "    if len(dataIdx[0]) == 0:\n",
    "        # team not in data, check points\n",
    "        pointsIdx = np.where((points['Team'] == team) & (points['Year'] == 2022))\n",
    "        if len(pointsIdx[0]) == 0:\n",
    "            teamsNotFound.append(team)\n",
    "            att = 80\n",
    "            mid = 80\n",
    "            defRate = 80\n",
    "            ovr = 80\n",
    "            worldCup.at[idx, 'att'] = att\n",
    "            worldCup.at[idx, 'mid'] = mid\n",
    "            worldCup.at[idx, 'def'] = defRate\n",
    "            worldCup.at[idx, 'ovr'] = ovr\n",
    "        else:\n",
    "            # found in points\n",
    "            att = points.at[pointsIdx[0][0], 'ovr']\n",
    "            mid = points.at[pointsIdx[0][0], 'ovr']\n",
    "            defRate = points.at[pointsIdx[0][0], 'ovr']\n",
    "            ovr = points.at[pointsIdx[0][0], 'ovr']\n",
    "            worldCup.at[idx, 'att'] = att\n",
    "            worldCup.at[idx, 'mid'] = mid\n",
    "            worldCup.at[idx, 'def'] = defRate\n",
    "            worldCup.at[idx, 'ovr'] = ovr\n",
    "    else:\n",
    "        # found in data\n",
    "        att = data.at[dataIdx[0][0], 'att']\n",
    "        mid = data.at[dataIdx[0][0], 'mid']\n",
    "        defRate = data.at[dataIdx[0][0], 'def']\n",
    "        ovr = data.at[dataIdx[0][0], 'ovr']\n",
    "        \n",
    "        worldCup.at[idx, 'att'] = att\n",
    "        worldCup.at[idx, 'mid'] = mid\n",
    "        worldCup.at[idx, 'def'] = defRate\n",
    "        worldCup.at[idx, 'ovr'] = ovr\n",
    "    \n",
    "    idx += 1\n",
    "for team in groupC:\n",
    "    worldCup.at[idx, 'Team'] = team\n",
    "    worldCup.at[idx, 'Points'] = 0\n",
    "    worldCup.at[idx, 'Group'] = 'C'\n",
    "    dataIdx = np.where((data['Team'] == team) & (data['Year'] == 2022))\n",
    "    if len(dataIdx[0]) == 0:\n",
    "        # team not in data, check points\n",
    "        pointsIdx = np.where((points['Team'] == team) & (points['Year'] == 2022))\n",
    "        if len(pointsIdx[0]) == 0:\n",
    "            teamsNotFound.append(team)\n",
    "            att = 80\n",
    "            mid = 80\n",
    "            defRate = 80\n",
    "            ovr = 80\n",
    "            worldCup.at[idx, 'att'] = att\n",
    "            worldCup.at[idx, 'mid'] = mid\n",
    "            worldCup.at[idx, 'def'] = defRate\n",
    "            worldCup.at[idx, 'ovr'] = ovr\n",
    "        else:\n",
    "            # found in points\n",
    "            att = points.at[pointsIdx[0][0], 'ovr']\n",
    "            mid = points.at[pointsIdx[0][0], 'ovr']\n",
    "            defRate = points.at[pointsIdx[0][0], 'ovr']\n",
    "            ovr = points.at[pointsIdx[0][0], 'ovr']\n",
    "            worldCup.at[idx, 'att'] = att\n",
    "            worldCup.at[idx, 'mid'] = mid\n",
    "            worldCup.at[idx, 'def'] = defRate\n",
    "            worldCup.at[idx, 'ovr'] = ovr\n",
    "    else:\n",
    "        # found in data\n",
    "        att = data.at[dataIdx[0][0], 'att']\n",
    "        mid = data.at[dataIdx[0][0], 'mid']\n",
    "        defRate = data.at[dataIdx[0][0], 'def']\n",
    "        ovr = data.at[dataIdx[0][0], 'ovr']\n",
    "        \n",
    "        worldCup.at[idx, 'att'] = att\n",
    "        worldCup.at[idx, 'mid'] = mid\n",
    "        worldCup.at[idx, 'def'] = defRate\n",
    "        worldCup.at[idx, 'ovr'] = ovr\n",
    "    \n",
    "    idx += 1\n",
    "    \n",
    "for team in groupD:\n",
    "    worldCup.at[idx, 'Team'] = team\n",
    "    worldCup.at[idx, 'Points'] = 0\n",
    "    worldCup.at[idx, 'Group'] = 'D'\n",
    "    dataIdx = np.where((data['Team'] == team) & (data['Year'] == 2022))\n",
    "    if len(dataIdx[0]) == 0:\n",
    "        # team not in data, check points\n",
    "        pointsIdx = np.where((points['Team'] == team) & (points['Year'] == 2022))\n",
    "        if len(pointsIdx[0]) == 0:\n",
    "            teamsNotFound.append(team)\n",
    "            att = 80\n",
    "            mid = 80\n",
    "            defRate = 80\n",
    "            ovr = 80\n",
    "            worldCup.at[idx, 'att'] = att\n",
    "            worldCup.at[idx, 'mid'] = mid\n",
    "            worldCup.at[idx, 'def'] = defRate\n",
    "            worldCup.at[idx, 'ovr'] = ovr\n",
    "        else:\n",
    "            # found in points\n",
    "            att = points.at[pointsIdx[0][0], 'ovr']\n",
    "            mid = points.at[pointsIdx[0][0], 'ovr']\n",
    "            defRate = points.at[pointsIdx[0][0], 'ovr']\n",
    "            ovr = points.at[pointsIdx[0][0], 'ovr']\n",
    "            worldCup.at[idx, 'att'] = att\n",
    "            worldCup.at[idx, 'mid'] = mid\n",
    "            worldCup.at[idx, 'def'] = defRate\n",
    "            worldCup.at[idx, 'ovr'] = ovr\n",
    "    else:\n",
    "        # found in data\n",
    "        att = data.at[dataIdx[0][0], 'att']\n",
    "        mid = data.at[dataIdx[0][0], 'mid']\n",
    "        defRate = data.at[dataIdx[0][0], 'def']\n",
    "        ovr = data.at[dataIdx[0][0], 'ovr']\n",
    "        \n",
    "        worldCup.at[idx, 'att'] = att\n",
    "        worldCup.at[idx, 'mid'] = mid\n",
    "        worldCup.at[idx, 'def'] = defRate\n",
    "        worldCup.at[idx, 'ovr'] = ovr\n",
    "    \n",
    "    idx += 1\n",
    "    \n",
    "for team in groupE:\n",
    "    worldCup.at[idx, 'Team'] = team\n",
    "    worldCup.at[idx, 'Points'] = 0\n",
    "    worldCup.at[idx, 'Group'] = 'E'\n",
    "    dataIdx = np.where((data['Team'] == team) & (data['Year'] == 2022))\n",
    "    if len(dataIdx[0]) == 0:\n",
    "        # team not in data, check points\n",
    "        pointsIdx = np.where((points['Team'] == team) & (points['Year'] == 2022))\n",
    "        if len(pointsIdx[0]) == 0:\n",
    "            teamsNotFound.append(team)\n",
    "            att = 80\n",
    "            mid = 80\n",
    "            defRate = 80\n",
    "            ovr = 80\n",
    "            worldCup.at[idx, 'att'] = att\n",
    "            worldCup.at[idx, 'mid'] = mid\n",
    "            worldCup.at[idx, 'def'] = defRate\n",
    "            worldCup.at[idx, 'ovr'] = ovr\n",
    "        else:\n",
    "            # found in points\n",
    "            att = points.at[pointsIdx[0][0], 'ovr']\n",
    "            mid = points.at[pointsIdx[0][0], 'ovr']\n",
    "            defRate = points.at[pointsIdx[0][0], 'ovr']\n",
    "            ovr = points.at[pointsIdx[0][0], 'ovr']\n",
    "            worldCup.at[idx, 'att'] = att\n",
    "            worldCup.at[idx, 'mid'] = mid\n",
    "            worldCup.at[idx, 'def'] = defRate\n",
    "            worldCup.at[idx, 'ovr'] = ovr\n",
    "    else:\n",
    "        # found in data\n",
    "        att = data.at[dataIdx[0][0], 'att']\n",
    "        mid = data.at[dataIdx[0][0], 'mid']\n",
    "        defRate = data.at[dataIdx[0][0], 'def']\n",
    "        ovr = data.at[dataIdx[0][0], 'ovr']\n",
    "        \n",
    "        worldCup.at[idx, 'att'] = att\n",
    "        worldCup.at[idx, 'mid'] = mid\n",
    "        worldCup.at[idx, 'def'] = defRate\n",
    "        worldCup.at[idx, 'ovr'] = ovr\n",
    "    idx += 1\n",
    "    \n",
    "for team in groupF:\n",
    "    worldCup.at[idx, 'Team'] = team\n",
    "    worldCup.at[idx, 'Points'] = 0\n",
    "    worldCup.at[idx, 'Group'] = 'F'\n",
    "    dataIdx = np.where((data['Team'] == team) & (data['Year'] == 2022))\n",
    "    if len(dataIdx[0]) == 0:\n",
    "        # team not in data, check points\n",
    "        pointsIdx = np.where((points['Team'] == team) & (points['Year'] == 2022))\n",
    "        if len(pointsIdx[0]) == 0:\n",
    "            teamsNotFound.append(team)\n",
    "            att = 80\n",
    "            mid = 80\n",
    "            defRate = 80\n",
    "            ovr = 80\n",
    "            worldCup.at[idx, 'att'] = att\n",
    "            worldCup.at[idx, 'mid'] = mid\n",
    "            worldCup.at[idx, 'def'] = defRate\n",
    "            worldCup.at[idx, 'ovr'] = ovr\n",
    "        else:\n",
    "            # found in points\n",
    "            att = points.at[pointsIdx[0][0], 'ovr']\n",
    "            mid = points.at[pointsIdx[0][0], 'ovr']\n",
    "            defRate = points.at[pointsIdx[0][0], 'ovr']\n",
    "            ovr = points.at[pointsIdx[0][0], 'ovr']\n",
    "            worldCup.at[idx, 'att'] = att\n",
    "            worldCup.at[idx, 'mid'] = mid\n",
    "            worldCup.at[idx, 'def'] = defRate\n",
    "            worldCup.at[idx, 'ovr'] = ovr\n",
    "    else:\n",
    "        # found in data\n",
    "        att = data.at[dataIdx[0][0], 'att']\n",
    "        mid = data.at[dataIdx[0][0], 'mid']\n",
    "        defRate = data.at[dataIdx[0][0], 'def']\n",
    "        ovr = data.at[dataIdx[0][0], 'ovr']\n",
    "        \n",
    "        worldCup.at[idx, 'att'] = att\n",
    "        worldCup.at[idx, 'mid'] = mid\n",
    "        worldCup.at[idx, 'def'] = defRate\n",
    "        worldCup.at[idx, 'ovr'] = ovr\n",
    "    idx += 1\n",
    "    \n",
    "for team in groupG:\n",
    "    worldCup.at[idx, 'Team'] = team\n",
    "    worldCup.at[idx, 'Points'] = 0\n",
    "    worldCup.at[idx, 'Group'] = 'G'\n",
    "    dataIdx = np.where((data['Team'] == team) & (data['Year'] == 2022))\n",
    "    if len(dataIdx[0]) == 0:\n",
    "        # team not in data, check points\n",
    "        pointsIdx = np.where((points['Team'] == team) & (points['Year'] == 2022))\n",
    "        if len(pointsIdx[0]) == 0:\n",
    "            teamsNotFound.append(team)\n",
    "            att = 80\n",
    "            mid = 80\n",
    "            defRate = 80\n",
    "            ovr = 80\n",
    "            worldCup.at[idx, 'att'] = att\n",
    "            worldCup.at[idx, 'mid'] = mid\n",
    "            worldCup.at[idx, 'def'] = defRate\n",
    "            worldCup.at[idx, 'ovr'] = ovr\n",
    "        else:\n",
    "            # found in points\n",
    "            att = points.at[pointsIdx[0][0], 'ovr']\n",
    "            mid = points.at[pointsIdx[0][0], 'ovr']\n",
    "            defRate = points.at[pointsIdx[0][0], 'ovr']\n",
    "            ovr = points.at[pointsIdx[0][0], 'ovr']\n",
    "            worldCup.at[idx, 'att'] = att\n",
    "            worldCup.at[idx, 'mid'] = mid\n",
    "            worldCup.at[idx, 'def'] = defRate\n",
    "            worldCup.at[idx, 'ovr'] = ovr\n",
    "    else:\n",
    "        # found in data\n",
    "        att = data.at[dataIdx[0][0], 'att']\n",
    "        mid = data.at[dataIdx[0][0], 'mid']\n",
    "        defRate = data.at[dataIdx[0][0], 'def']\n",
    "        ovr = data.at[dataIdx[0][0], 'ovr']\n",
    "        \n",
    "        worldCup.at[idx, 'att'] = att\n",
    "        worldCup.at[idx, 'mid'] = mid\n",
    "        worldCup.at[idx, 'def'] = defRate\n",
    "        worldCup.at[idx, 'ovr'] = ovr\n",
    "    idx += 1\n",
    "    \n",
    "for team in groupH:\n",
    "    worldCup.at[idx, 'Team'] = team\n",
    "    worldCup.at[idx, 'Points'] = 0\n",
    "    worldCup.at[idx, 'Group'] = 'H'\n",
    "    dataIdx = np.where((data['Team'] == team) & (data['Year'] == 2022))\n",
    "    if len(dataIdx[0]) == 0:\n",
    "        # team not in data, check points\n",
    "        pointsIdx = np.where((points['Team'] == team) & (points['Year'] == 2022))\n",
    "        if len(pointsIdx[0]) == 0:\n",
    "            teamsNotFound.append(team)\n",
    "            att = 80\n",
    "            mid = 80\n",
    "            defRate = 80\n",
    "            ovr = 80\n",
    "            worldCup.at[idx, 'att'] = att\n",
    "            worldCup.at[idx, 'mid'] = mid\n",
    "            worldCup.at[idx, 'def'] = defRate\n",
    "            worldCup.at[idx, 'ovr'] = ovr\n",
    "        else:\n",
    "            # found in points\n",
    "            att = points.at[pointsIdx[0][0], 'ovr']\n",
    "            mid = points.at[pointsIdx[0][0], 'ovr']\n",
    "            defRate = points.at[pointsIdx[0][0], 'ovr']\n",
    "            ovr = points.at[pointsIdx[0][0], 'ovr']\n",
    "            worldCup.at[idx, 'att'] = att\n",
    "            worldCup.at[idx, 'mid'] = mid\n",
    "            worldCup.at[idx, 'def'] = defRate\n",
    "            worldCup.at[idx, 'ovr'] = ovr\n",
    "    else:\n",
    "        # found in data\n",
    "        att = data.at[dataIdx[0][0], 'att']\n",
    "        mid = data.at[dataIdx[0][0], 'mid']\n",
    "        defRate = data.at[dataIdx[0][0], 'def']\n",
    "        ovr = data.at[dataIdx[0][0], 'ovr']\n",
    "        \n",
    "        worldCup.at[idx, 'att'] = att\n",
    "        worldCup.at[idx, 'mid'] = mid\n",
    "        worldCup.at[idx, 'def'] = defRate\n",
    "        worldCup.at[idx, 'ovr'] = ovr\n",
    "    idx += 1"
   ]
  },
  {
   "cell_type": "code",
   "execution_count": null,
   "id": "3d08409a",
   "metadata": {},
   "outputs": [],
   "source": [
    "teamsNotFound"
   ]
  },
  {
   "cell_type": "code",
   "execution_count": null,
   "id": "4426fd01",
   "metadata": {},
   "outputs": [],
   "source": [
    "worldCup.head(5)"
   ]
  },
  {
   "cell_type": "code",
   "execution_count": null,
   "id": "f8d87af9",
   "metadata": {},
   "outputs": [],
   "source": [
    "tester = worldCup[worldCup['Team'] == 'Qatar']\n",
    "tester"
   ]
  },
  {
   "cell_type": "code",
   "execution_count": null,
   "id": "57ff444a",
   "metadata": {},
   "outputs": [],
   "source": [
    "type(tester['att'])"
   ]
  },
  {
   "cell_type": "code",
   "execution_count": null,
   "id": "be5af3e4",
   "metadata": {},
   "outputs": [],
   "source": [
    "worldCup[\"att\"] = pd.to_numeric(worldCup[\"att\"])\n",
    "worldCup[\"mid\"] = pd.to_numeric(worldCup[\"mid\"])\n",
    "worldCup[\"def\"] = pd.to_numeric(worldCup[\"def\"])\n",
    "worldCup[\"ovr\"] = pd.to_numeric(worldCup[\"ovr\"])"
   ]
  },
  {
   "cell_type": "code",
   "execution_count": null,
   "id": "728cb779",
   "metadata": {},
   "outputs": [],
   "source": [
    "worldCup[worldCup['Team'] == 'Qatar']['Points'] = 3 + worldCup[worldCup['Team'] == 'Qatar']['Points']\n",
    "worldCup.head(5)"
   ]
  },
  {
   "cell_type": "code",
   "execution_count": null,
   "id": "2275049d",
   "metadata": {},
   "outputs": [],
   "source": [
    "worldCup.at[team1WC.index[0], 'Points'] = 0\n",
    "worldCup.head(5)"
   ]
  },
  {
   "cell_type": "code",
   "execution_count": null,
   "id": "d6c75f89",
   "metadata": {},
   "outputs": [],
   "source": [
    "groupsToRun = [groupA, groupB, groupC, groupD, groupE, groupF, groupG, groupH]\n",
    "for group in groupsToRun:\n",
    "    for i in range(len(group)-1):\n",
    "        team1 = group[i]\n",
    "        team1WC = worldCup[worldCup['Team'] == team1]\n",
    "        predictor = pd.DataFrame(columns = ['att', 'mid', 'def', 'ovr'])\n",
    "        for j in range(i + 1, len(group)):\n",
    "            team2 = group[j]\n",
    "            team2WC = worldCup[worldCup['Team'] == team2]\n",
    "\n",
    "            predictor.at[0,'att'] = team1WC['att'].get_values()[0] - team2WC['att'].get_values()[0]\n",
    "            predictor.at[0,'mid'] = team1WC['mid'].get_values()[0] - team2WC['mid'].get_values()[0]\n",
    "            predictor.at[0,'def'] = team1WC['def'].get_values()[0] - team2WC['def'].get_values()[0]\n",
    "            predictor.at[0,'ovr'] = team1WC['ovr'].get_values()[0] - team2WC['ovr'].get_values()[0]\n",
    "            predictedVal = lm.predict(predictor)\n",
    "            predictedVal[predictedVal <= -.1] = -1\n",
    "            predictedVal[predictedVal >= .1] = 1\n",
    "            predictedVal[(predictedVal < .1) & (predictedVal > -.1)] = 0\n",
    "            if predictedVal == 1:\n",
    "                # team 1 wins\n",
    "                worldCup.at[team1WC.index[0], 'Points'] += 3\n",
    "               # worldCup.at[team1WC.index[0], 'Points'] = 0\n",
    "            elif predictedVal == 0:\n",
    "                # draw\n",
    "                worldCup.at[team1WC.index[0], 'Points'] += 1\n",
    "                worldCup.at[team2WC.index[0], 'Points'] += 1\n",
    "                #worldCup.at[team1WC.index[0], 'Points'] = 0\n",
    "                #worldCup.at[team2WC.index[0], 'Points'] = 0\n",
    "            else:\n",
    "                # team 2 wins\n",
    "                worldCup.at[team2WC.index[0], 'Points'] += 3\n",
    "                #worldCup.at[team2WC.index[0], 'Points'] = 0"
   ]
  },
  {
   "cell_type": "code",
   "execution_count": null,
   "id": "6c762fc0",
   "metadata": {},
   "outputs": [],
   "source": [
    "worldCup"
   ]
  },
  {
   "cell_type": "code",
   "execution_count": null,
   "id": "e50930fd",
   "metadata": {},
   "outputs": [],
   "source": [
    "# maybe just use points"
   ]
  },
  {
   "cell_type": "code",
   "execution_count": null,
   "id": "4c21fa03",
   "metadata": {},
   "outputs": [],
   "source": [
    "points.tail(100)"
   ]
  },
  {
   "cell_type": "markdown",
   "id": "e5caa5dc",
   "metadata": {},
   "source": [
    "## Data Preperation and EDA"
   ]
  },
  {
   "cell_type": "code",
   "execution_count": null,
   "id": "71f2b020",
   "metadata": {},
   "outputs": [],
   "source": [
    "# Drop data from before 2004 as don't have any metrics\n",
    "import numpy as np\n",
    "game = game.where(game['Year'] >= '2004')\n",
    "game = game.dropna()\n",
    "game.head(5)"
   ]
  },
  {
   "cell_type": "code",
   "execution_count": null,
   "id": "d72da42d",
   "metadata": {},
   "outputs": [],
   "source": [
    "game.info()"
   ]
  },
  {
   "cell_type": "code",
   "execution_count": null,
   "id": "116d02ab",
   "metadata": {},
   "outputs": [],
   "source": [
    "game[\"Year\"].value_counts()"
   ]
  },
  {
   "cell_type": "code",
   "execution_count": null,
   "id": "b24e9120",
   "metadata": {},
   "outputs": [],
   "source": [
    "game[\"tournament\"].value_counts()"
   ]
  },
  {
   "cell_type": "markdown",
   "id": "f40ed1f1",
   "metadata": {},
   "source": [
    "## World Cup Bracket Breakdown"
   ]
  },
  {
   "cell_type": "code",
   "execution_count": null,
   "id": "d94df94c",
   "metadata": {},
   "outputs": [],
   "source": [
    "groupA = ['Qatar', 'Ecuador', 'Netherlands', 'Senegal']\n",
    "groupB = ['England', 'Iran', 'USA', 'Wales'] # not sure w Wales\n",
    "groupC = ['Argentina', 'Poland', 'Mexico', 'Saudi Arabia']\n",
    "groupD = ['France', 'Denmark', 'Tunisia', 'Peru'] # Peru not sure\n",
    "groupE = ['Spain', 'Germany', 'Japan', 'Costa Rica'] # Costa rica not sure\n",
    "groupF = ['Belgium', 'Canada', 'Morocco', 'Croatia']\n",
    "groupG = ['Brazil', 'Serbia', 'Switzerland', 'Cameroon']\n",
    "groupH = ['Portugal', 'Ghana', 'Uruguay', 'Korea Republic']\n",
    "\n",
    "worldCupTeams = groupA + groupB + groupC + groupD + groupE + groupF + groupG + groupH\n",
    "\n",
    "# Left side\n",
    "# A1 v B2 : C2 v D2\n",
    "# E1 v F2 : G1 v H2\n",
    "\n",
    "# Right side\n",
    "# D1 v C2 : B1 v A2\n",
    "# F1 v E2 : G2 v H1"
   ]
  },
  {
   "cell_type": "code",
   "execution_count": null,
   "id": "892bb35f",
   "metadata": {},
   "outputs": [],
   "source": []
  },
  {
   "cell_type": "code",
   "execution_count": null,
   "id": "0dc8a3a6",
   "metadata": {},
   "outputs": [],
   "source": [
    "worldCupTeams"
   ]
  },
  {
   "cell_type": "markdown",
   "id": "6c04b5d7",
   "metadata": {},
   "source": [
    "## THIS ONE WORKS"
   ]
  },
  {
   "cell_type": "code",
   "execution_count": null,
   "id": "eb60b4c4",
   "metadata": {},
   "outputs": [],
   "source": [
    "# Need to use the driver: https://stackoverflow.com/questions/52687372/beautifulsoup-not-returning-complete-html-of-the-page\n",
    "import time\n",
    "from bs4 import BeautifulSoup\n",
    "from selenium import webdriver\n",
    "\n",
    "driver = webdriver.Chrome(executable_path=r\"C:/Users/Kyle/Downloads/chromedriver_win32/chromedriver.exe\")\n",
    "driver.get(url)\n",
    "time.sleep(3) #if you want to wait 3 seconds for the page to load\n",
    "#driver.find_element_by_link_text(\"I'm OK with that\").click()\n",
    "#driver.find_element_by_xpath('//button[normalize-space()=I'm OK with that]').click()\n",
    "driver.find_element_by_xpath(\"//button[@id='onetrust-accept-btn-handler']\").click()\n",
    "page_source = driver.page_source\n",
    "soup = BeautifulSoup(page_source, 'lxml')\n",
    "#print(soup.prettify())\n",
    "\n",
    "s = soup.find_all('tr', class_='fc-ranking-item-full_rankingTableFullRow__1nbp7')\n",
    "# print(s)\n",
    "rankedTeams = []\n",
    "\n",
    "# for link in soup.findAll('tr', class_='fc-ranking-item-full_rankingTableFullRow__1nbp7'):\n",
    "#         print(link.get('onclick'))\n",
    "for line in s:\n",
    "    # Each line contains the container for a team\n",
    "    teamName = line.find('span', class_='d-none d-lg-block')\n",
    "    teamName = teamName.text\n",
    "    rankedTeams.append(teamName)\n",
    "    teamPoints = line.find('div', class_=\"d-flex ff-mr-16\")\n",
    "\n",
    "#driver.find_elements_by_xpath('//*[@id=\"content\"]/main/section[2]/div/div/div[2]/div/div/div/div/div[2]/div[2]').click()\n",
    "# driver.find_element_by_css_selector()\n",
    "#python_button.click()\n",
    "driver.find_element_by_xpath(\"//div[@aria-label='Go to Page 2']\").click()\n",
    "page_source = driver.page_source\n",
    "soup2 = BeautifulSoup(page_source, 'lxml')\n",
    "#print(soup2.prettify())\n",
    "s = soup2.find_all('tr', class_='fc-ranking-item-full_rankingTableFullRow__1nbp7')\n",
    "for line in s:\n",
    "    # Each line contains the container for a team\n",
    "    teamName = line.find('span', class_='d-none d-lg-block')\n",
    "    teamName = teamName.text\n",
    "    rankedTeams.append(teamName)\n",
    "    teamPoints = line.find('div', class_=\"d-flex ff-mr-16\")"
   ]
  },
  {
   "cell_type": "code",
   "execution_count": null,
   "id": "81c570dd",
   "metadata": {},
   "outputs": [],
   "source": [
    "rankedTeams"
   ]
  },
  {
   "cell_type": "markdown",
   "id": "6d0b5899",
   "metadata": {},
   "source": [
    "## Current Work"
   ]
  },
  {
   "cell_type": "code",
   "execution_count": null,
   "id": "6a386270",
   "metadata": {},
   "outputs": [],
   "source": [
    "game.head(5)"
   ]
  },
  {
   "cell_type": "code",
   "execution_count": null,
   "id": "952eb406",
   "metadata": {},
   "outputs": [],
   "source": [
    "home = game[\"home_team\"].unique()\n",
    "away = game[\"away_team\"].unique()\n",
    "allTeams = list(set(home).union(set(away)))\n",
    "allTeams.sort()\n",
    "allTeams"
   ]
  },
  {
   "cell_type": "code",
   "execution_count": null,
   "id": "b8c0287c",
   "metadata": {},
   "outputs": [],
   "source": [
    "len(allTeams)"
   ]
  },
  {
   "cell_type": "code",
   "execution_count": null,
   "id": "8444d9fe",
   "metadata": {},
   "outputs": [],
   "source": [
    "missingTeams = set(worldCupTeams).difference(set(rankedTeams))\n",
    "missingTeams"
   ]
  },
  {
   "cell_type": "markdown",
   "id": "ad56c948-a63a-4349-b2fb-aa1b19880aee",
   "metadata": {},
   "source": [
    "## Save the Model"
   ]
  },
  {
   "cell_type": "code",
   "execution_count": null,
   "id": "5b1b67d3-a533-4405-8fbe-63e3722e070b",
   "metadata": {},
   "outputs": [],
   "source": [
    "import pickle\n",
    "# open a file, where you ant to store the data\n",
    "file = open('world_cup_model.pkl', 'wb')\n",
    "\n",
    "# dump information to that file\n",
    "pickle.dump(lm, file)"
   ]
  },
  {
   "cell_type": "markdown",
   "id": "f2098733",
   "metadata": {},
   "source": [
    "## References"
   ]
  },
  {
   "cell_type": "markdown",
   "id": "7254d1b9",
   "metadata": {},
   "source": [
    "[1] Deploying Machine Learning Model Using Heroku. https://datamahadev.com/deploying-machine-learning-model-using-heroku/\n",
    "\n",
    "[2] Using Machine Learning to Simulate World Cup Matches. https://towardsdatascience.com/using-machine-learning-to-simulate-world-cup-matches-959e24d0731\n",
    "\n",
    "[3] World Cup 2018 Prediction. https://www.kaggle.com/code/agostontorok/soccer-world-cup-2018-winner"
   ]
  }
 ],
 "metadata": {
  "kernelspec": {
   "display_name": "Python 3",
   "language": "python",
   "name": "python3"
  },
  "language_info": {
   "codemirror_mode": {
    "name": "ipython",
    "version": 3
   },
   "file_extension": ".py",
   "mimetype": "text/x-python",
   "name": "python",
   "nbconvert_exporter": "python",
   "pygments_lexer": "ipython3",
   "version": "3.8.8"
  }
 },
 "nbformat": 4,
 "nbformat_minor": 5
}
