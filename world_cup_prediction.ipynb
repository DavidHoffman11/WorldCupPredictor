{
 "cells": [
  {
   "cell_type": "markdown",
   "id": "2bf96037-4326-433f-a31e-fc95cc833d62",
   "metadata": {},
   "source": [
    "# World Cup Prediction Model\n",
    "### By: David Hoffman and Kyle Kolodziej"
   ]
  },
  {
   "cell_type": "markdown",
   "id": "e7471c57-c540-41f5-9f38-2245d27c146e",
   "metadata": {},
   "source": [
    "## 1. Problem Definition"
   ]
  },
  {
   "cell_type": "markdown",
   "id": "a691fd27-b7d5-4859-944e-9662fdf5cc93",
   "metadata": {},
   "source": [
    "For this project we would like to take the most recent world cup data (including each team that is playing in the tournament and the different statistical evaluations for these teams) and use this data to predict the percentage for success that a user imputed team has.  The user will be able to input a specific team and different attack and defense ratings for that team and the model will be able to remove that team from the dataset and predict the success percentage for that team given the inputed data.  This will allow a person to see the success percentages of their chosen team given its current data or in a hypothetical situation where its attack or defense is better than it actually is."
   ]
  },
  {
   "cell_type": "markdown",
   "id": "bb3e3f08-1f89-4e65-95f5-4a2cbd943cad",
   "metadata": {},
   "source": [
    "## 2. Data Gathering"
   ]
  },
  {
   "cell_type": "code",
   "execution_count": null,
   "id": "9e1777ef-2f78-4687-9a04-81c9a30ecd87",
   "metadata": {},
   "outputs": [],
   "source": [
    "import pandas as pd\n",
    "import re\n",
    "import requests\n",
    "from bs4 import BeautifulSoup\n",
    "\n",
    "# Code on how to get data extracted from all the teams for all years on both pages of FIFA's International rankings\n",
    "data = pd.DataFrame(columns=['Year', 'Team', 'att', 'mid', 'def', 'ovr'])\n",
    "version = 0\n",
    "for fifa in range(5, 24):\n",
    "    toFind = True\n",
    "    print(\"On fifa \", fifa)\n",
    "    while toFind:\n",
    "        version += 1\n",
    "        #print(\"here\")\n",
    "        for page in range(2):\n",
    "            # https://www.fifaindex.com/teams/fifa22_527/?page=1&type=1\n",
    "            #print(version)\n",
    "            webAddress = \"\"\n",
    "            toCheck = \"\" # check matching version in responses title\n",
    "            if fifa < 10:\n",
    "                toCheck = '0' + str(fifa)\n",
    "                webAddress = 'https://www.fifaindex.com/teams/fifa0' + str(fifa) + '_' + str(version) + '/?page=' + str(page+1)+'&type=1'\n",
    "            elif fifa < 23:\n",
    "                toCheck = str(fifa)\n",
    "                webAddress = 'https://www.fifaindex.com/teams/fifa' + str(fifa) + '_' + str(version) + '/?page=' + str(page+1)+'&type=1'\n",
    "            else:\n",
    "                # Get current stats\n",
    "                toCheck = str(fifa - 1)\n",
    "                webAddress = 'https://www.fifaindex.com/teams/?page=' + str(page+1) + '&type=1'\n",
    "            r = requests.get(webAddress)\n",
    "\n",
    "            if r.status_code != 200:\n",
    "                print(\"Error getting web address\")\n",
    "                version += 1\n",
    "                break\n",
    "    #         else:\n",
    "    #             print(fifa, version, page, )\n",
    "    #             print(r.status_code , webAddress)\n",
    "\n",
    "            soup = BeautifulSoup(r.content, 'html.parser')\n",
    "\n",
    "            #print(soup.prettify())\n",
    "            \n",
    "            if toCheck not in str(soup.title):\n",
    "#                 print(\"not in title!\")\n",
    "#                 print(\"Title: \" + str(soup.title))\n",
    "#                 print(\"Fifa: \" + toCheck + \"\\n\")\n",
    "                break\n",
    "            else:\n",
    "                toFind = False\n",
    "            s = soup.find('table', class_='table table-striped table-teams')\n",
    "            content = s.find_all('td')\n",
    "\n",
    "            year = 1999 + fifa # Need to update\n",
    "            team, attRate, midRate, defRate, ovrRate  = '', None, None, None, None\n",
    "            # teams = []\n",
    "            i = 0\n",
    "            for line in content:\n",
    "                if line.text != '' and line.text != 'International' and line.text != '\\n\\n':\n",
    "                    # Teams was keeping track of all lines parsed, useful for seeing which index corresponds with an attribute\n",
    "                    # teams.append(line.text)\n",
    "                    # Assign value to respective variable\n",
    "                    if i == 0:\n",
    "                        team = line.text\n",
    "                    elif i == 1:\n",
    "                        attRate = line.text\n",
    "                    elif i == 2:\n",
    "                        midRate = line.text\n",
    "                    elif i == 3:\n",
    "                        defRate = line.text\n",
    "                    elif i == 4:\n",
    "                        ovrRate = line.text\n",
    "                        df2 = pd.DataFrame({'Year': [year],\n",
    "                                'Team': [team],\n",
    "                                'att': [attRate],\n",
    "                                'mid': [midRate],\n",
    "                                'def': [defRate],\n",
    "                                'ovr': [ovrRate]})\n",
    "                        data = data.append(df2, ignore_index = True)\n",
    "\n",
    "                    # Update i\n",
    "                    # If i is at 5, reset to 0 as at the start of a new team in the content\n",
    "                    i += 1\n",
    "                    if i == 5:\n",
    "                        i = 0"
   ]
  },
  {
   "cell_type": "code",
   "execution_count": null,
   "id": "dc76b2f9-0e2a-416e-b4cb-89d6463945ae",
   "metadata": {},
   "outputs": [],
   "source": [
    "data.tail(5)"
   ]
  },
  {
   "cell_type": "markdown",
   "id": "31b793e8-63d1-45f9-a244-a62f52e1ee90",
   "metadata": {},
   "source": [
    "Get previous game data"
   ]
  },
  {
   "cell_type": "code",
   "execution_count": null,
   "id": "a9817617-8e05-43a8-a890-fc0845ed8530",
   "metadata": {},
   "outputs": [],
   "source": [
    "game = pd.read_csv(\"results.csv\")\n",
    "game[\"Year\"] = game.date.str[:4].astype(str) # string splice first 4 letters of entire date column\n",
    "\n",
    "game.head(5)"
   ]
  },
  {
   "cell_type": "markdown",
   "id": "88756e77-4876-4021-9c81-e76361f30050",
   "metadata": {},
   "source": [
    "## 3. Data Preperation and EDA"
   ]
  },
  {
   "cell_type": "code",
   "execution_count": null,
   "id": "2ef4ee0c-6817-47d3-acf9-145c9f706cd8",
   "metadata": {},
   "outputs": [],
   "source": [
    "# Drop data from before 2004 as don't have any metrics\n",
    "import numpy as np\n",
    "game = game.where(game['Year'] >= '2004')\n",
    "game = game.dropna()\n",
    "game.head(5)"
   ]
  },
  {
   "cell_type": "code",
   "execution_count": null,
   "id": "d4e4751c-e5ab-4697-9fad-8b948f22b2bb",
   "metadata": {},
   "outputs": [],
   "source": [
    "game.info()"
   ]
  },
  {
   "cell_type": "code",
   "execution_count": null,
   "id": "439584e8-3160-4814-8116-4e5b350d984b",
   "metadata": {},
   "outputs": [],
   "source": [
    "game[\"Year\"].value_counts()"
   ]
  },
  {
   "cell_type": "code",
   "execution_count": null,
   "id": "49eaed6a-1860-49d7-942c-685d3104ad1a",
   "metadata": {},
   "outputs": [],
   "source": [
    "game[\"tournament\"].value_counts()"
   ]
  },
  {
   "cell_type": "markdown",
   "id": "85a528c1-1d7f-44d6-94f5-2535c62899d1",
   "metadata": {},
   "source": [
    "## 4. Feature Engineering and Feature Selection"
   ]
  },
  {
   "cell_type": "code",
   "execution_count": null,
   "id": "2420c72d-497a-442e-a7ae-d4c89e59e090",
   "metadata": {},
   "outputs": [],
   "source": []
  },
  {
   "cell_type": "markdown",
   "id": "be237450-3257-4c22-80a7-114faabdfb06",
   "metadata": {},
   "source": [
    "## 5. Model Training and Model Evaluation"
   ]
  },
  {
   "cell_type": "code",
   "execution_count": null,
   "id": "01c07d74-44a3-4194-b28b-886436a027bc",
   "metadata": {},
   "outputs": [],
   "source": []
  },
  {
   "cell_type": "markdown",
   "id": "c42b286d-9023-4791-b08f-001ce61e9823",
   "metadata": {},
   "source": [
    "## 6. Hyperparameter Tuning and Evaluation"
   ]
  },
  {
   "cell_type": "code",
   "execution_count": null,
   "id": "dac4c920-8b6e-4ab1-bcdd-6991af4807fb",
   "metadata": {},
   "outputs": [],
   "source": []
  },
  {
   "cell_type": "markdown",
   "id": "40e0774c-93b0-4dce-a738-87e8b8f25cf5",
   "metadata": {},
   "source": [
    "## 7. Prediction"
   ]
  },
  {
   "cell_type": "code",
   "execution_count": null,
   "id": "60ea6cf6-f0d3-496f-a2ab-05e1a44b8091",
   "metadata": {},
   "outputs": [],
   "source": []
  },
  {
   "cell_type": "markdown",
   "id": "6048ff14-09bd-400d-826e-152ec35a8761",
   "metadata": {},
   "source": [
    "## 8. References"
   ]
  },
  {
   "cell_type": "markdown",
   "id": "3fc7b3e4-bcc2-47b0-a8eb-547a100a9f25",
   "metadata": {},
   "source": [
    "[1] Deploying Machine Learning Model Using Heroku. https://datamahadev.com/deploying-machine-learning-model-using-heroku/\n",
    "\n",
    "[2] Using Machine Learning to Simulate World Cup Matches. https://towardsdatascience.com/using-machine-learning-to-simulate-world-cup-matches-959e24d0731\n",
    "\n",
    "[3] World Cup 2018 Prediction. https://www.kaggle.com/code/agostontorok/soccer-world-cup-2018-winner"
   ]
  }
 ],
 "metadata": {
  "kernelspec": {
   "display_name": "Python 3",
   "language": "python",
   "name": "python3"
  },
  "language_info": {
   "codemirror_mode": {
    "name": "ipython",
    "version": 3
   },
   "file_extension": ".py",
   "mimetype": "text/x-python",
   "name": "python",
   "nbconvert_exporter": "python",
   "pygments_lexer": "ipython3",
   "version": "3.8.8"
  }
 },
 "nbformat": 4,
 "nbformat_minor": 5
}
