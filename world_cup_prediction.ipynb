{
 "cells": [
  {
   "cell_type": "markdown",
   "metadata": {},
   "source": [
    "# World Cup Prediction Model\n",
    "### By: David Hoffman and Kyle Kolodziej"
   ]
  },
  {
   "cell_type": "markdown",
   "metadata": {},
   "source": [
    "## 1. Problem Definition"
   ]
  },
  {
   "cell_type": "markdown",
   "metadata": {},
   "source": [
    "For this project we would like to take the most recent world cup data (including each team that is playing in the tournament and the different statistical evaluations for these teams) and use this data to predict the percentage for success that a user imputed team has.  The user will be able to input a specific team and different attack and defense ratings for that team and the model will be able to remove that team from the dataset and predict the success percentage for that team given the inputed data.  This will allow a person to see the success percentages of their chosen team given its current data or in a hypothetical situation where its attack or defense is better than it actually is."
   ]
  },
  {
   "cell_type": "markdown",
   "metadata": {},
   "source": [
    "## 2. Data Gathering"
   ]
  },
  {
   "cell_type": "code",
   "execution_count": 2,
   "metadata": {},
   "outputs": [
    {
     "name": "stderr",
     "output_type": "stream",
     "text": [
      "C:\\Users\\Kyle\\Anaconda3\\lib\\site-packages\\requests\\__init__.py:91: RequestsDependencyWarning: urllib3 (1.26.9) or chardet (3.0.4) doesn't match a supported version!\n",
      "  RequestsDependencyWarning)\n"
     ]
    }
   ],
   "source": [
    "import pandas as pd\n",
    "import re\n",
    "import requests\n",
    "from bs4 import BeautifulSoup\n",
    "\n",
    "# Code on how to get data extracted from all the teams for all years on both pages of FIFA's International rankings\n",
    "data = pd.DataFrame(columns=['Year', 'Team', 'att', 'mid', 'def', 'ovr'])\n",
    "version = 0\n",
    "for fifa in range(5, 24):\n",
    "    toFind = True\n",
    "#     print(\"On fifa \", fifa)\n",
    "    while toFind:\n",
    "        version += 1\n",
    "        for page in range(2):\n",
    "            # https://www.fifaindex.com/teams/fifa22_527/?page=1&type=1\n",
    "            webAddress = \"\"\n",
    "            toCheck = \"\" # check matching version in responses title\n",
    "            if fifa < 10:\n",
    "                toCheck = '0' + str(fifa)\n",
    "                webAddress = 'https://www.fifaindex.com/teams/fifa0' + str(fifa) + '_' + str(version) + '/?page=' + str(page+1)+'&type=1'\n",
    "            elif fifa < 23:\n",
    "                toCheck = str(fifa)\n",
    "                webAddress = 'https://www.fifaindex.com/teams/fifa' + str(fifa) + '_' + str(version) + '/?page=' + str(page+1)+'&type=1'\n",
    "            else:\n",
    "                # Get current stats\n",
    "                toCheck = str(fifa - 1)\n",
    "                webAddress = 'https://www.fifaindex.com/teams/?page=' + str(page+1) + '&type=1'\n",
    "            r = requests.get(webAddress)\n",
    "\n",
    "            if r.status_code != 200:\n",
    "                #print(\"Error getting web address\")\n",
    "                version += 1\n",
    "                break\n",
    "                \n",
    "            soup = BeautifulSoup(r.content, 'html.parser')\n",
    "            \n",
    "            if toCheck not in str(soup.title):\n",
    "#                 print(\"not in title!\")\n",
    "#                 print(\"Title: \" + str(soup.title))\n",
    "#                 print(\"Fifa: \" + toCheck + \"\\n\")\n",
    "                break\n",
    "            else:\n",
    "                toFind = False\n",
    "            s = soup.find('table', class_='table table-striped table-teams')\n",
    "            content = s.find_all('td')\n",
    "            \n",
    "            year = 1999 + fifa # Need to update\n",
    "            team, attRate, midRate, defRate, ovrRate  = '', None, None, None, None\n",
    "            #textLines = []\n",
    "            i = 0\n",
    "            for line in content:\n",
    "                \n",
    "                if line.text != '' and line.text != 'International' and line.text != '\\n\\n' and line.text != \"Men's National\":\n",
    "                    # textLines was keeping track of all lines parsed, useful for seeing which index corresponds with an attribute\n",
    "                    # textLines.append(line)\n",
    "                    #print(\"Line: \\n\" + str(line) + \"\\n\")\n",
    "                    \n",
    "                    \n",
    "                    # Assign value to respective variable\n",
    "                    if i == 0:\n",
    "                        team = line.text\n",
    "                    elif i == 1:\n",
    "                        attRate = line.text\n",
    "                    elif i == 2:\n",
    "                        midRate = line.text\n",
    "                    elif i == 3:\n",
    "                        defRate = line.text\n",
    "                    elif i == 4:\n",
    "                        ovrRate = line.text\n",
    "                        df2 = pd.DataFrame({'Year': [year],\n",
    "                                'Team': [team],\n",
    "                                'att': [attRate],\n",
    "                                'mid': [midRate],\n",
    "                                'def': [defRate],\n",
    "                                'ovr': [ovrRate]})\n",
    "                        data = data.append(df2, ignore_index = True)\n",
    "\n",
    "                    # Update i\n",
    "                    # If i is at 5, reset to 0 as at the start of a new team in the content\n",
    "                    i += 1\n",
    "                    if i == 5:\n",
    "                        i = 0"
   ]
  },
  {
   "cell_type": "code",
   "execution_count": 3,
   "metadata": {},
   "outputs": [
    {
     "data": {
      "text/html": [
       "<div>\n",
       "<style scoped>\n",
       "    .dataframe tbody tr th:only-of-type {\n",
       "        vertical-align: middle;\n",
       "    }\n",
       "\n",
       "    .dataframe tbody tr th {\n",
       "        vertical-align: top;\n",
       "    }\n",
       "\n",
       "    .dataframe thead th {\n",
       "        text-align: right;\n",
       "    }\n",
       "</style>\n",
       "<table border=\"1\" class=\"dataframe\">\n",
       "  <thead>\n",
       "    <tr style=\"text-align: right;\">\n",
       "      <th></th>\n",
       "      <th>Year</th>\n",
       "      <th>Team</th>\n",
       "      <th>att</th>\n",
       "      <th>mid</th>\n",
       "      <th>def</th>\n",
       "      <th>ovr</th>\n",
       "    </tr>\n",
       "  </thead>\n",
       "  <tbody>\n",
       "    <tr>\n",
       "      <th>0</th>\n",
       "      <td>2004</td>\n",
       "      <td>France</td>\n",
       "      <td>94</td>\n",
       "      <td>89</td>\n",
       "      <td>84</td>\n",
       "      <td>88</td>\n",
       "    </tr>\n",
       "  </tbody>\n",
       "</table>\n",
       "</div>"
      ],
      "text/plain": [
       "   Year    Team att mid def ovr\n",
       "0  2004  France  94  89  84  88"
      ]
     },
     "execution_count": 3,
     "metadata": {},
     "output_type": "execute_result"
    }
   ],
   "source": [
    "data.head(1)"
   ]
  },
  {
   "cell_type": "markdown",
   "metadata": {},
   "source": [
    "Nice got all the of the stats on each team from 2004"
   ]
  },
  {
   "cell_type": "markdown",
   "metadata": {},
   "source": [
    "Fifa is missing some of the world cup teams so will need to impute them based off of world cup rankings\n",
    "* impute rankings from https://www.fifa.com/fifa-world-ranking"
   ]
  },
  {
   "cell_type": "code",
   "execution_count": 4,
   "metadata": {},
   "outputs": [],
   "source": [
    "def parseFifaRankData(points, page_source, year):\n",
    "    # Function to parse a page on a Fifa Ranking page\n",
    "    # Inserts the Team Name along with their Points and Overall Rank for the respective year into the data frame points\n",
    "    # Points and Overall Rank will be normalized\n",
    "    \n",
    "    soup = BeautifulSoup(page_source, 'lxml')\n",
    "    s = soup.find_all('tr', class_='fc-ranking-item-full_rankingTableFullRow__1nbp7')\n",
    "    pointArr = []\n",
    "    rankArr = []\n",
    "    nameArr = []\n",
    "    yearArr = []\n",
    "    for line in s:\n",
    "        # Each line contains the container for a team\n",
    "        teamName = line.find('span', class_='d-none d-lg-block').text\n",
    "        nameArr.append(teamName)\n",
    "        teamPoints = line.find('div', class_=\"d-flex ff-mr-16\").text\n",
    "        pointArr.append(float(teamPoints))\n",
    "        teamRank = line.find('h6', class_=\"ff-m-0\").text\n",
    "        rankArr.append(float(teamRank))\n",
    "        yearArr.append(year)\n",
    "\n",
    "    # Normalize points and rank then add to the data frame\n",
    "    pointNorm = np.linalg.norm(pointArr)\n",
    "    normPointArr = pointArr/pointNorm\n",
    "    \n",
    "    rankNorm = np.linalg.norm(rankArr)\n",
    "    normRankArr = rankArr/rankNorm\n",
    "    \n",
    "    df2 = pd.DataFrame({'Year': yearArr,\n",
    "                    'Team': nameArr,\n",
    "                    'Points': normPointArr,\n",
    "                    'Rank': normRankArr})\n",
    "    points = points.append(df2, ignore_index = True)\n",
    "    return points\n",
    "        "
   ]
  },
  {
   "cell_type": "code",
   "execution_count": 8,
   "metadata": {},
   "outputs": [
    {
     "name": "stderr",
     "output_type": "stream",
     "text": [
      "C:\\Users\\Kyle\\Anaconda3\\lib\\site-packages\\ipykernel_launcher.py:10: DeprecationWarning: executable_path has been deprecated, please pass in a Service object\n",
      "  # Remove the CWD from sys.path while we load stuff.\n",
      "C:\\Users\\Kyle\\Anaconda3\\lib\\site-packages\\ipykernel_launcher.py:13: DeprecationWarning: find_element_by_xpath is deprecated. Please use find_element(by=By.XPATH, value=xpath) instead\n",
      "  del sys.path[0]\n",
      "C:\\Users\\Kyle\\Anaconda3\\lib\\site-packages\\ipykernel_launcher.py:20: DeprecationWarning: find_element_by_xpath is deprecated. Please use find_element(by=By.XPATH, value=xpath) instead\n",
      "C:\\Users\\Kyle\\Anaconda3\\lib\\site-packages\\ipykernel_launcher.py:21: DeprecationWarning: find_element_by_xpath is deprecated. Please use find_element(by=By.XPATH, value=xpath) instead\n",
      "C:\\Users\\Kyle\\Anaconda3\\lib\\site-packages\\ipykernel_launcher.py:25: DeprecationWarning: find_element_by_xpath is deprecated. Please use find_element(by=By.XPATH, value=xpath) instead\n"
     ]
    }
   ],
   "source": [
    "# Need to use the driver: https://stackoverflow.com/questions/52687372/beautifulsoup-not-returning-complete-html-of-the-page\n",
    "import time\n",
    "from bs4 import BeautifulSoup\n",
    "from selenium import webdriver\n",
    "import numpy as np\n",
    "\n",
    "points = pd.DataFrame(columns=['Year', 'Team', 'Points', 'Rank'])\n",
    "\n",
    "url = \"https://www.fifa.com/fifa-world-ranking/men?dateId=id13603\"\n",
    "driver = webdriver.Chrome(executable_path=r\"C:/Users/Kyle/Downloads/chromedriver_win32/chromedriver.exe\")\n",
    "driver.get(url)\n",
    "time.sleep(3) #if you want to wait 3 seconds for the page to load\n",
    "driver.find_element_by_xpath(\"//button[@id='onetrust-accept-btn-handler']\").click()\n",
    "\n",
    "\n",
    "for year in range(2004, 2023):\n",
    "    # Get data of top 100 teams from 2004 to 2022 in February\n",
    "    date = 'Feb ' + str(year)\n",
    "    xPath = \"//button[@class='ff-dropdown_dropupContentButton__3WmBL' and contains(.,'\" + date + \"')]\"\n",
    "    driver.find_element_by_xpath(\"//div[@class='ff-dropdown_dropup__3DoLH null ']\").click()\n",
    "    driver.find_element_by_xpath(xPath).click() # click to this year\n",
    "    time.sleep(1) # wait for the page to load for 1 sec\n",
    "    points = parseFifaRankData(points, driver.page_source, year)\n",
    "    \n",
    "    driver.find_element_by_xpath(\"//div[@aria-label='Go to Page 2']\").click() # page 2\n",
    "    time.sleep(1) # wait for the page to load for 1 sec\n",
    "    points = parseFifaRankData(points, driver.page_source, year)\n"
   ]
  },
  {
   "cell_type": "code",
   "execution_count": 9,
   "metadata": {},
   "outputs": [
    {
     "data": {
      "text/html": [
       "<div>\n",
       "<style scoped>\n",
       "    .dataframe tbody tr th:only-of-type {\n",
       "        vertical-align: middle;\n",
       "    }\n",
       "\n",
       "    .dataframe tbody tr th {\n",
       "        vertical-align: top;\n",
       "    }\n",
       "\n",
       "    .dataframe thead th {\n",
       "        text-align: right;\n",
       "    }\n",
       "</style>\n",
       "<table border=\"1\" class=\"dataframe\">\n",
       "  <thead>\n",
       "    <tr style=\"text-align: right;\">\n",
       "      <th></th>\n",
       "      <th>Year</th>\n",
       "      <th>Team</th>\n",
       "      <th>Points</th>\n",
       "      <th>Rank</th>\n",
       "    </tr>\n",
       "  </thead>\n",
       "  <tbody>\n",
       "    <tr>\n",
       "      <th>0</th>\n",
       "      <td>2004</td>\n",
       "      <td>Brazil</td>\n",
       "      <td>0.178185</td>\n",
       "      <td>0.004833</td>\n",
       "    </tr>\n",
       "  </tbody>\n",
       "</table>\n",
       "</div>"
      ],
      "text/plain": [
       "   Year    Team    Points      Rank\n",
       "0  2004  Brazil  0.178185  0.004833"
      ]
     },
     "execution_count": 9,
     "metadata": {},
     "output_type": "execute_result"
    }
   ],
   "source": [
    "points.head(1)"
   ]
  },
  {
   "cell_type": "code",
   "execution_count": 10,
   "metadata": {},
   "outputs": [
    {
     "data": {
      "text/html": [
       "<div>\n",
       "<style scoped>\n",
       "    .dataframe tbody tr th:only-of-type {\n",
       "        vertical-align: middle;\n",
       "    }\n",
       "\n",
       "    .dataframe tbody tr th {\n",
       "        vertical-align: top;\n",
       "    }\n",
       "\n",
       "    .dataframe thead th {\n",
       "        text-align: right;\n",
       "    }\n",
       "</style>\n",
       "<table border=\"1\" class=\"dataframe\">\n",
       "  <thead>\n",
       "    <tr style=\"text-align: right;\">\n",
       "      <th></th>\n",
       "      <th>Year</th>\n",
       "      <th>Team</th>\n",
       "      <th>Points</th>\n",
       "      <th>Rank</th>\n",
       "    </tr>\n",
       "  </thead>\n",
       "  <tbody>\n",
       "    <tr>\n",
       "      <th>1899</th>\n",
       "      <td>2022</td>\n",
       "      <td>Palestine</td>\n",
       "      <td>0.12922</td>\n",
       "      <td>0.183982</td>\n",
       "    </tr>\n",
       "  </tbody>\n",
       "</table>\n",
       "</div>"
      ],
      "text/plain": [
       "      Year       Team   Points      Rank\n",
       "1899  2022  Palestine  0.12922  0.183982"
      ]
     },
     "execution_count": 10,
     "metadata": {},
     "output_type": "execute_result"
    }
   ],
   "source": [
    "points.tail(1)"
   ]
  },
  {
   "cell_type": "markdown",
   "metadata": {},
   "source": [
    "Nice got all the points and rank in there with the teams (with points and rank normalized by year)"
   ]
  },
  {
   "cell_type": "markdown",
   "metadata": {},
   "source": [
    "# Align the Team Name's Syntax Between Points and Data"
   ]
  },
  {
   "cell_type": "code",
   "execution_count": 11,
   "metadata": {},
   "outputs": [],
   "source": [
    "pointsTeams = points[\"Team\"].unique()\n",
    "dataTeams = data[\"Team\"].unique()\n",
    "pointsTeamsNotInData = np.setdiff1d(pointsTeams, dataTeams)\n",
    "dataTeamsNotInPoints = np.setdiff1d(dataTeams, pointsTeams)"
   ]
  },
  {
   "cell_type": "code",
   "execution_count": 12,
   "metadata": {},
   "outputs": [
    {
     "data": {
      "text/plain": [
       "array(['Albania', 'Algeria', 'Angola', 'Antigua and Barbuda', 'Armenia',\n",
       "       'Azerbaijan', 'Bahrain', 'Belarus', 'Benin',\n",
       "       'Bosnia and Herzegovina', 'Botswana', 'Burkina Faso', 'Cabo Verde',\n",
       "       'Cape Verde Islands', 'Central African Republic', 'Congo',\n",
       "       'Congo DR', 'Cuba', 'Curacao', 'Curaçao', 'Cyprus',\n",
       "       'Dominican Republic', 'El Salvador', 'Equatorial Guinea',\n",
       "       'Estonia', 'Ethiopia', 'FYR Macedonia', 'Faroe Islands', 'Gabon',\n",
       "       'Gambia', 'Georgia', 'Ghana', 'Grenada', 'Guatemala', 'Guinea',\n",
       "       'Guinea-Bissau', 'Guyana', 'Haiti', 'Honduras', 'IR Iran',\n",
       "       'Indonesia', 'Iraq', 'Israel', 'Jamaica', 'Japan', 'Jordan',\n",
       "       'Kazakhstan', 'Kenya', 'Korea DPR', 'Kuwait', 'Kyrgyz Republic',\n",
       "       'Latvia', 'Lebanon', 'Liberia', 'Libya', 'Lithuania', 'Luxembourg',\n",
       "       'Madagascar', 'Malawi', 'Mali', 'Mauritania', 'Moldova',\n",
       "       'Montenegro', 'Morocco', 'Mozambique', 'Namibia', 'Niger',\n",
       "       'North Macedonia', 'Oman', 'Palestine', 'Panama', 'Qatar',\n",
       "       'Rwanda', 'Senegal', 'Serbia and Montenegro', 'Sierra Leone',\n",
       "       'Singapore', 'Slovakia', 'St. Kitts and Nevis',\n",
       "       'St. Vincent and the Grenadines', 'Sudan', 'Swaziland', 'Syria',\n",
       "       'Thailand', 'Togo', 'Trinidad and Tobago', 'Turkmenistan', 'USA',\n",
       "       'Uganda', 'United Arab Emirates', 'Uzbekistan', 'Vietnam',\n",
       "       'Zambia', 'Zimbabwe'], dtype=object)"
      ]
     },
     "execution_count": 12,
     "metadata": {},
     "output_type": "execute_result"
    }
   ],
   "source": [
    "pointsTeamsNotInData"
   ]
  },
  {
   "cell_type": "code",
   "execution_count": 13,
   "metadata": {},
   "outputs": [
    {
     "data": {
      "text/plain": [
       "array(['Austria (National team)', 'Holland', 'India', 'Rep. Of Korea',\n",
       "       'Republic Of Ireland', 'United States'], dtype=object)"
      ]
     },
     "execution_count": 13,
     "metadata": {},
     "output_type": "execute_result"
    }
   ],
   "source": [
    "dataTeamsNotInPoints"
   ]
  },
  {
   "cell_type": "code",
   "execution_count": 14,
   "metadata": {},
   "outputs": [
    {
     "data": {
      "text/plain": [
       "array(['Albania', 'Algeria', 'Angola', 'Antigua and Barbuda', 'Argentina',\n",
       "       'Armenia', 'Australia', 'Austria', 'Azerbaijan', 'Bahrain',\n",
       "       'Belarus', 'Belgium', 'Benin', 'Bolivia', 'Bosnia and Herzegovina',\n",
       "       'Botswana', 'Brazil', 'Bulgaria', 'Burkina Faso', 'Cabo Verde',\n",
       "       'Cameroon', 'Canada', 'Cape Verde Islands',\n",
       "       'Central African Republic', 'Chile', 'China PR', 'Colombia',\n",
       "       'Congo', 'Congo DR', 'Costa Rica', 'Croatia', 'Cuba', 'Curacao',\n",
       "       'Curaçao', 'Cyprus', 'Czech Republic', \"Côte d'Ivoire\", 'Denmark',\n",
       "       'Dominican Republic', 'Ecuador', 'Egypt', 'El Salvador', 'England',\n",
       "       'Equatorial Guinea', 'Estonia', 'Ethiopia', 'FYR Macedonia',\n",
       "       'Faroe Islands', 'Finland', 'France', 'Gabon', 'Gambia', 'Georgia',\n",
       "       'Germany', 'Ghana', 'Greece', 'Grenada', 'Guatemala', 'Guinea',\n",
       "       'Guinea-Bissau', 'Guyana', 'Haiti', 'Honduras', 'Hungary',\n",
       "       'IR Iran', 'Iceland', 'Indonesia', 'Iraq', 'Israel', 'Italy',\n",
       "       'Jamaica', 'Japan', 'Jordan', 'Kazakhstan', 'Kenya', 'Korea DPR',\n",
       "       'Korea Republic', 'Kuwait', 'Kyrgyz Republic', 'Latvia', 'Lebanon',\n",
       "       'Liberia', 'Libya', 'Lithuania', 'Luxembourg', 'Madagascar',\n",
       "       'Malawi', 'Mali', 'Mauritania', 'Mexico', 'Moldova', 'Montenegro',\n",
       "       'Morocco', 'Mozambique', 'Namibia', 'Netherlands', 'New Zealand',\n",
       "       'Niger', 'Nigeria', 'North Macedonia', 'Northern Ireland',\n",
       "       'Norway', 'Oman', 'Palestine', 'Panama', 'Paraguay', 'Peru',\n",
       "       'Poland', 'Portugal', 'Qatar', 'Republic of Ireland', 'Romania',\n",
       "       'Russia', 'Rwanda', 'Saudi Arabia', 'Scotland', 'Senegal',\n",
       "       'Serbia', 'Serbia and Montenegro', 'Sierra Leone', 'Singapore',\n",
       "       'Slovakia', 'Slovenia', 'South Africa', 'Spain',\n",
       "       'St. Kitts and Nevis', 'St. Vincent and the Grenadines', 'Sudan',\n",
       "       'Swaziland', 'Sweden', 'Switzerland', 'Syria', 'Thailand', 'Togo',\n",
       "       'Trinidad and Tobago', 'Tunisia', 'Turkey', 'Turkmenistan', 'USA',\n",
       "       'Uganda', 'Ukraine', 'United Arab Emirates', 'Uruguay',\n",
       "       'Uzbekistan', 'Venezuela', 'Vietnam', 'Wales', 'Zambia',\n",
       "       'Zimbabwe'], dtype=object)"
      ]
     },
     "execution_count": 14,
     "metadata": {},
     "output_type": "execute_result"
    }
   ],
   "source": [
    "pointsTeams.sort()\n",
    "pointsTeams"
   ]
  },
  {
   "cell_type": "code",
   "execution_count": 15,
   "metadata": {},
   "outputs": [
    {
     "data": {
      "text/plain": [
       "array(['Argentina', 'Australia', 'Austria', 'Austria (National team)',\n",
       "       'Belgium', 'Bolivia', 'Brazil', 'Bulgaria', 'Cameroon', 'Canada',\n",
       "       'Chile', 'China PR', 'Colombia', 'Costa Rica', 'Croatia',\n",
       "       'Czech Republic', \"Côte d'Ivoire\", 'Denmark', 'Ecuador', 'Egypt',\n",
       "       'England', 'Finland', 'France', 'Germany', 'Greece', 'Holland',\n",
       "       'Hungary', 'Iceland', 'India', 'Italy', 'Korea Republic', 'Mexico',\n",
       "       'Netherlands', 'New Zealand', 'Nigeria', 'Northern Ireland',\n",
       "       'Norway', 'Paraguay', 'Peru', 'Poland', 'Portugal',\n",
       "       'Rep. Of Korea', 'Republic Of Ireland', 'Republic of Ireland',\n",
       "       'Romania', 'Russia', 'Saudi Arabia', 'Scotland', 'Serbia',\n",
       "       'Slovenia', 'South Africa', 'Spain', 'Sweden', 'Switzerland',\n",
       "       'Tunisia', 'Turkey', 'Ukraine', 'United States', 'Uruguay',\n",
       "       'Venezuela', 'Wales'], dtype=object)"
      ]
     },
     "execution_count": 15,
     "metadata": {},
     "output_type": "execute_result"
    }
   ],
   "source": [
    "dataTeams.sort()\n",
    "dataTeams"
   ]
  },
  {
   "cell_type": "markdown",
   "metadata": {},
   "source": [
    "Team names to change in data...\n",
    "* Austria (National team) --> Austria\n",
    "* Holland --> Netherlands\n",
    "* Rep. Of Korea --> Korea Republic\n",
    "* United States --> USA\n",
    "* Republic Of Ireland --> Republic of Ireland\n",
    "\n",
    "Team names to change in points...\n",
    "* Korea DPR --> Korea Republic"
   ]
  },
  {
   "cell_type": "code",
   "execution_count": 16,
   "metadata": {},
   "outputs": [],
   "source": [
    "data.loc[data[\"Team\"] == \"Austria (National team)\", \"Team\"] = \"Austria\"\n",
    "data.loc[data[\"Team\"] == \"Holland\", \"Team\"] = \"Netherlands\"\n",
    "data.loc[data[\"Team\"] == \"Rep. Of Korea\", \"Team\"] = \"Korea Republic\"\n",
    "data.loc[data[\"Team\"] == \"United States\", \"Team\"] = \"USA\"\n",
    "data.loc[data[\"Team\"] == \"Republic Of Ireland\", \"Team\"] = \"Republic of Ireland\"\n",
    "points.loc[points[\"Team\"] == \"Korea DPR\", \"Team\"] = \"Korea Republic\""
   ]
  },
  {
   "cell_type": "markdown",
   "metadata": {},
   "source": [
    "# Impute Each Team's OVR"
   ]
  },
  {
   "cell_type": "markdown",
   "metadata": {},
   "source": [
    "* Merge the data frames points and data on Year and Team\n",
    "* Drop the NaN's\n",
    "* Drop the columns Team, att, mid, def\n",
    "* OHE the years\n",
    "\n",
    "Now would be able to train/test split for imputing...\n",
    "* y = ovr\n",
    "* x = everything else (year OHE, points, rank)\n"
   ]
  },
  {
   "cell_type": "code",
   "execution_count": 17,
   "metadata": {},
   "outputs": [
    {
     "data": {
      "text/html": [
       "<div>\n",
       "<style scoped>\n",
       "    .dataframe tbody tr th:only-of-type {\n",
       "        vertical-align: middle;\n",
       "    }\n",
       "\n",
       "    .dataframe tbody tr th {\n",
       "        vertical-align: top;\n",
       "    }\n",
       "\n",
       "    .dataframe thead th {\n",
       "        text-align: right;\n",
       "    }\n",
       "</style>\n",
       "<table border=\"1\" class=\"dataframe\">\n",
       "  <thead>\n",
       "    <tr style=\"text-align: right;\">\n",
       "      <th></th>\n",
       "      <th>Year</th>\n",
       "      <th>Team</th>\n",
       "      <th>Points</th>\n",
       "      <th>Rank</th>\n",
       "      <th>att</th>\n",
       "      <th>mid</th>\n",
       "      <th>def</th>\n",
       "      <th>ovr</th>\n",
       "    </tr>\n",
       "  </thead>\n",
       "  <tbody>\n",
       "    <tr>\n",
       "      <th>0</th>\n",
       "      <td>2004</td>\n",
       "      <td>Brazil</td>\n",
       "      <td>0.178185</td>\n",
       "      <td>0.004833</td>\n",
       "      <td>92</td>\n",
       "      <td>88</td>\n",
       "      <td>87</td>\n",
       "      <td>88</td>\n",
       "    </tr>\n",
       "    <tr>\n",
       "      <th>1</th>\n",
       "      <td>2004</td>\n",
       "      <td>France</td>\n",
       "      <td>0.174394</td>\n",
       "      <td>0.009667</td>\n",
       "      <td>94</td>\n",
       "      <td>89</td>\n",
       "      <td>84</td>\n",
       "      <td>88</td>\n",
       "    </tr>\n",
       "    <tr>\n",
       "      <th>2</th>\n",
       "      <td>2004</td>\n",
       "      <td>Spain</td>\n",
       "      <td>0.167444</td>\n",
       "      <td>0.014500</td>\n",
       "      <td>90</td>\n",
       "      <td>88</td>\n",
       "      <td>86</td>\n",
       "      <td>88</td>\n",
       "    </tr>\n",
       "    <tr>\n",
       "      <th>4</th>\n",
       "      <td>2004</td>\n",
       "      <td>Mexico</td>\n",
       "      <td>0.156281</td>\n",
       "      <td>0.024167</td>\n",
       "      <td>70</td>\n",
       "      <td>71</td>\n",
       "      <td>68</td>\n",
       "      <td>70</td>\n",
       "    </tr>\n",
       "    <tr>\n",
       "      <th>5</th>\n",
       "      <td>2004</td>\n",
       "      <td>Argentina</td>\n",
       "      <td>0.156070</td>\n",
       "      <td>0.029000</td>\n",
       "      <td>86</td>\n",
       "      <td>85</td>\n",
       "      <td>87</td>\n",
       "      <td>85</td>\n",
       "    </tr>\n",
       "  </tbody>\n",
       "</table>\n",
       "</div>"
      ],
      "text/plain": [
       "   Year       Team    Points      Rank att mid def ovr\n",
       "0  2004     Brazil  0.178185  0.004833  92  88  87  88\n",
       "1  2004     France  0.174394  0.009667  94  89  84  88\n",
       "2  2004      Spain  0.167444  0.014500  90  88  86  88\n",
       "4  2004     Mexico  0.156281  0.024167  70  71  68  70\n",
       "5  2004  Argentina  0.156070  0.029000  86  85  87  85"
      ]
     },
     "execution_count": 17,
     "metadata": {},
     "output_type": "execute_result"
    }
   ],
   "source": [
    "dataToImpute = pd.merge(points, data, how='left', on=['Year','Team'])\n",
    "dataToImpute = dataToImpute.dropna()\n",
    "dataToImpute.head(5)"
   ]
  },
  {
   "cell_type": "code",
   "execution_count": 18,
   "metadata": {},
   "outputs": [
    {
     "data": {
      "text/html": [
       "<div>\n",
       "<style scoped>\n",
       "    .dataframe tbody tr th:only-of-type {\n",
       "        vertical-align: middle;\n",
       "    }\n",
       "\n",
       "    .dataframe tbody tr th {\n",
       "        vertical-align: top;\n",
       "    }\n",
       "\n",
       "    .dataframe thead th {\n",
       "        text-align: right;\n",
       "    }\n",
       "</style>\n",
       "<table border=\"1\" class=\"dataframe\">\n",
       "  <thead>\n",
       "    <tr style=\"text-align: right;\">\n",
       "      <th></th>\n",
       "      <th>Year</th>\n",
       "      <th>Points</th>\n",
       "      <th>Rank</th>\n",
       "      <th>ovr</th>\n",
       "    </tr>\n",
       "  </thead>\n",
       "  <tbody>\n",
       "    <tr>\n",
       "      <th>0</th>\n",
       "      <td>2004</td>\n",
       "      <td>0.178185</td>\n",
       "      <td>0.004833</td>\n",
       "      <td>88</td>\n",
       "    </tr>\n",
       "  </tbody>\n",
       "</table>\n",
       "</div>"
      ],
      "text/plain": [
       "   Year    Points      Rank ovr\n",
       "0  2004  0.178185  0.004833  88"
      ]
     },
     "execution_count": 18,
     "metadata": {},
     "output_type": "execute_result"
    }
   ],
   "source": [
    "# Drop the columns\n",
    "dataToImpute = dataToImpute.drop(columns=['Team', 'att', 'mid', 'def'])\n",
    "dataToImpute.head(1)"
   ]
  },
  {
   "cell_type": "code",
   "execution_count": 19,
   "metadata": {},
   "outputs": [
    {
     "data": {
      "text/plain": [
       "796"
      ]
     },
     "execution_count": 19,
     "metadata": {},
     "output_type": "execute_result"
    }
   ],
   "source": [
    "len(dataToImpute)"
   ]
  },
  {
   "cell_type": "code",
   "execution_count": 20,
   "metadata": {},
   "outputs": [
    {
     "data": {
      "text/html": [
       "<div>\n",
       "<style scoped>\n",
       "    .dataframe tbody tr th:only-of-type {\n",
       "        vertical-align: middle;\n",
       "    }\n",
       "\n",
       "    .dataframe tbody tr th {\n",
       "        vertical-align: top;\n",
       "    }\n",
       "\n",
       "    .dataframe thead th {\n",
       "        text-align: right;\n",
       "    }\n",
       "</style>\n",
       "<table border=\"1\" class=\"dataframe\">\n",
       "  <thead>\n",
       "    <tr style=\"text-align: right;\">\n",
       "      <th></th>\n",
       "      <th>Points</th>\n",
       "      <th>Rank</th>\n",
       "      <th>ovr</th>\n",
       "      <th>Year_2004</th>\n",
       "      <th>Year_2005</th>\n",
       "      <th>Year_2006</th>\n",
       "      <th>Year_2007</th>\n",
       "      <th>Year_2008</th>\n",
       "      <th>Year_2009</th>\n",
       "      <th>Year_2010</th>\n",
       "      <th>...</th>\n",
       "      <th>Year_2014</th>\n",
       "      <th>Year_2015</th>\n",
       "      <th>Year_2016</th>\n",
       "      <th>Year_2017</th>\n",
       "      <th>Year_2018</th>\n",
       "      <th>Year_2019</th>\n",
       "      <th>Year_2020</th>\n",
       "      <th>Year_2021</th>\n",
       "      <th>Year_2022</th>\n",
       "      <th>Year</th>\n",
       "    </tr>\n",
       "  </thead>\n",
       "  <tbody>\n",
       "    <tr>\n",
       "      <th>0</th>\n",
       "      <td>0.178185</td>\n",
       "      <td>0.004833</td>\n",
       "      <td>88</td>\n",
       "      <td>1</td>\n",
       "      <td>0</td>\n",
       "      <td>0</td>\n",
       "      <td>0</td>\n",
       "      <td>0</td>\n",
       "      <td>0</td>\n",
       "      <td>0</td>\n",
       "      <td>...</td>\n",
       "      <td>0</td>\n",
       "      <td>0</td>\n",
       "      <td>0</td>\n",
       "      <td>0</td>\n",
       "      <td>0</td>\n",
       "      <td>0</td>\n",
       "      <td>0</td>\n",
       "      <td>0</td>\n",
       "      <td>0</td>\n",
       "      <td>2004</td>\n",
       "    </tr>\n",
       "    <tr>\n",
       "      <th>1</th>\n",
       "      <td>0.174394</td>\n",
       "      <td>0.009667</td>\n",
       "      <td>88</td>\n",
       "      <td>1</td>\n",
       "      <td>0</td>\n",
       "      <td>0</td>\n",
       "      <td>0</td>\n",
       "      <td>0</td>\n",
       "      <td>0</td>\n",
       "      <td>0</td>\n",
       "      <td>...</td>\n",
       "      <td>0</td>\n",
       "      <td>0</td>\n",
       "      <td>0</td>\n",
       "      <td>0</td>\n",
       "      <td>0</td>\n",
       "      <td>0</td>\n",
       "      <td>0</td>\n",
       "      <td>0</td>\n",
       "      <td>0</td>\n",
       "      <td>2004</td>\n",
       "    </tr>\n",
       "    <tr>\n",
       "      <th>2</th>\n",
       "      <td>0.167444</td>\n",
       "      <td>0.014500</td>\n",
       "      <td>88</td>\n",
       "      <td>1</td>\n",
       "      <td>0</td>\n",
       "      <td>0</td>\n",
       "      <td>0</td>\n",
       "      <td>0</td>\n",
       "      <td>0</td>\n",
       "      <td>0</td>\n",
       "      <td>...</td>\n",
       "      <td>0</td>\n",
       "      <td>0</td>\n",
       "      <td>0</td>\n",
       "      <td>0</td>\n",
       "      <td>0</td>\n",
       "      <td>0</td>\n",
       "      <td>0</td>\n",
       "      <td>0</td>\n",
       "      <td>0</td>\n",
       "      <td>2004</td>\n",
       "    </tr>\n",
       "  </tbody>\n",
       "</table>\n",
       "<p>3 rows × 23 columns</p>\n",
       "</div>"
      ],
      "text/plain": [
       "     Points      Rank ovr  Year_2004  Year_2005  Year_2006  Year_2007  \\\n",
       "0  0.178185  0.004833  88          1          0          0          0   \n",
       "1  0.174394  0.009667  88          1          0          0          0   \n",
       "2  0.167444  0.014500  88          1          0          0          0   \n",
       "\n",
       "   Year_2008  Year_2009  Year_2010  ...  Year_2014  Year_2015  Year_2016  \\\n",
       "0          0          0          0  ...          0          0          0   \n",
       "1          0          0          0  ...          0          0          0   \n",
       "2          0          0          0  ...          0          0          0   \n",
       "\n",
       "   Year_2017  Year_2018  Year_2019  Year_2020  Year_2021  Year_2022  Year  \n",
       "0          0          0          0          0          0          0  2004  \n",
       "1          0          0          0          0          0          0  2004  \n",
       "2          0          0          0          0          0          0  2004  \n",
       "\n",
       "[3 rows x 23 columns]"
      ]
     },
     "execution_count": 20,
     "metadata": {},
     "output_type": "execute_result"
    }
   ],
   "source": [
    "ohe_data = pd.get_dummies(dataToImpute, columns = ['Year'])\n",
    "ohe_data[\"Year\"] = dataToImpute[\"Year\"]\n",
    "ohe_data.head(3)"
   ]
  },
  {
   "cell_type": "code",
   "execution_count": 21,
   "metadata": {},
   "outputs": [
    {
     "data": {
      "text/html": [
       "<div>\n",
       "<style scoped>\n",
       "    .dataframe tbody tr th:only-of-type {\n",
       "        vertical-align: middle;\n",
       "    }\n",
       "\n",
       "    .dataframe tbody tr th {\n",
       "        vertical-align: top;\n",
       "    }\n",
       "\n",
       "    .dataframe thead th {\n",
       "        text-align: right;\n",
       "    }\n",
       "</style>\n",
       "<table border=\"1\" class=\"dataframe\">\n",
       "  <thead>\n",
       "    <tr style=\"text-align: right;\">\n",
       "      <th></th>\n",
       "      <th>Points</th>\n",
       "      <th>Rank</th>\n",
       "      <th>ovr</th>\n",
       "      <th>Year_2004</th>\n",
       "      <th>Year_2005</th>\n",
       "      <th>Year_2006</th>\n",
       "      <th>Year_2007</th>\n",
       "      <th>Year_2008</th>\n",
       "      <th>Year_2009</th>\n",
       "      <th>Year_2010</th>\n",
       "      <th>...</th>\n",
       "      <th>Year_2014</th>\n",
       "      <th>Year_2015</th>\n",
       "      <th>Year_2016</th>\n",
       "      <th>Year_2017</th>\n",
       "      <th>Year_2018</th>\n",
       "      <th>Year_2019</th>\n",
       "      <th>Year_2020</th>\n",
       "      <th>Year_2021</th>\n",
       "      <th>Year_2022</th>\n",
       "      <th>Year</th>\n",
       "    </tr>\n",
       "  </thead>\n",
       "  <tbody>\n",
       "    <tr>\n",
       "      <th>1856</th>\n",
       "      <td>0.150905</td>\n",
       "      <td>0.104870</td>\n",
       "      <td>71</td>\n",
       "      <td>0</td>\n",
       "      <td>0</td>\n",
       "      <td>0</td>\n",
       "      <td>0</td>\n",
       "      <td>0</td>\n",
       "      <td>0</td>\n",
       "      <td>0</td>\n",
       "      <td>...</td>\n",
       "      <td>0</td>\n",
       "      <td>0</td>\n",
       "      <td>0</td>\n",
       "      <td>0</td>\n",
       "      <td>0</td>\n",
       "      <td>0</td>\n",
       "      <td>0</td>\n",
       "      <td>0</td>\n",
       "      <td>1</td>\n",
       "      <td>2022</td>\n",
       "    </tr>\n",
       "    <tr>\n",
       "      <th>1859</th>\n",
       "      <td>0.147809</td>\n",
       "      <td>0.110389</td>\n",
       "      <td>70</td>\n",
       "      <td>0</td>\n",
       "      <td>0</td>\n",
       "      <td>0</td>\n",
       "      <td>0</td>\n",
       "      <td>0</td>\n",
       "      <td>0</td>\n",
       "      <td>0</td>\n",
       "      <td>...</td>\n",
       "      <td>0</td>\n",
       "      <td>0</td>\n",
       "      <td>0</td>\n",
       "      <td>0</td>\n",
       "      <td>0</td>\n",
       "      <td>0</td>\n",
       "      <td>0</td>\n",
       "      <td>0</td>\n",
       "      <td>1</td>\n",
       "      <td>2022</td>\n",
       "    </tr>\n",
       "    <tr>\n",
       "      <th>1874</th>\n",
       "      <td>0.140434</td>\n",
       "      <td>0.137987</td>\n",
       "      <td>70</td>\n",
       "      <td>0</td>\n",
       "      <td>0</td>\n",
       "      <td>0</td>\n",
       "      <td>0</td>\n",
       "      <td>0</td>\n",
       "      <td>0</td>\n",
       "      <td>0</td>\n",
       "      <td>...</td>\n",
       "      <td>0</td>\n",
       "      <td>0</td>\n",
       "      <td>0</td>\n",
       "      <td>0</td>\n",
       "      <td>0</td>\n",
       "      <td>0</td>\n",
       "      <td>0</td>\n",
       "      <td>0</td>\n",
       "      <td>1</td>\n",
       "      <td>2022</td>\n",
       "    </tr>\n",
       "  </tbody>\n",
       "</table>\n",
       "<p>3 rows × 23 columns</p>\n",
       "</div>"
      ],
      "text/plain": [
       "        Points      Rank ovr  Year_2004  Year_2005  Year_2006  Year_2007  \\\n",
       "1856  0.150905  0.104870  71          0          0          0          0   \n",
       "1859  0.147809  0.110389  70          0          0          0          0   \n",
       "1874  0.140434  0.137987  70          0          0          0          0   \n",
       "\n",
       "      Year_2008  Year_2009  Year_2010  ...  Year_2014  Year_2015  Year_2016  \\\n",
       "1856          0          0          0  ...          0          0          0   \n",
       "1859          0          0          0  ...          0          0          0   \n",
       "1874          0          0          0  ...          0          0          0   \n",
       "\n",
       "      Year_2017  Year_2018  Year_2019  Year_2020  Year_2021  Year_2022  Year  \n",
       "1856          0          0          0          0          0          1  2022  \n",
       "1859          0          0          0          0          0          1  2022  \n",
       "1874          0          0          0          0          0          1  2022  \n",
       "\n",
       "[3 rows x 23 columns]"
      ]
     },
     "execution_count": 21,
     "metadata": {},
     "output_type": "execute_result"
    }
   ],
   "source": [
    "ohe_data.tail(3)"
   ]
  },
  {
   "cell_type": "code",
   "execution_count": 250,
   "metadata": {},
   "outputs": [],
   "source": []
  },
  {
   "cell_type": "markdown",
   "metadata": {},
   "source": [
    "# Predict the Overall"
   ]
  },
  {
   "cell_type": "markdown",
   "metadata": {},
   "source": [
    "Start with a train test split, stratifying on the years"
   ]
  },
  {
   "cell_type": "code",
   "execution_count": 24,
   "metadata": {},
   "outputs": [],
   "source": [
    "from sklearn.model_selection import train_test_split\n",
    "X = ohe_data.drop(columns=['ovr', 'Year'])\n",
    "y = ohe_data['ovr']\n",
    "X_train, X_test, y_train, y_test = train_test_split(X, y, test_size=0.2, stratify=ohe_data.Year)"
   ]
  },
  {
   "cell_type": "code",
   "execution_count": 25,
   "metadata": {},
   "outputs": [
    {
     "data": {
      "text/plain": [
       "3.4677139109532944"
      ]
     },
     "execution_count": 25,
     "metadata": {},
     "output_type": "execute_result"
    }
   ],
   "source": [
    "from sklearn.linear_model import LinearRegression\n",
    "from sklearn.metrics import mean_squared_error\n",
    "lm = LinearRegression()\n",
    "lm.fit(X_train,y_train)\n",
    "lm_predictions = lm.predict(X_test)\n",
    "\n",
    "lin_mse = mean_squared_error(y_test, lm_predictions)\n",
    "lin_rmse = np.sqrt(lin_mse)\n",
    "lin_rmse"
   ]
  },
  {
   "cell_type": "markdown",
   "metadata": {},
   "source": [
    "Not too bad, overall is off by a little over 3 on average with the linear regression model\n",
    "\n",
    "Let's do a regression tree next"
   ]
  },
  {
   "cell_type": "code",
   "execution_count": 26,
   "metadata": {},
   "outputs": [
    {
     "data": {
      "text/plain": [
       "3.948452580160711"
      ]
     },
     "execution_count": 26,
     "metadata": {},
     "output_type": "execute_result"
    }
   ],
   "source": [
    "from sklearn.tree import DecisionTreeRegressor\n",
    "\n",
    "tree_reg = DecisionTreeRegressor()\n",
    "tree_reg.fit(X_train, y_train)\n",
    "tree_predictions = tree_reg.predict(X_test)\n",
    "tree_mse = mean_squared_error(y_test, tree_predictions)\n",
    "tree_rmse = np.sqrt(tree_mse)\n",
    "tree_rmse"
   ]
  },
  {
   "cell_type": "markdown",
   "metadata": {},
   "source": [
    "Decision tree regressor performs a little worse than the linear regression\n",
    "\n",
    "Now let's try a random forest regressor"
   ]
  },
  {
   "cell_type": "code",
   "execution_count": 27,
   "metadata": {},
   "outputs": [
    {
     "data": {
      "text/plain": [
       "3.095887528607723"
      ]
     },
     "execution_count": 27,
     "metadata": {},
     "output_type": "execute_result"
    }
   ],
   "source": [
    "from sklearn.ensemble import RandomForestRegressor\n",
    "forest_reg = RandomForestRegressor()\n",
    "forest_reg.fit(X_train, y_train)\n",
    "forest_predictions = forest_reg.predict(X_test)\n",
    "forest_mse = mean_squared_error(y_test, forest_predictions)\n",
    "forest_rmse = np.sqrt(forest_mse)\n",
    "forest_rmse"
   ]
  },
  {
   "cell_type": "markdown",
   "metadata": {},
   "source": [
    "Random forest regressor performs even better...nice!"
   ]
  },
  {
   "cell_type": "markdown",
   "metadata": {},
   "source": [
    "# Using Random Forest Regressor Model to Predict the Overall's"
   ]
  },
  {
   "cell_type": "code",
   "execution_count": 28,
   "metadata": {},
   "outputs": [
    {
     "data": {
      "text/html": [
       "<div>\n",
       "<style scoped>\n",
       "    .dataframe tbody tr th:only-of-type {\n",
       "        vertical-align: middle;\n",
       "    }\n",
       "\n",
       "    .dataframe tbody tr th {\n",
       "        vertical-align: top;\n",
       "    }\n",
       "\n",
       "    .dataframe thead th {\n",
       "        text-align: right;\n",
       "    }\n",
       "</style>\n",
       "<table border=\"1\" class=\"dataframe\">\n",
       "  <thead>\n",
       "    <tr style=\"text-align: right;\">\n",
       "      <th></th>\n",
       "      <th>Year</th>\n",
       "      <th>Team</th>\n",
       "      <th>Points</th>\n",
       "      <th>Rank</th>\n",
       "    </tr>\n",
       "  </thead>\n",
       "  <tbody>\n",
       "    <tr>\n",
       "      <th>0</th>\n",
       "      <td>2004</td>\n",
       "      <td>Brazil</td>\n",
       "      <td>0.178185</td>\n",
       "      <td>0.004833</td>\n",
       "    </tr>\n",
       "    <tr>\n",
       "      <th>1</th>\n",
       "      <td>2004</td>\n",
       "      <td>France</td>\n",
       "      <td>0.174394</td>\n",
       "      <td>0.009667</td>\n",
       "    </tr>\n",
       "    <tr>\n",
       "      <th>2</th>\n",
       "      <td>2004</td>\n",
       "      <td>Spain</td>\n",
       "      <td>0.167444</td>\n",
       "      <td>0.014500</td>\n",
       "    </tr>\n",
       "    <tr>\n",
       "      <th>3</th>\n",
       "      <td>2004</td>\n",
       "      <td>Netherlands</td>\n",
       "      <td>0.157755</td>\n",
       "      <td>0.019334</td>\n",
       "    </tr>\n",
       "    <tr>\n",
       "      <th>4</th>\n",
       "      <td>2004</td>\n",
       "      <td>Mexico</td>\n",
       "      <td>0.156281</td>\n",
       "      <td>0.024167</td>\n",
       "    </tr>\n",
       "  </tbody>\n",
       "</table>\n",
       "</div>"
      ],
      "text/plain": [
       "   Year         Team    Points      Rank\n",
       "0  2004       Brazil  0.178185  0.004833\n",
       "1  2004       France  0.174394  0.009667\n",
       "2  2004        Spain  0.167444  0.014500\n",
       "3  2004  Netherlands  0.157755  0.019334\n",
       "4  2004       Mexico  0.156281  0.024167"
      ]
     },
     "execution_count": 28,
     "metadata": {},
     "output_type": "execute_result"
    }
   ],
   "source": [
    "points.head(5)"
   ]
  },
  {
   "cell_type": "code",
   "execution_count": 29,
   "metadata": {},
   "outputs": [
    {
     "data": {
      "text/plain": [
       "array([87., 86., 85., ..., 73., 73., 72.])"
      ]
     },
     "execution_count": 29,
     "metadata": {},
     "output_type": "execute_result"
    }
   ],
   "source": [
    "imputedOveralls = points.copy()\n",
    "imputedOveralls = pd.get_dummies(imputedOveralls, columns = ['Year'])\n",
    "\n",
    "xImpute = imputedOveralls.drop(columns=['Team'])\n",
    "\n",
    "overall_predictions = forest_reg.predict(xImpute)\n",
    "overall_predictions = np.round(overall_predictions)\n",
    "overall_predictions"
   ]
  },
  {
   "cell_type": "code",
   "execution_count": 30,
   "metadata": {},
   "outputs": [
    {
     "data": {
      "text/html": [
       "<div>\n",
       "<style scoped>\n",
       "    .dataframe tbody tr th:only-of-type {\n",
       "        vertical-align: middle;\n",
       "    }\n",
       "\n",
       "    .dataframe tbody tr th {\n",
       "        vertical-align: top;\n",
       "    }\n",
       "\n",
       "    .dataframe thead th {\n",
       "        text-align: right;\n",
       "    }\n",
       "</style>\n",
       "<table border=\"1\" class=\"dataframe\">\n",
       "  <thead>\n",
       "    <tr style=\"text-align: right;\">\n",
       "      <th></th>\n",
       "      <th>Year</th>\n",
       "      <th>Team</th>\n",
       "      <th>Points</th>\n",
       "      <th>Rank</th>\n",
       "      <th>ovr</th>\n",
       "    </tr>\n",
       "  </thead>\n",
       "  <tbody>\n",
       "    <tr>\n",
       "      <th>0</th>\n",
       "      <td>2004</td>\n",
       "      <td>Brazil</td>\n",
       "      <td>0.178185</td>\n",
       "      <td>0.004833</td>\n",
       "      <td>87</td>\n",
       "    </tr>\n",
       "    <tr>\n",
       "      <th>1</th>\n",
       "      <td>2004</td>\n",
       "      <td>France</td>\n",
       "      <td>0.174394</td>\n",
       "      <td>0.009667</td>\n",
       "      <td>86</td>\n",
       "    </tr>\n",
       "  </tbody>\n",
       "</table>\n",
       "</div>"
      ],
      "text/plain": [
       "   Year    Team    Points      Rank  ovr\n",
       "0  2004  Brazil  0.178185  0.004833   87\n",
       "1  2004  France  0.174394  0.009667   86"
      ]
     },
     "execution_count": 30,
     "metadata": {},
     "output_type": "execute_result"
    }
   ],
   "source": [
    "points['ovr'] = overall_predictions.astype(int)\n",
    "points.head(2)"
   ]
  },
  {
   "cell_type": "markdown",
   "metadata": {},
   "source": [
    "# Get Previous International Soccer Game Data"
   ]
  },
  {
   "cell_type": "markdown",
   "metadata": {},
   "source": [
    "Get previous game data"
   ]
  },
  {
   "cell_type": "code",
   "execution_count": 31,
   "metadata": {},
   "outputs": [
    {
     "data": {
      "text/html": [
       "<div>\n",
       "<style scoped>\n",
       "    .dataframe tbody tr th:only-of-type {\n",
       "        vertical-align: middle;\n",
       "    }\n",
       "\n",
       "    .dataframe tbody tr th {\n",
       "        vertical-align: top;\n",
       "    }\n",
       "\n",
       "    .dataframe thead th {\n",
       "        text-align: right;\n",
       "    }\n",
       "</style>\n",
       "<table border=\"1\" class=\"dataframe\">\n",
       "  <thead>\n",
       "    <tr style=\"text-align: right;\">\n",
       "      <th></th>\n",
       "      <th>date</th>\n",
       "      <th>home_team</th>\n",
       "      <th>away_team</th>\n",
       "      <th>home_score</th>\n",
       "      <th>away_score</th>\n",
       "      <th>tournament</th>\n",
       "      <th>city</th>\n",
       "      <th>country</th>\n",
       "      <th>neutral</th>\n",
       "      <th>Year</th>\n",
       "    </tr>\n",
       "  </thead>\n",
       "  <tbody>\n",
       "    <tr>\n",
       "      <th>0</th>\n",
       "      <td>1872-11-30</td>\n",
       "      <td>Scotland</td>\n",
       "      <td>England</td>\n",
       "      <td>0</td>\n",
       "      <td>0</td>\n",
       "      <td>Friendly</td>\n",
       "      <td>Glasgow</td>\n",
       "      <td>Scotland</td>\n",
       "      <td>False</td>\n",
       "      <td>1872</td>\n",
       "    </tr>\n",
       "    <tr>\n",
       "      <th>1</th>\n",
       "      <td>1873-03-08</td>\n",
       "      <td>England</td>\n",
       "      <td>Scotland</td>\n",
       "      <td>4</td>\n",
       "      <td>2</td>\n",
       "      <td>Friendly</td>\n",
       "      <td>London</td>\n",
       "      <td>England</td>\n",
       "      <td>False</td>\n",
       "      <td>1873</td>\n",
       "    </tr>\n",
       "    <tr>\n",
       "      <th>2</th>\n",
       "      <td>1874-03-07</td>\n",
       "      <td>Scotland</td>\n",
       "      <td>England</td>\n",
       "      <td>2</td>\n",
       "      <td>1</td>\n",
       "      <td>Friendly</td>\n",
       "      <td>Glasgow</td>\n",
       "      <td>Scotland</td>\n",
       "      <td>False</td>\n",
       "      <td>1874</td>\n",
       "    </tr>\n",
       "    <tr>\n",
       "      <th>3</th>\n",
       "      <td>1875-03-06</td>\n",
       "      <td>England</td>\n",
       "      <td>Scotland</td>\n",
       "      <td>2</td>\n",
       "      <td>2</td>\n",
       "      <td>Friendly</td>\n",
       "      <td>London</td>\n",
       "      <td>England</td>\n",
       "      <td>False</td>\n",
       "      <td>1875</td>\n",
       "    </tr>\n",
       "    <tr>\n",
       "      <th>4</th>\n",
       "      <td>1876-03-04</td>\n",
       "      <td>Scotland</td>\n",
       "      <td>England</td>\n",
       "      <td>3</td>\n",
       "      <td>0</td>\n",
       "      <td>Friendly</td>\n",
       "      <td>Glasgow</td>\n",
       "      <td>Scotland</td>\n",
       "      <td>False</td>\n",
       "      <td>1876</td>\n",
       "    </tr>\n",
       "  </tbody>\n",
       "</table>\n",
       "</div>"
      ],
      "text/plain": [
       "         date home_team away_team  home_score  away_score tournament     city  \\\n",
       "0  1872-11-30  Scotland   England           0           0   Friendly  Glasgow   \n",
       "1  1873-03-08   England  Scotland           4           2   Friendly   London   \n",
       "2  1874-03-07  Scotland   England           2           1   Friendly  Glasgow   \n",
       "3  1875-03-06   England  Scotland           2           2   Friendly   London   \n",
       "4  1876-03-04  Scotland   England           3           0   Friendly  Glasgow   \n",
       "\n",
       "    country  neutral  Year  \n",
       "0  Scotland    False  1872  \n",
       "1   England    False  1873  \n",
       "2  Scotland    False  1874  \n",
       "3   England    False  1875  \n",
       "4  Scotland    False  1876  "
      ]
     },
     "execution_count": 31,
     "metadata": {},
     "output_type": "execute_result"
    }
   ],
   "source": [
    "game = pd.read_csv(\"results.csv\")\n",
    "game[\"Year\"] = game.date.str[:4].astype(str) # string splice first 4 letters of entire date column\n",
    "\n",
    "game.head(5)"
   ]
  },
  {
   "cell_type": "code",
   "execution_count": 32,
   "metadata": {},
   "outputs": [
    {
     "data": {
      "text/html": [
       "<div>\n",
       "<style scoped>\n",
       "    .dataframe tbody tr th:only-of-type {\n",
       "        vertical-align: middle;\n",
       "    }\n",
       "\n",
       "    .dataframe tbody tr th {\n",
       "        vertical-align: top;\n",
       "    }\n",
       "\n",
       "    .dataframe thead th {\n",
       "        text-align: right;\n",
       "    }\n",
       "</style>\n",
       "<table border=\"1\" class=\"dataframe\">\n",
       "  <thead>\n",
       "    <tr style=\"text-align: right;\">\n",
       "      <th></th>\n",
       "      <th>home_team</th>\n",
       "      <th>away_team</th>\n",
       "      <th>home_score</th>\n",
       "      <th>away_score</th>\n",
       "      <th>tournament</th>\n",
       "      <th>Year</th>\n",
       "    </tr>\n",
       "  </thead>\n",
       "  <tbody>\n",
       "    <tr>\n",
       "      <th>26360</th>\n",
       "      <td>Bahrain</td>\n",
       "      <td>Saudi Arabia</td>\n",
       "      <td>0.0</td>\n",
       "      <td>1.0</td>\n",
       "      <td>Gulf Cup</td>\n",
       "      <td>2004</td>\n",
       "    </tr>\n",
       "    <tr>\n",
       "      <th>26361</th>\n",
       "      <td>Bermuda</td>\n",
       "      <td>Barbados</td>\n",
       "      <td>0.0</td>\n",
       "      <td>4.0</td>\n",
       "      <td>Friendly</td>\n",
       "      <td>2004</td>\n",
       "    </tr>\n",
       "    <tr>\n",
       "      <th>26362</th>\n",
       "      <td>Kuwait</td>\n",
       "      <td>Yemen</td>\n",
       "      <td>4.0</td>\n",
       "      <td>0.0</td>\n",
       "      <td>Gulf Cup</td>\n",
       "      <td>2004</td>\n",
       "    </tr>\n",
       "    <tr>\n",
       "      <th>26363</th>\n",
       "      <td>Oman</td>\n",
       "      <td>Bahrain</td>\n",
       "      <td>0.0</td>\n",
       "      <td>1.0</td>\n",
       "      <td>Gulf Cup</td>\n",
       "      <td>2004</td>\n",
       "    </tr>\n",
       "    <tr>\n",
       "      <th>26364</th>\n",
       "      <td>United Arab Emirates</td>\n",
       "      <td>Qatar</td>\n",
       "      <td>0.0</td>\n",
       "      <td>0.0</td>\n",
       "      <td>Gulf Cup</td>\n",
       "      <td>2004</td>\n",
       "    </tr>\n",
       "  </tbody>\n",
       "</table>\n",
       "</div>"
      ],
      "text/plain": [
       "                  home_team     away_team  home_score  away_score tournament  \\\n",
       "26360               Bahrain  Saudi Arabia         0.0         1.0   Gulf Cup   \n",
       "26361               Bermuda      Barbados         0.0         4.0   Friendly   \n",
       "26362                Kuwait         Yemen         4.0         0.0   Gulf Cup   \n",
       "26363                  Oman       Bahrain         0.0         1.0   Gulf Cup   \n",
       "26364  United Arab Emirates         Qatar         0.0         0.0   Gulf Cup   \n",
       "\n",
       "       Year  \n",
       "26360  2004  \n",
       "26361  2004  \n",
       "26362  2004  \n",
       "26363  2004  \n",
       "26364  2004  "
      ]
     },
     "execution_count": 32,
     "metadata": {},
     "output_type": "execute_result"
    }
   ],
   "source": [
    "game = game.drop(columns=['date', 'city', 'country', 'neutral'])\n",
    "game = game.where(game['Year'] >= '2004')\n",
    "game = game.dropna()\n",
    "game.head(5)"
   ]
  },
  {
   "cell_type": "code",
   "execution_count": 33,
   "metadata": {},
   "outputs": [
    {
     "data": {
      "text/plain": [
       "17061"
      ]
     },
     "execution_count": 33,
     "metadata": {},
     "output_type": "execute_result"
    }
   ],
   "source": [
    "len(game)"
   ]
  },
  {
   "cell_type": "code",
   "execution_count": 34,
   "metadata": {},
   "outputs": [
    {
     "data": {
      "text/plain": [
       "Friendly                                      5957\n",
       "FIFA World Cup qualification                  4023\n",
       "UEFA Euro qualification                       1084\n",
       "African Cup of Nations qualification           744\n",
       "African Cup of Nations                         357\n",
       "UEFA Nations League                            308\n",
       "CECAFA Cup                                     278\n",
       "AFC Asian Cup qualification                    269\n",
       "African Nations Championship                   264\n",
       "CFU Caribbean Cup qualification                264\n",
       "FIFA World Cup                                 256\n",
       "Gold Cup                                       238\n",
       "COSAFA Cup                                     233\n",
       "AFF Championship                               207\n",
       "UEFA Euro                                      195\n",
       "Copa América                                   190\n",
       "Island Games                                   185\n",
       "AFC Asian Cup                                  179\n",
       "Gulf Cup                                       136\n",
       "EAFF Championship                              108\n",
       "CONCACAF Nations League                        106\n",
       "SAFF Cup                                       104\n",
       "CONIFA World Football Cup                      101\n",
       "AFC Challenge Cup                              100\n",
       "AFC Challenge Cup qualification                 92\n",
       "CFU Caribbean Cup                               82\n",
       "UNCAF Cup                                       79\n",
       "WAFF Championship                               71\n",
       "CONCACAF Nations League qualification           68\n",
       "African Nations Championship qualification      64\n",
       "                                              ... \n",
       "South Pacific Games                             24\n",
       "ABCS Tournament                                 20\n",
       "Inter Games Football Tournament                 19\n",
       "ELF Cup                                         16\n",
       "Merdeka Tournament                              16\n",
       "Arab Cup qualification                          15\n",
       "Nile Basin Tournament                           14\n",
       "Intercontinental Cup                            14\n",
       "COSAFA Cup qualification                        12\n",
       "Oceania Nations Cup qualification               12\n",
       "Windward Islands Tournament                     12\n",
       "Gold Cup qualification                          11\n",
       "FIFI Wild Cup                                   10\n",
       "Malta International Tournament                  10\n",
       "VFF Cup                                          9\n",
       "Mahinda Rajapaksa Cup                            7\n",
       "Nations Cup                                      6\n",
       "Amílcar Cabral Cup                               6\n",
       "Lunar New Year Cup                               5\n",
       "Dragon Cup                                       4\n",
       "Copa del Pacífico                                4\n",
       "OSN Cup                                          4\n",
       "World Unity Cup                                  4\n",
       "Navruz Cup                                       4\n",
       "Prime Minister's Cup                             4\n",
       "Three Nations Cup                                3\n",
       "Copa Paz del Chaco                               2\n",
       "AFF Championship qualification                   2\n",
       "Copa América qualification                       2\n",
       "Atlantic Heritage Cup                            2\n",
       "Name: tournament, Length: 71, dtype: int64"
      ]
     },
     "execution_count": 34,
     "metadata": {},
     "output_type": "execute_result"
    }
   ],
   "source": [
    "game[\"tournament\"].value_counts()"
   ]
  },
  {
   "cell_type": "markdown",
   "metadata": {},
   "source": [
    "Friendlies take up almost a third of the data...going to try building models with and without friendlies included and see which one performs the best"
   ]
  },
  {
   "cell_type": "code",
   "execution_count": 35,
   "metadata": {},
   "outputs": [
    {
     "data": {
      "text/html": [
       "<div>\n",
       "<style scoped>\n",
       "    .dataframe tbody tr th:only-of-type {\n",
       "        vertical-align: middle;\n",
       "    }\n",
       "\n",
       "    .dataframe tbody tr th {\n",
       "        vertical-align: top;\n",
       "    }\n",
       "\n",
       "    .dataframe thead th {\n",
       "        text-align: right;\n",
       "    }\n",
       "</style>\n",
       "<table border=\"1\" class=\"dataframe\">\n",
       "  <thead>\n",
       "    <tr style=\"text-align: right;\">\n",
       "      <th></th>\n",
       "      <th>home_team</th>\n",
       "      <th>away_team</th>\n",
       "      <th>home_score</th>\n",
       "      <th>away_score</th>\n",
       "      <th>tournament</th>\n",
       "      <th>Year</th>\n",
       "    </tr>\n",
       "  </thead>\n",
       "  <tbody>\n",
       "    <tr>\n",
       "      <th>26360</th>\n",
       "      <td>Bahrain</td>\n",
       "      <td>Saudi Arabia</td>\n",
       "      <td>0.0</td>\n",
       "      <td>1.0</td>\n",
       "      <td>Gulf Cup</td>\n",
       "      <td>2004</td>\n",
       "    </tr>\n",
       "  </tbody>\n",
       "</table>\n",
       "</div>"
      ],
      "text/plain": [
       "      home_team     away_team  home_score  away_score tournament  Year\n",
       "26360   Bahrain  Saudi Arabia         0.0         1.0   Gulf Cup  2004"
      ]
     },
     "execution_count": 35,
     "metadata": {},
     "output_type": "execute_result"
    }
   ],
   "source": [
    "game.head(1)"
   ]
  },
  {
   "cell_type": "code",
   "execution_count": 36,
   "metadata": {},
   "outputs": [
    {
     "data": {
      "text/html": [
       "<div>\n",
       "<style scoped>\n",
       "    .dataframe tbody tr th:only-of-type {\n",
       "        vertical-align: middle;\n",
       "    }\n",
       "\n",
       "    .dataframe tbody tr th {\n",
       "        vertical-align: top;\n",
       "    }\n",
       "\n",
       "    .dataframe thead th {\n",
       "        text-align: right;\n",
       "    }\n",
       "</style>\n",
       "<table border=\"1\" class=\"dataframe\">\n",
       "  <thead>\n",
       "    <tr style=\"text-align: right;\">\n",
       "      <th></th>\n",
       "      <th>home_team</th>\n",
       "      <th>away_team</th>\n",
       "      <th>home_score</th>\n",
       "      <th>away_score</th>\n",
       "      <th>tournament</th>\n",
       "      <th>Year</th>\n",
       "      <th>score</th>\n",
       "      <th>outcome</th>\n",
       "    </tr>\n",
       "  </thead>\n",
       "  <tbody>\n",
       "    <tr>\n",
       "      <th>26360</th>\n",
       "      <td>Bahrain</td>\n",
       "      <td>Saudi Arabia</td>\n",
       "      <td>0.0</td>\n",
       "      <td>1.0</td>\n",
       "      <td>Gulf Cup</td>\n",
       "      <td>2004</td>\n",
       "      <td>-1.0</td>\n",
       "      <td>-1</td>\n",
       "    </tr>\n",
       "    <tr>\n",
       "      <th>26361</th>\n",
       "      <td>Bermuda</td>\n",
       "      <td>Barbados</td>\n",
       "      <td>0.0</td>\n",
       "      <td>4.0</td>\n",
       "      <td>Friendly</td>\n",
       "      <td>2004</td>\n",
       "      <td>-4.0</td>\n",
       "      <td>-1</td>\n",
       "    </tr>\n",
       "    <tr>\n",
       "      <th>26362</th>\n",
       "      <td>Kuwait</td>\n",
       "      <td>Yemen</td>\n",
       "      <td>4.0</td>\n",
       "      <td>0.0</td>\n",
       "      <td>Gulf Cup</td>\n",
       "      <td>2004</td>\n",
       "      <td>4.0</td>\n",
       "      <td>1</td>\n",
       "    </tr>\n",
       "    <tr>\n",
       "      <th>26363</th>\n",
       "      <td>Oman</td>\n",
       "      <td>Bahrain</td>\n",
       "      <td>0.0</td>\n",
       "      <td>1.0</td>\n",
       "      <td>Gulf Cup</td>\n",
       "      <td>2004</td>\n",
       "      <td>-1.0</td>\n",
       "      <td>-1</td>\n",
       "    </tr>\n",
       "    <tr>\n",
       "      <th>26364</th>\n",
       "      <td>United Arab Emirates</td>\n",
       "      <td>Qatar</td>\n",
       "      <td>0.0</td>\n",
       "      <td>0.0</td>\n",
       "      <td>Gulf Cup</td>\n",
       "      <td>2004</td>\n",
       "      <td>0.0</td>\n",
       "      <td>0</td>\n",
       "    </tr>\n",
       "  </tbody>\n",
       "</table>\n",
       "</div>"
      ],
      "text/plain": [
       "                  home_team     away_team  home_score  away_score tournament  \\\n",
       "26360               Bahrain  Saudi Arabia         0.0         1.0   Gulf Cup   \n",
       "26361               Bermuda      Barbados         0.0         4.0   Friendly   \n",
       "26362                Kuwait         Yemen         4.0         0.0   Gulf Cup   \n",
       "26363                  Oman       Bahrain         0.0         1.0   Gulf Cup   \n",
       "26364  United Arab Emirates         Qatar         0.0         0.0   Gulf Cup   \n",
       "\n",
       "       Year  score  outcome  \n",
       "26360  2004   -1.0       -1  \n",
       "26361  2004   -4.0       -1  \n",
       "26362  2004    4.0        1  \n",
       "26363  2004   -1.0       -1  \n",
       "26364  2004    0.0        0  "
      ]
     },
     "execution_count": 36,
     "metadata": {},
     "output_type": "execute_result"
    }
   ],
   "source": [
    "game['score'] = game['home_score'] - game['away_score']\n",
    "game['outcome'] = None\n",
    "game.loc[game[\"score\"] == 0, \"outcome\"] = 0\n",
    "game.loc[game[\"score\"] > 0, \"outcome\"] = 1\n",
    "game.loc[game[\"score\"] < 0, \"outcome\"] = -1\n",
    "game.head(5)"
   ]
  },
  {
   "cell_type": "markdown",
   "metadata": {},
   "source": [
    "Predict if home team wins\n",
    "outcome:\n",
    "* 1 if home team wins\n",
    "* 0 if draw\n",
    "* -1 if away team wins\n",
    "\n",
    "\n"
   ]
  },
  {
   "cell_type": "markdown",
   "metadata": {},
   "source": [
    "# Match Syntax of the Teams in Game Data with the Points and Data Teams"
   ]
  },
  {
   "cell_type": "markdown",
   "metadata": {},
   "source": [
    "follow process of above"
   ]
  },
  {
   "cell_type": "markdown",
   "metadata": {},
   "source": [
    "# Add in Home Team and Away Team Overall"
   ]
  },
  {
   "cell_type": "code",
   "execution_count": 37,
   "metadata": {},
   "outputs": [
    {
     "data": {
      "text/html": [
       "<div>\n",
       "<style scoped>\n",
       "    .dataframe tbody tr th:only-of-type {\n",
       "        vertical-align: middle;\n",
       "    }\n",
       "\n",
       "    .dataframe tbody tr th {\n",
       "        vertical-align: top;\n",
       "    }\n",
       "\n",
       "    .dataframe thead th {\n",
       "        text-align: right;\n",
       "    }\n",
       "</style>\n",
       "<table border=\"1\" class=\"dataframe\">\n",
       "  <thead>\n",
       "    <tr style=\"text-align: right;\">\n",
       "      <th></th>\n",
       "      <th>home_team</th>\n",
       "      <th>away_team</th>\n",
       "      <th>home_score</th>\n",
       "      <th>away_score</th>\n",
       "      <th>tournament</th>\n",
       "      <th>Year</th>\n",
       "      <th>score</th>\n",
       "      <th>outcome</th>\n",
       "    </tr>\n",
       "  </thead>\n",
       "  <tbody>\n",
       "    <tr>\n",
       "      <th>26360</th>\n",
       "      <td>Bahrain</td>\n",
       "      <td>Saudi Arabia</td>\n",
       "      <td>0.0</td>\n",
       "      <td>1.0</td>\n",
       "      <td>Gulf Cup</td>\n",
       "      <td>2004</td>\n",
       "      <td>-1.0</td>\n",
       "      <td>-1</td>\n",
       "    </tr>\n",
       "  </tbody>\n",
       "</table>\n",
       "</div>"
      ],
      "text/plain": [
       "      home_team     away_team  home_score  away_score tournament  Year  score  \\\n",
       "26360   Bahrain  Saudi Arabia         0.0         1.0   Gulf Cup  2004   -1.0   \n",
       "\n",
       "       outcome  \n",
       "26360       -1  "
      ]
     },
     "execution_count": 37,
     "metadata": {},
     "output_type": "execute_result"
    }
   ],
   "source": [
    "game.head(1)"
   ]
  },
  {
   "cell_type": "markdown",
   "metadata": {},
   "source": [
    "loop through game\n",
    "for each team:\n",
    "    check to see if there is a match in data for the team\n",
    "    if not:\n",
    "        check to see if there is a match in points"
   ]
  },
  {
   "cell_type": "markdown",
   "metadata": {},
   "source": [
    "## 3. Data Preperation and EDA"
   ]
  },
  {
   "cell_type": "code",
   "execution_count": 4,
   "metadata": {},
   "outputs": [
    {
     "data": {
      "text/html": [
       "<div>\n",
       "<style scoped>\n",
       "    .dataframe tbody tr th:only-of-type {\n",
       "        vertical-align: middle;\n",
       "    }\n",
       "\n",
       "    .dataframe tbody tr th {\n",
       "        vertical-align: top;\n",
       "    }\n",
       "\n",
       "    .dataframe thead th {\n",
       "        text-align: right;\n",
       "    }\n",
       "</style>\n",
       "<table border=\"1\" class=\"dataframe\">\n",
       "  <thead>\n",
       "    <tr style=\"text-align: right;\">\n",
       "      <th></th>\n",
       "      <th>date</th>\n",
       "      <th>home_team</th>\n",
       "      <th>away_team</th>\n",
       "      <th>home_score</th>\n",
       "      <th>away_score</th>\n",
       "      <th>tournament</th>\n",
       "      <th>city</th>\n",
       "      <th>country</th>\n",
       "      <th>neutral</th>\n",
       "      <th>Year</th>\n",
       "    </tr>\n",
       "  </thead>\n",
       "  <tbody>\n",
       "    <tr>\n",
       "      <th>26360</th>\n",
       "      <td>2004-01-01</td>\n",
       "      <td>Bahrain</td>\n",
       "      <td>Saudi Arabia</td>\n",
       "      <td>0.0</td>\n",
       "      <td>1.0</td>\n",
       "      <td>Gulf Cup</td>\n",
       "      <td>Kuwait City</td>\n",
       "      <td>Kuwait</td>\n",
       "      <td>1.0</td>\n",
       "      <td>2004</td>\n",
       "    </tr>\n",
       "    <tr>\n",
       "      <th>26361</th>\n",
       "      <td>2004-01-01</td>\n",
       "      <td>Bermuda</td>\n",
       "      <td>Barbados</td>\n",
       "      <td>0.0</td>\n",
       "      <td>4.0</td>\n",
       "      <td>Friendly</td>\n",
       "      <td>Hamilton</td>\n",
       "      <td>Bermuda</td>\n",
       "      <td>0.0</td>\n",
       "      <td>2004</td>\n",
       "    </tr>\n",
       "    <tr>\n",
       "      <th>26362</th>\n",
       "      <td>2004-01-01</td>\n",
       "      <td>Kuwait</td>\n",
       "      <td>Yemen</td>\n",
       "      <td>4.0</td>\n",
       "      <td>0.0</td>\n",
       "      <td>Gulf Cup</td>\n",
       "      <td>Kuwait City</td>\n",
       "      <td>Kuwait</td>\n",
       "      <td>0.0</td>\n",
       "      <td>2004</td>\n",
       "    </tr>\n",
       "    <tr>\n",
       "      <th>26363</th>\n",
       "      <td>2004-01-03</td>\n",
       "      <td>Oman</td>\n",
       "      <td>Bahrain</td>\n",
       "      <td>0.0</td>\n",
       "      <td>1.0</td>\n",
       "      <td>Gulf Cup</td>\n",
       "      <td>Kuwait City</td>\n",
       "      <td>Kuwait</td>\n",
       "      <td>1.0</td>\n",
       "      <td>2004</td>\n",
       "    </tr>\n",
       "    <tr>\n",
       "      <th>26364</th>\n",
       "      <td>2004-01-03</td>\n",
       "      <td>United Arab Emirates</td>\n",
       "      <td>Qatar</td>\n",
       "      <td>0.0</td>\n",
       "      <td>0.0</td>\n",
       "      <td>Gulf Cup</td>\n",
       "      <td>Kuwait City</td>\n",
       "      <td>Kuwait</td>\n",
       "      <td>1.0</td>\n",
       "      <td>2004</td>\n",
       "    </tr>\n",
       "  </tbody>\n",
       "</table>\n",
       "</div>"
      ],
      "text/plain": [
       "             date             home_team     away_team  home_score  away_score  \\\n",
       "26360  2004-01-01               Bahrain  Saudi Arabia         0.0         1.0   \n",
       "26361  2004-01-01               Bermuda      Barbados         0.0         4.0   \n",
       "26362  2004-01-01                Kuwait         Yemen         4.0         0.0   \n",
       "26363  2004-01-03                  Oman       Bahrain         0.0         1.0   \n",
       "26364  2004-01-03  United Arab Emirates         Qatar         0.0         0.0   \n",
       "\n",
       "      tournament         city  country  neutral  Year  \n",
       "26360   Gulf Cup  Kuwait City   Kuwait      1.0  2004  \n",
       "26361   Friendly     Hamilton  Bermuda      0.0  2004  \n",
       "26362   Gulf Cup  Kuwait City   Kuwait      0.0  2004  \n",
       "26363   Gulf Cup  Kuwait City   Kuwait      1.0  2004  \n",
       "26364   Gulf Cup  Kuwait City   Kuwait      1.0  2004  "
      ]
     },
     "execution_count": 4,
     "metadata": {},
     "output_type": "execute_result"
    }
   ],
   "source": [
    "# Drop data from before 2004 as don't have any metrics\n",
    "import numpy as np\n",
    "game = game.where(game['Year'] >= '2004')\n",
    "game = game.dropna()\n",
    "game.head(5)"
   ]
  },
  {
   "cell_type": "code",
   "execution_count": 5,
   "metadata": {},
   "outputs": [
    {
     "name": "stdout",
     "output_type": "stream",
     "text": [
      "<class 'pandas.core.frame.DataFrame'>\n",
      "Int64Index: 17061 entries, 26360 to 43420\n",
      "Data columns (total 10 columns):\n",
      "date          17061 non-null object\n",
      "home_team     17061 non-null object\n",
      "away_team     17061 non-null object\n",
      "home_score    17061 non-null float64\n",
      "away_score    17061 non-null float64\n",
      "tournament    17061 non-null object\n",
      "city          17061 non-null object\n",
      "country       17061 non-null object\n",
      "neutral       17061 non-null float64\n",
      "Year          17061 non-null object\n",
      "dtypes: float64(3), object(7)\n",
      "memory usage: 1.4+ MB\n"
     ]
    }
   ],
   "source": [
    "game.info()"
   ]
  },
  {
   "cell_type": "code",
   "execution_count": 6,
   "metadata": {},
   "outputs": [
    {
     "data": {
      "text/plain": [
       "2019    1156\n",
       "2008    1095\n",
       "2021    1086\n",
       "2011    1083\n",
       "2004    1066\n",
       "2012    1007\n",
       "2015    1003\n",
       "2007     975\n",
       "2013     968\n",
       "2017     958\n",
       "2016     928\n",
       "2009     912\n",
       "2018     908\n",
       "2014     860\n",
       "2010     854\n",
       "2006     832\n",
       "2005     799\n",
       "2020     299\n",
       "2022     272\n",
       "Name: Year, dtype: int64"
      ]
     },
     "execution_count": 6,
     "metadata": {},
     "output_type": "execute_result"
    }
   ],
   "source": [
    "game[\"Year\"].value_counts()"
   ]
  },
  {
   "cell_type": "code",
   "execution_count": 7,
   "metadata": {},
   "outputs": [
    {
     "data": {
      "text/plain": [
       "Friendly                                 5957\n",
       "FIFA World Cup qualification             4023\n",
       "UEFA Euro qualification                  1084\n",
       "African Cup of Nations qualification      744\n",
       "African Cup of Nations                    357\n",
       "UEFA Nations League                       308\n",
       "CECAFA Cup                                278\n",
       "AFC Asian Cup qualification               269\n",
       "African Nations Championship              264\n",
       "CFU Caribbean Cup qualification           264\n",
       "FIFA World Cup                            256\n",
       "Gold Cup                                  238\n",
       "COSAFA Cup                                233\n",
       "AFF Championship                          207\n",
       "UEFA Euro                                 195\n",
       "Copa América                              190\n",
       "Island Games                              185\n",
       "AFC Asian Cup                             179\n",
       "Gulf Cup                                  136\n",
       "EAFF Championship                         108\n",
       "CONCACAF Nations League                   106\n",
       "SAFF Cup                                  104\n",
       "CONIFA World Football Cup                 101\n",
       "AFC Challenge Cup                         100\n",
       "AFC Challenge Cup qualification            92\n",
       "CFU Caribbean Cup                          82\n",
       "UNCAF Cup                                  79\n",
       "WAFF Championship                          71\n",
       "CONCACAF Nations League qualification      68\n",
       "Confederations Cup                         64\n",
       "                                         ... \n",
       "South Pacific Games                        24\n",
       "ABCS Tournament                            20\n",
       "Inter Games Football Tournament            19\n",
       "Merdeka Tournament                         16\n",
       "ELF Cup                                    16\n",
       "Arab Cup qualification                     15\n",
       "Intercontinental Cup                       14\n",
       "Nile Basin Tournament                      14\n",
       "COSAFA Cup qualification                   12\n",
       "Windward Islands Tournament                12\n",
       "Oceania Nations Cup qualification          12\n",
       "Gold Cup qualification                     11\n",
       "FIFI Wild Cup                              10\n",
       "Malta International Tournament             10\n",
       "VFF Cup                                     9\n",
       "Mahinda Rajapaksa Cup                       7\n",
       "Amílcar Cabral Cup                          6\n",
       "Nations Cup                                 6\n",
       "Lunar New Year Cup                          5\n",
       "Copa del Pacífico                           4\n",
       "OSN Cup                                     4\n",
       "World Unity Cup                             4\n",
       "Navruz Cup                                  4\n",
       "Dragon Cup                                  4\n",
       "Prime Minister's Cup                        4\n",
       "Three Nations Cup                           3\n",
       "Copa Paz del Chaco                          2\n",
       "AFF Championship qualification              2\n",
       "Copa América qualification                  2\n",
       "Atlantic Heritage Cup                       2\n",
       "Name: tournament, Length: 71, dtype: int64"
      ]
     },
     "execution_count": 7,
     "metadata": {},
     "output_type": "execute_result"
    }
   ],
   "source": [
    "game[\"tournament\"].value_counts()"
   ]
  },
  {
   "cell_type": "markdown",
   "metadata": {},
   "source": [
    "# World Cup Bracket Breakdown"
   ]
  },
  {
   "cell_type": "code",
   "execution_count": 109,
   "metadata": {},
   "outputs": [],
   "source": [
    "groupA = ['Qatar', 'Ecuador', 'Netherlands', 'Senegal']\n",
    "groupB = ['England', 'Iran', 'USA', 'Wales'] # not sure w Wales\n",
    "groupC = ['Argentina', 'Poland', 'Mexico', 'Saudi Arabia']\n",
    "groupD = ['France', 'Denmark', 'Tunisia', 'Peru'] # Peru not sure\n",
    "groupE = ['Spain', 'Germany', 'Japan', 'Costa Rica'] # Costa rica not sure\n",
    "groupF = ['Belgium', 'Canada', 'Morocco', 'Croatia']\n",
    "groupG = ['Brazil', 'Serbia', 'Switzerland', 'Cameroon']\n",
    "groupH = ['Portugal', 'Ghana', 'Uruguay', 'Korea Republic']\n",
    "\n",
    "worldCupTeams = groupA + groupB + groupC + groupD + groupE + groupF + groupG + groupH\n",
    "\n",
    "# Left side\n",
    "# A1 v B2 : C2 v D2\n",
    "# E1 v F2 : G1 v H2\n",
    "\n",
    "# Right side\n",
    "# D1 v C2 : B1 v A2\n",
    "# F1 v E2 : G2 v H1"
   ]
  },
  {
   "cell_type": "code",
   "execution_count": null,
   "metadata": {},
   "outputs": [],
   "source": []
  },
  {
   "cell_type": "code",
   "execution_count": 110,
   "metadata": {},
   "outputs": [
    {
     "data": {
      "text/plain": [
       "['Qatar',\n",
       " 'Ecuador',\n",
       " 'Netherlands',\n",
       " 'Senegal',\n",
       " 'England',\n",
       " 'Iran',\n",
       " 'USA',\n",
       " 'Wales',\n",
       " 'Argentina',\n",
       " 'Poland',\n",
       " 'Mexico',\n",
       " 'Saudi Arabia',\n",
       " 'France',\n",
       " 'Denmark',\n",
       " 'Tunisia',\n",
       " 'Peru',\n",
       " 'Spain',\n",
       " 'Germany',\n",
       " 'Japan',\n",
       " 'Costa Rica',\n",
       " 'Belgium',\n",
       " 'Canada',\n",
       " 'Morocco',\n",
       " 'Croatia',\n",
       " 'Brazil',\n",
       " 'Serbia',\n",
       " 'Switzerland',\n",
       " 'Cameroon',\n",
       " 'Portugal',\n",
       " 'Ghana',\n",
       " 'Uruguay',\n",
       " 'Korea Republic']"
      ]
     },
     "execution_count": 110,
     "metadata": {},
     "output_type": "execute_result"
    }
   ],
   "source": [
    "worldCupTeams"
   ]
  },
  {
   "cell_type": "markdown",
   "metadata": {},
   "source": [
    "# THIS ONE WORKS"
   ]
  },
  {
   "cell_type": "code",
   "execution_count": 98,
   "metadata": {},
   "outputs": [
    {
     "name": "stderr",
     "output_type": "stream",
     "text": [
      "C:\\Users\\Kyle\\Anaconda3\\lib\\site-packages\\ipykernel_launcher.py:6: DeprecationWarning: executable_path has been deprecated, please pass in a Service object\n",
      "  \n",
      "C:\\Users\\Kyle\\Anaconda3\\lib\\site-packages\\ipykernel_launcher.py:11: DeprecationWarning: find_element_by_xpath is deprecated. Please use find_element(by=By.XPATH, value=xpath) instead\n",
      "  # This is added back by InteractiveShellApp.init_path()\n",
      "C:\\Users\\Kyle\\Anaconda3\\lib\\site-packages\\ipykernel_launcher.py:32: DeprecationWarning: find_element_by_xpath is deprecated. Please use find_element(by=By.XPATH, value=xpath) instead\n"
     ]
    }
   ],
   "source": [
    "# Need to use the driver: https://stackoverflow.com/questions/52687372/beautifulsoup-not-returning-complete-html-of-the-page\n",
    "import time\n",
    "from bs4 import BeautifulSoup\n",
    "from selenium import webdriver\n",
    "\n",
    "driver = webdriver.Chrome(executable_path=r\"C:/Users/Kyle/Downloads/chromedriver_win32/chromedriver.exe\")\n",
    "driver.get(url)\n",
    "time.sleep(3) #if you want to wait 3 seconds for the page to load\n",
    "#driver.find_element_by_link_text(\"I'm OK with that\").click()\n",
    "#driver.find_element_by_xpath('//button[normalize-space()=I'm OK with that]').click()\n",
    "driver.find_element_by_xpath(\"//button[@id='onetrust-accept-btn-handler']\").click()\n",
    "page_source = driver.page_source\n",
    "soup = BeautifulSoup(page_source, 'lxml')\n",
    "#print(soup.prettify())\n",
    "\n",
    "s = soup.find_all('tr', class_='fc-ranking-item-full_rankingTableFullRow__1nbp7')\n",
    "# print(s)\n",
    "rankedTeams = []\n",
    "\n",
    "# for link in soup.findAll('tr', class_='fc-ranking-item-full_rankingTableFullRow__1nbp7'):\n",
    "#         print(link.get('onclick'))\n",
    "for line in s:\n",
    "    # Each line contains the container for a team\n",
    "    teamName = line.find('span', class_='d-none d-lg-block')\n",
    "    teamName = teamName.text\n",
    "    rankedTeams.append(teamName)\n",
    "    teamPoints = line.find('div', class_=\"d-flex ff-mr-16\")\n",
    "\n",
    "#driver.find_elements_by_xpath('//*[@id=\"content\"]/main/section[2]/div/div/div[2]/div/div/div/div/div[2]/div[2]').click()\n",
    "# driver.find_element_by_css_selector()\n",
    "#python_button.click()\n",
    "driver.find_element_by_xpath(\"//div[@aria-label='Go to Page 2']\").click()\n",
    "page_source = driver.page_source\n",
    "soup2 = BeautifulSoup(page_source, 'lxml')\n",
    "#print(soup2.prettify())\n",
    "s = soup2.find_all('tr', class_='fc-ranking-item-full_rankingTableFullRow__1nbp7')\n",
    "for line in s:\n",
    "    # Each line contains the container for a team\n",
    "    teamName = line.find('span', class_='d-none d-lg-block')\n",
    "    teamName = teamName.text\n",
    "    rankedTeams.append(teamName)\n",
    "    teamPoints = line.find('div', class_=\"d-flex ff-mr-16\")"
   ]
  },
  {
   "cell_type": "code",
   "execution_count": 99,
   "metadata": {},
   "outputs": [
    {
     "data": {
      "text/plain": [
       "['Brazil',\n",
       " 'Belgium',\n",
       " 'France',\n",
       " 'Argentina',\n",
       " 'England',\n",
       " 'Italy',\n",
       " 'Spain',\n",
       " 'Portugal',\n",
       " 'Mexico',\n",
       " 'Netherlands',\n",
       " 'Denmark',\n",
       " 'Germany',\n",
       " 'Uruguay',\n",
       " 'Switzerland',\n",
       " 'USA',\n",
       " 'Croatia',\n",
       " 'Colombia',\n",
       " 'Wales',\n",
       " 'Sweden',\n",
       " 'Senegal',\n",
       " 'IR Iran',\n",
       " 'Peru',\n",
       " 'Japan',\n",
       " 'Morocco',\n",
       " 'Serbia',\n",
       " 'Poland',\n",
       " 'Ukraine',\n",
       " 'Chile',\n",
       " 'Korea Republic',\n",
       " 'Nigeria',\n",
       " 'Costa Rica',\n",
       " 'Egypt',\n",
       " 'Czech Republic',\n",
       " 'Austria',\n",
       " 'Tunisia',\n",
       " 'Russia',\n",
       " 'Cameroon',\n",
       " 'Canada',\n",
       " 'Scotland',\n",
       " 'Hungary',\n",
       " 'Norway',\n",
       " 'Australia',\n",
       " 'Turkey',\n",
       " 'Algeria',\n",
       " 'Slovakia',\n",
       " 'Ecuador',\n",
       " 'Republic of Ireland',\n",
       " 'Romania',\n",
       " 'Saudi Arabia',\n",
       " 'Paraguay',\n",
       " 'Qatar',\n",
       " 'Mali',\n",
       " \"Côte d'Ivoire\",\n",
       " 'Northern Ireland',\n",
       " 'Greece',\n",
       " 'Burkina Faso',\n",
       " 'Finland',\n",
       " 'Venezuela',\n",
       " 'Bosnia and Herzegovina',\n",
       " 'Ghana',\n",
       " 'Panama',\n",
       " 'North Macedonia',\n",
       " 'Iceland',\n",
       " 'Jamaica',\n",
       " 'Slovenia',\n",
       " 'Albania',\n",
       " 'Congo DR',\n",
       " 'United Arab Emirates',\n",
       " 'South Africa',\n",
       " 'Montenegro',\n",
       " 'Cabo Verde',\n",
       " 'Iraq',\n",
       " 'Bulgaria',\n",
       " 'El Salvador',\n",
       " 'Oman',\n",
       " 'Israel',\n",
       " 'China PR',\n",
       " 'Bolivia',\n",
       " 'Curaçao',\n",
       " 'Guinea',\n",
       " 'Gabon',\n",
       " 'Honduras',\n",
       " 'Uzbekistan',\n",
       " 'Benin',\n",
       " 'Georgia',\n",
       " 'Uganda',\n",
       " 'Zambia',\n",
       " 'Syria',\n",
       " 'Bahrain',\n",
       " 'Haiti',\n",
       " 'Jordan',\n",
       " 'Armenia',\n",
       " 'Belarus',\n",
       " 'Luxembourg',\n",
       " 'Kyrgyz Republic',\n",
       " 'Vietnam',\n",
       " 'Lebanon',\n",
       " 'Congo',\n",
       " 'Equatorial Guinea',\n",
       " 'Palestine']"
      ]
     },
     "execution_count": 99,
     "metadata": {},
     "output_type": "execute_result"
    }
   ],
   "source": [
    "rankedTeams"
   ]
  },
  {
   "cell_type": "markdown",
   "metadata": {},
   "source": [
    "# Current Work"
   ]
  },
  {
   "cell_type": "code",
   "execution_count": 100,
   "metadata": {},
   "outputs": [
    {
     "data": {
      "text/html": [
       "<div>\n",
       "<style scoped>\n",
       "    .dataframe tbody tr th:only-of-type {\n",
       "        vertical-align: middle;\n",
       "    }\n",
       "\n",
       "    .dataframe tbody tr th {\n",
       "        vertical-align: top;\n",
       "    }\n",
       "\n",
       "    .dataframe thead th {\n",
       "        text-align: right;\n",
       "    }\n",
       "</style>\n",
       "<table border=\"1\" class=\"dataframe\">\n",
       "  <thead>\n",
       "    <tr style=\"text-align: right;\">\n",
       "      <th></th>\n",
       "      <th>date</th>\n",
       "      <th>home_team</th>\n",
       "      <th>away_team</th>\n",
       "      <th>home_score</th>\n",
       "      <th>away_score</th>\n",
       "      <th>tournament</th>\n",
       "      <th>city</th>\n",
       "      <th>country</th>\n",
       "      <th>neutral</th>\n",
       "      <th>Year</th>\n",
       "    </tr>\n",
       "  </thead>\n",
       "  <tbody>\n",
       "    <tr>\n",
       "      <th>26360</th>\n",
       "      <td>2004-01-01</td>\n",
       "      <td>Bahrain</td>\n",
       "      <td>Saudi Arabia</td>\n",
       "      <td>0.0</td>\n",
       "      <td>1.0</td>\n",
       "      <td>Gulf Cup</td>\n",
       "      <td>Kuwait City</td>\n",
       "      <td>Kuwait</td>\n",
       "      <td>1.0</td>\n",
       "      <td>2004</td>\n",
       "    </tr>\n",
       "    <tr>\n",
       "      <th>26361</th>\n",
       "      <td>2004-01-01</td>\n",
       "      <td>Bermuda</td>\n",
       "      <td>Barbados</td>\n",
       "      <td>0.0</td>\n",
       "      <td>4.0</td>\n",
       "      <td>Friendly</td>\n",
       "      <td>Hamilton</td>\n",
       "      <td>Bermuda</td>\n",
       "      <td>0.0</td>\n",
       "      <td>2004</td>\n",
       "    </tr>\n",
       "    <tr>\n",
       "      <th>26362</th>\n",
       "      <td>2004-01-01</td>\n",
       "      <td>Kuwait</td>\n",
       "      <td>Yemen</td>\n",
       "      <td>4.0</td>\n",
       "      <td>0.0</td>\n",
       "      <td>Gulf Cup</td>\n",
       "      <td>Kuwait City</td>\n",
       "      <td>Kuwait</td>\n",
       "      <td>0.0</td>\n",
       "      <td>2004</td>\n",
       "    </tr>\n",
       "    <tr>\n",
       "      <th>26363</th>\n",
       "      <td>2004-01-03</td>\n",
       "      <td>Oman</td>\n",
       "      <td>Bahrain</td>\n",
       "      <td>0.0</td>\n",
       "      <td>1.0</td>\n",
       "      <td>Gulf Cup</td>\n",
       "      <td>Kuwait City</td>\n",
       "      <td>Kuwait</td>\n",
       "      <td>1.0</td>\n",
       "      <td>2004</td>\n",
       "    </tr>\n",
       "    <tr>\n",
       "      <th>26364</th>\n",
       "      <td>2004-01-03</td>\n",
       "      <td>United Arab Emirates</td>\n",
       "      <td>Qatar</td>\n",
       "      <td>0.0</td>\n",
       "      <td>0.0</td>\n",
       "      <td>Gulf Cup</td>\n",
       "      <td>Kuwait City</td>\n",
       "      <td>Kuwait</td>\n",
       "      <td>1.0</td>\n",
       "      <td>2004</td>\n",
       "    </tr>\n",
       "  </tbody>\n",
       "</table>\n",
       "</div>"
      ],
      "text/plain": [
       "             date             home_team     away_team  home_score  away_score  \\\n",
       "26360  2004-01-01               Bahrain  Saudi Arabia         0.0         1.0   \n",
       "26361  2004-01-01               Bermuda      Barbados         0.0         4.0   \n",
       "26362  2004-01-01                Kuwait         Yemen         4.0         0.0   \n",
       "26363  2004-01-03                  Oman       Bahrain         0.0         1.0   \n",
       "26364  2004-01-03  United Arab Emirates         Qatar         0.0         0.0   \n",
       "\n",
       "      tournament         city  country  neutral  Year  \n",
       "26360   Gulf Cup  Kuwait City   Kuwait      1.0  2004  \n",
       "26361   Friendly     Hamilton  Bermuda      0.0  2004  \n",
       "26362   Gulf Cup  Kuwait City   Kuwait      0.0  2004  \n",
       "26363   Gulf Cup  Kuwait City   Kuwait      1.0  2004  \n",
       "26364   Gulf Cup  Kuwait City   Kuwait      1.0  2004  "
      ]
     },
     "execution_count": 100,
     "metadata": {},
     "output_type": "execute_result"
    }
   ],
   "source": [
    "game.head(5)"
   ]
  },
  {
   "cell_type": "code",
   "execution_count": 191,
   "metadata": {},
   "outputs": [
    {
     "data": {
      "text/plain": [
       "['Abkhazia',\n",
       " 'Afghanistan',\n",
       " 'Albania',\n",
       " 'Alderney',\n",
       " 'Algeria',\n",
       " 'American Samoa',\n",
       " 'Andalusia',\n",
       " 'Andorra',\n",
       " 'Angola',\n",
       " 'Anguilla',\n",
       " 'Antigua and Barbuda',\n",
       " 'Arameans Suryoye',\n",
       " 'Argentina',\n",
       " 'Armenia',\n",
       " 'Artsakh',\n",
       " 'Aruba',\n",
       " 'Australia',\n",
       " 'Austria',\n",
       " 'Azerbaijan',\n",
       " 'Bahamas',\n",
       " 'Bahrain',\n",
       " 'Bangladesh',\n",
       " 'Barawa',\n",
       " 'Barbados',\n",
       " 'Basque Country',\n",
       " 'Belarus',\n",
       " 'Belgium',\n",
       " 'Belize',\n",
       " 'Benin',\n",
       " 'Bermuda',\n",
       " 'Bhutan',\n",
       " 'Bolivia',\n",
       " 'Bonaire',\n",
       " 'Bosnia and Herzegovina',\n",
       " 'Botswana',\n",
       " 'Brazil',\n",
       " 'British Virgin Islands',\n",
       " 'Brittany',\n",
       " 'Brunei',\n",
       " 'Brunei Darussalam',\n",
       " 'Bulgaria',\n",
       " 'Burkina Faso',\n",
       " 'Burundi',\n",
       " 'Cambodia',\n",
       " 'Cameroon',\n",
       " 'Canada',\n",
       " 'Canary Islands',\n",
       " 'Cape Verde',\n",
       " 'Cascadia',\n",
       " 'Catalonia',\n",
       " 'Cayman Islands',\n",
       " 'Central African Republic',\n",
       " 'Chad',\n",
       " 'Chagos Islands',\n",
       " 'Chameria',\n",
       " 'Chile',\n",
       " 'China PR',\n",
       " 'Colombia',\n",
       " 'Comoros',\n",
       " 'Congo',\n",
       " 'Cook Islands',\n",
       " 'Corsica',\n",
       " 'Costa Rica',\n",
       " 'County of Nice',\n",
       " 'Crimea',\n",
       " 'Croatia',\n",
       " 'Cuba',\n",
       " 'Curaçao',\n",
       " 'Cyprus',\n",
       " 'Czech Republic',\n",
       " 'DR Congo',\n",
       " 'Darfur',\n",
       " 'Denmark',\n",
       " 'Djibouti',\n",
       " 'Dominica',\n",
       " 'Dominican Republic',\n",
       " 'Ecuador',\n",
       " 'Egypt',\n",
       " 'El Salvador',\n",
       " 'Ellan Vannin',\n",
       " 'England',\n",
       " 'Equatorial Guinea',\n",
       " 'Eritrea',\n",
       " 'Estonia',\n",
       " 'Eswatini',\n",
       " 'Ethiopia',\n",
       " 'Falkland Islands',\n",
       " 'Faroe Islands',\n",
       " 'Felvidék',\n",
       " 'Fiji',\n",
       " 'Finland',\n",
       " 'France',\n",
       " 'French Guiana',\n",
       " 'Frøya',\n",
       " 'Gabon',\n",
       " 'Galicia',\n",
       " 'Gambia',\n",
       " 'Georgia',\n",
       " 'Germany',\n",
       " 'Ghana',\n",
       " 'Gibraltar',\n",
       " 'Gotland',\n",
       " 'Gozo',\n",
       " 'Greece',\n",
       " 'Greenland',\n",
       " 'Grenada',\n",
       " 'Guadeloupe',\n",
       " 'Guam',\n",
       " 'Guatemala',\n",
       " 'Guernsey',\n",
       " 'Guinea',\n",
       " 'Guinea-Bissau',\n",
       " 'Guyana',\n",
       " 'Găgăuzia',\n",
       " 'Haiti',\n",
       " 'Hitra',\n",
       " 'Honduras',\n",
       " 'Hong Kong',\n",
       " 'Hungary',\n",
       " 'Iceland',\n",
       " 'India',\n",
       " 'Indonesia',\n",
       " 'Iran',\n",
       " 'Iraq',\n",
       " 'Iraqi Kurdistan',\n",
       " 'Isle of Man',\n",
       " 'Isle of Wight',\n",
       " 'Israel',\n",
       " 'Italy',\n",
       " 'Ivory Coast',\n",
       " 'Jamaica',\n",
       " 'Japan',\n",
       " 'Jersey',\n",
       " 'Jordan',\n",
       " 'Kabylia',\n",
       " 'Kazakhstan',\n",
       " 'Kenya',\n",
       " 'Kernow',\n",
       " 'Kiribati',\n",
       " 'Kosovo',\n",
       " 'Kuwait',\n",
       " 'Kyrgyzstan',\n",
       " 'Kárpátalja',\n",
       " 'Laos',\n",
       " 'Latvia',\n",
       " 'Lebanon',\n",
       " 'Lesotho',\n",
       " 'Liberia',\n",
       " 'Libya',\n",
       " 'Liechtenstein',\n",
       " 'Lithuania',\n",
       " 'Luxembourg',\n",
       " 'Macau',\n",
       " 'Madagascar',\n",
       " 'Madrid',\n",
       " 'Malawi',\n",
       " 'Malaysia',\n",
       " 'Maldives',\n",
       " 'Mali',\n",
       " 'Malta',\n",
       " 'Martinique',\n",
       " 'Matabeleland',\n",
       " 'Mauritania',\n",
       " 'Mauritius',\n",
       " 'Mayotte',\n",
       " 'Menorca',\n",
       " 'Mexico',\n",
       " 'Moldova',\n",
       " 'Monaco',\n",
       " 'Mongolia',\n",
       " 'Montenegro',\n",
       " 'Montserrat',\n",
       " 'Morocco',\n",
       " 'Mozambique',\n",
       " 'Myanmar',\n",
       " 'Namibia',\n",
       " 'Nepal',\n",
       " 'Netherlands',\n",
       " 'New Caledonia',\n",
       " 'New Zealand',\n",
       " 'Nicaragua',\n",
       " 'Niger',\n",
       " 'Nigeria',\n",
       " 'North Korea',\n",
       " 'North Macedonia',\n",
       " 'Northern Cyprus',\n",
       " 'Northern Ireland',\n",
       " 'Northern Mariana Islands',\n",
       " 'Norway',\n",
       " 'Occitania',\n",
       " 'Oman',\n",
       " 'Orkney',\n",
       " 'Padania',\n",
       " 'Pakistan',\n",
       " 'Palestine',\n",
       " 'Panama',\n",
       " 'Panjab',\n",
       " 'Papua New Guinea',\n",
       " 'Paraguay',\n",
       " 'Parishes of Jersey',\n",
       " 'Peru',\n",
       " 'Philippines',\n",
       " 'Poland',\n",
       " 'Portugal',\n",
       " 'Provence',\n",
       " 'Puerto Rico',\n",
       " 'Qatar',\n",
       " 'Raetia',\n",
       " 'Republic of Ireland',\n",
       " 'Republic of St. Pauli',\n",
       " 'Rhodes',\n",
       " 'Romani people',\n",
       " 'Romania',\n",
       " 'Russia',\n",
       " 'Rwanda',\n",
       " 'Réunion',\n",
       " 'Saare County',\n",
       " 'Saint Helena',\n",
       " 'Saint Kitts and Nevis',\n",
       " 'Saint Lucia',\n",
       " 'Saint Martin',\n",
       " 'Saint Pierre and Miquelon',\n",
       " 'Saint Vincent and the Grenadines',\n",
       " 'Samoa',\n",
       " 'San Marino',\n",
       " 'Saudi Arabia',\n",
       " 'Scotland',\n",
       " 'Senegal',\n",
       " 'Serbia',\n",
       " 'Seychelles',\n",
       " 'Shetland',\n",
       " 'Sierra Leone',\n",
       " 'Silesia',\n",
       " 'Singapore',\n",
       " 'Sint Maarten',\n",
       " 'Slovakia',\n",
       " 'Slovenia',\n",
       " 'Solomon Islands',\n",
       " 'Somalia',\n",
       " 'Somaliland',\n",
       " 'South Africa',\n",
       " 'South Korea',\n",
       " 'South Ossetia',\n",
       " 'South Sudan',\n",
       " 'Spain',\n",
       " 'Sri Lanka',\n",
       " 'Sudan',\n",
       " 'Suriname',\n",
       " 'Surrey',\n",
       " 'Sweden',\n",
       " 'Switzerland',\n",
       " 'Syria',\n",
       " 'Székely Land',\n",
       " 'Sápmi',\n",
       " 'São Tomé and Príncipe',\n",
       " 'Tahiti',\n",
       " 'Taiwan',\n",
       " 'Tajikistan',\n",
       " 'Tamil Eelam',\n",
       " 'Tanzania',\n",
       " 'Thailand',\n",
       " 'Tibet',\n",
       " 'Timor-Leste',\n",
       " 'Togo',\n",
       " 'Tonga',\n",
       " 'Trinidad and Tobago',\n",
       " 'Tunisia',\n",
       " 'Turkey',\n",
       " 'Turkmenistan',\n",
       " 'Turks and Caicos Islands',\n",
       " 'Tuvalu',\n",
       " 'Two Sicilies',\n",
       " 'Uganda',\n",
       " 'Ukraine',\n",
       " 'United Arab Emirates',\n",
       " 'United Koreans in Japan',\n",
       " 'United States',\n",
       " 'United States Virgin Islands',\n",
       " 'Uruguay',\n",
       " 'Uzbekistan',\n",
       " 'Vanuatu',\n",
       " 'Vatican City',\n",
       " 'Venezuela',\n",
       " 'Vietnam',\n",
       " 'Wales',\n",
       " 'Western Armenia',\n",
       " 'Western Isles',\n",
       " 'Western Sahara',\n",
       " 'Yemen',\n",
       " 'Ynys Môn',\n",
       " 'Yorkshire',\n",
       " 'Zambia',\n",
       " 'Zanzibar',\n",
       " 'Zimbabwe',\n",
       " 'Åland Islands']"
      ]
     },
     "execution_count": 191,
     "metadata": {},
     "output_type": "execute_result"
    }
   ],
   "source": [
    "home = game[\"home_team\"].unique()\n",
    "away = game[\"away_team\"].unique()\n",
    "allTeams = list(set(home).union(set(away)))\n",
    "allTeams.sort()\n",
    "allTeams"
   ]
  },
  {
   "cell_type": "code",
   "execution_count": 108,
   "metadata": {},
   "outputs": [
    {
     "data": {
      "text/plain": [
       "295"
      ]
     },
     "execution_count": 108,
     "metadata": {},
     "output_type": "execute_result"
    }
   ],
   "source": [
    "len(allTeams)"
   ]
  },
  {
   "cell_type": "code",
   "execution_count": 113,
   "metadata": {},
   "outputs": [
    {
     "data": {
      "text/plain": [
       "{'Iran'}"
      ]
     },
     "execution_count": 113,
     "metadata": {},
     "output_type": "execute_result"
    }
   ],
   "source": [
    "missingTeams = set(worldCupTeams).difference(set(rankedTeams))\n",
    "missingTeams"
   ]
  },
  {
   "cell_type": "markdown",
   "metadata": {},
   "source": [
    "## 4. Feature Engineering and Feature Selection"
   ]
  },
  {
   "cell_type": "code",
   "execution_count": null,
   "metadata": {},
   "outputs": [],
   "source": []
  },
  {
   "cell_type": "markdown",
   "metadata": {},
   "source": [
    "## 5. Model Training and Model Evaluation"
   ]
  },
  {
   "cell_type": "code",
   "execution_count": null,
   "metadata": {},
   "outputs": [],
   "source": []
  },
  {
   "cell_type": "markdown",
   "metadata": {},
   "source": [
    "## 6. Hyperparameter Tuning and Evaluation"
   ]
  },
  {
   "cell_type": "code",
   "execution_count": null,
   "metadata": {},
   "outputs": [],
   "source": []
  },
  {
   "cell_type": "markdown",
   "metadata": {},
   "source": [
    "## 7. Prediction"
   ]
  },
  {
   "cell_type": "code",
   "execution_count": null,
   "metadata": {},
   "outputs": [],
   "source": []
  },
  {
   "cell_type": "markdown",
   "metadata": {},
   "source": [
    "## 8. References"
   ]
  },
  {
   "cell_type": "markdown",
   "metadata": {},
   "source": [
    "[1] Deploying Machine Learning Model Using Heroku. https://datamahadev.com/deploying-machine-learning-model-using-heroku/\n",
    "\n",
    "[2] Using Machine Learning to Simulate World Cup Matches. https://towardsdatascience.com/using-machine-learning-to-simulate-world-cup-matches-959e24d0731\n",
    "\n",
    "[3] World Cup 2018 Prediction. https://www.kaggle.com/code/agostontorok/soccer-world-cup-2018-winner"
   ]
  }
 ],
 "metadata": {
  "kernelspec": {
   "display_name": "Python 3",
   "language": "python",
   "name": "python3"
  },
  "language_info": {
   "codemirror_mode": {
    "name": "ipython",
    "version": 3
   },
   "file_extension": ".py",
   "mimetype": "text/x-python",
   "name": "python",
   "nbconvert_exporter": "python",
   "pygments_lexer": "ipython3",
   "version": "3.7.4"
  }
 },
 "nbformat": 4,
 "nbformat_minor": 5
}
