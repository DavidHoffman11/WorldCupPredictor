{
 "cells": [
  {
   "cell_type": "markdown",
   "id": "2bf96037-4326-433f-a31e-fc95cc833d62",
   "metadata": {},
   "source": [
    "# World Cup Prediction Model\n",
    "### By: David Hoffman and Kyle Kolodziej"
   ]
  },
  {
   "cell_type": "markdown",
   "id": "e7471c57-c540-41f5-9f38-2245d27c146e",
   "metadata": {},
   "source": [
    "## 1. Problem Definition"
   ]
  },
  {
   "cell_type": "markdown",
   "id": "a691fd27-b7d5-4859-944e-9662fdf5cc93",
   "metadata": {},
   "source": [
    "For this project we would like to take the most recent world cup data (including each team that is playing in the tournament and the different statistical evaluations for these teams) and use this data to predict the percentage for success that a user imputed team has.  The user will be able to input a specific team and different attack and defense ratings for that team and the model will be able to remove that team from the dataset and predict the success percentage for that team given the inputed data.  This will allow a person to see the success percentages of their chosen team given its current data or in a hypothetical situation where its attack or defense is better than it actually is."
   ]
  },
  {
   "cell_type": "markdown",
   "id": "bb3e3f08-1f89-4e65-95f5-4a2cbd943cad",
   "metadata": {},
   "source": [
    "## 2. Data Gathering"
   ]
  },
  {
   "cell_type": "code",
   "execution_count": null,
   "id": "9e1777ef-2f78-4687-9a04-81c9a30ecd87",
   "metadata": {},
   "outputs": [],
   "source": []
  },
  {
   "cell_type": "markdown",
   "id": "88756e77-4876-4021-9c81-e76361f30050",
   "metadata": {},
   "source": [
    "## 3. Data Preperation and EDA"
   ]
  },
  {
   "cell_type": "code",
   "execution_count": null,
   "id": "2ef4ee0c-6817-47d3-acf9-145c9f706cd8",
   "metadata": {},
   "outputs": [],
   "source": []
  },
  {
   "cell_type": "markdown",
   "id": "85a528c1-1d7f-44d6-94f5-2535c62899d1",
   "metadata": {},
   "source": [
    "## 4. Feature Engineering and Feature Selection"
   ]
  },
  {
   "cell_type": "code",
   "execution_count": null,
   "id": "2420c72d-497a-442e-a7ae-d4c89e59e090",
   "metadata": {},
   "outputs": [],
   "source": []
  },
  {
   "cell_type": "markdown",
   "id": "be237450-3257-4c22-80a7-114faabdfb06",
   "metadata": {},
   "source": [
    "## 5. Model Training and Model Evaluation"
   ]
  },
  {
   "cell_type": "code",
   "execution_count": null,
   "id": "01c07d74-44a3-4194-b28b-886436a027bc",
   "metadata": {},
   "outputs": [],
   "source": []
  },
  {
   "cell_type": "markdown",
   "id": "c42b286d-9023-4791-b08f-001ce61e9823",
   "metadata": {},
   "source": [
    "## 6. Hyperparameter Tuning and Evaluation"
   ]
  },
  {
   "cell_type": "code",
   "execution_count": null,
   "id": "dac4c920-8b6e-4ab1-bcdd-6991af4807fb",
   "metadata": {},
   "outputs": [],
   "source": []
  },
  {
   "cell_type": "markdown",
   "id": "40e0774c-93b0-4dce-a738-87e8b8f25cf5",
   "metadata": {},
   "source": [
    "## 7. Prediction"
   ]
  },
  {
   "cell_type": "code",
   "execution_count": null,
   "id": "60ea6cf6-f0d3-496f-a2ab-05e1a44b8091",
   "metadata": {},
   "outputs": [],
   "source": []
  },
  {
   "cell_type": "markdown",
   "id": "6048ff14-09bd-400d-826e-152ec35a8761",
   "metadata": {},
   "source": [
    "## 8. References"
   ]
  },
  {
   "cell_type": "markdown",
   "id": "3fc7b3e4-bcc2-47b0-a8eb-547a100a9f25",
   "metadata": {},
   "source": [
    "[1] Deploying Machine Learning Model Using Heroku. https://datamahadev.com/deploying-machine-learning-model-using-heroku/\n",
    "\n",
    "[2] Using Machine Learning to Simulate World Cup Matches. https://towardsdatascience.com/using-machine-learning-to-simulate-world-cup-matches-959e24d0731"
   ]
  }
 ],
 "metadata": {
  "kernelspec": {
   "display_name": "Python 3",
   "language": "python",
   "name": "python3"
  },
  "language_info": {
   "codemirror_mode": {
    "name": "ipython",
    "version": 3
   },
   "file_extension": ".py",
   "mimetype": "text/x-python",
   "name": "python",
   "nbconvert_exporter": "python",
   "pygments_lexer": "ipython3",
   "version": "3.8.8"
  }
 },
 "nbformat": 4,
 "nbformat_minor": 5
}
