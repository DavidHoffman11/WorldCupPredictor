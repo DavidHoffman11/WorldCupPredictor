{
 "cells": [
  {
   "cell_type": "code",
   "execution_count": null,
   "metadata": {},
   "outputs": [],
   "source": [
    "import pandas as pd\n",
    "import re\n",
    "import requests\n",
    "from bs4 import BeautifulSoup\n",
    "\n",
    "# Code on how to get data extracted from all the teams for all years on both pages of FIFA's International rankings\n",
    "data = pd.DataFrame(columns=['Year', 'Team', 'att', 'mid', 'def', 'ovr'])\n",
    "version = 0\n",
    "for fifa in range(5, 24):\n",
    "    toFind = True\n",
    "    print(\"On fifa \", fifa)\n",
    "    while toFind:\n",
    "        version += 1\n",
    "        #print(\"here\")\n",
    "        for page in range(2):\n",
    "            # https://www.fifaindex.com/teams/fifa22_527/?page=1&type=1\n",
    "            #print(version)\n",
    "            webAddress = \"\"\n",
    "            toCheck = \"\" # check matching version in responses title\n",
    "            if fifa < 10:\n",
    "                toCheck = '0' + str(fifa)\n",
    "                webAddress = 'https://www.fifaindex.com/teams/fifa0' + str(fifa) + '_' + str(version) + '/?page=' + str(page+1)+'&type=1'\n",
    "            elif fifa < 23:\n",
    "                toCheck = str(fifa)\n",
    "                webAddress = 'https://www.fifaindex.com/teams/fifa' + str(fifa) + '_' + str(version) + '/?page=' + str(page+1)+'&type=1'\n",
    "            else:\n",
    "                # Get current stats\n",
    "                toCheck = str(fifa - 1)\n",
    "                webAddress = 'https://www.fifaindex.com/teams/?page=' + str(page+1) + '&type=1'\n",
    "            r = requests.get(webAddress)\n",
    "\n",
    "            if r.status_code != 200:\n",
    "                print(\"Error getting web address\")\n",
    "                version += 1\n",
    "                break\n",
    "    #         else:\n",
    "    #             print(fifa, version, page, )\n",
    "    #             print(r.status_code , webAddress)\n",
    "\n",
    "            soup = BeautifulSoup(r.content, 'html.parser')\n",
    "\n",
    "            #print(soup.prettify())\n",
    "            \n",
    "            if toCheck not in str(soup.title):\n",
    "#                 print(\"not in title!\")\n",
    "#                 print(\"Title: \" + str(soup.title))\n",
    "#                 print(\"Fifa: \" + toCheck + \"\\n\")\n",
    "                break\n",
    "            else:\n",
    "                toFind = False\n",
    "            s = soup.find('table', class_='table table-striped table-teams')\n",
    "            content = s.find_all('td')\n",
    "\n",
    "            year = 1999 + fifa # Need to update\n",
    "            team, attRate, midRate, defRate, ovrRate  = '', None, None, None, None\n",
    "            # teams = []\n",
    "            i = 0\n",
    "            for line in content:\n",
    "                if line.text != '' and line.text != 'International' and line.text != '\\n\\n':\n",
    "                    # Teams was keeping track of all lines parsed, useful for seeing which index corresponds with an attribute\n",
    "                    # teams.append(line.text)\n",
    "                    # Assign value to respective variable\n",
    "                    if i == 0:\n",
    "                        team = line.text\n",
    "                    elif i == 1:\n",
    "                        attRate = line.text\n",
    "                    elif i == 2:\n",
    "                        midRate = line.text\n",
    "                    elif i == 3:\n",
    "                        defRate = line.text\n",
    "                    elif i == 4:\n",
    "                        ovrRate = line.text\n",
    "                        df2 = pd.DataFrame({'Year': [year],\n",
    "                                'Team': [team],\n",
    "                                'att': [attRate],\n",
    "                                'mid': [midRate],\n",
    "                                'def': [defRate],\n",
    "                                'ovr': [ovrRate]})\n",
    "                        data = data.append(df2, ignore_index = True)\n",
    "\n",
    "                    # Update i\n",
    "                    # If i is at 5, reset to 0 as at the start of a new team in the content\n",
    "                    i += 1\n",
    "                    if i == 5:\n",
    "                        i = 0"
   ]
  },
  {
   "cell_type": "code",
   "execution_count": null,
   "metadata": {},
   "outputs": [],
   "source": [
    "data.tail(5)"
   ]
  },
  {
   "cell_type": "markdown",
   "metadata": {},
   "source": [
    "Get previous game data"
   ]
  },
  {
   "cell_type": "code",
   "execution_count": null,
   "metadata": {},
   "outputs": [],
   "source": [
    "game = pd.read_csv(\"results.csv\")\n",
    "game[\"Year\"] = game.date.str[:4].astype(str) # string splice first 4 letters of entire date column"
   ]
  },
  {
   "cell_type": "code",
   "execution_count": null,
   "metadata": {},
   "outputs": [],
   "source": [
    "game.head(5)"
   ]
  },
  {
   "cell_type": "code",
   "execution_count": null,
   "metadata": {},
   "outputs": [],
   "source": [
    "# Drop data from before 2004 as don't have any metrics\n",
    "import numpy as np\n",
    "game = game.where(game['Year'] >= '2004')\n",
    "game = game.dropna()\n",
    "game.head(5)"
   ]
  },
  {
   "cell_type": "code",
   "execution_count": null,
   "metadata": {},
   "outputs": [],
   "source": [
    "game.info()"
   ]
  },
  {
   "cell_type": "code",
   "execution_count": null,
   "metadata": {},
   "outputs": [],
   "source": [
    "game[\"Year\"].value_counts()"
   ]
  },
  {
   "cell_type": "code",
   "execution_count": null,
   "metadata": {},
   "outputs": [],
   "source": [
    "game[\"tournament\"].value_counts()"
   ]
  }
 ],
 "metadata": {
  "kernelspec": {
   "display_name": "Python 3",
   "language": "python",
   "name": "python3"
  },
  "language_info": {
   "codemirror_mode": {
    "name": "ipython",
    "version": 3
   },
   "file_extension": ".py",
   "mimetype": "text/x-python",
   "name": "python",
   "nbconvert_exporter": "python",
   "pygments_lexer": "ipython3",
   "version": "3.7.4"
  }
 },
 "nbformat": 4,
 "nbformat_minor": 2
}
